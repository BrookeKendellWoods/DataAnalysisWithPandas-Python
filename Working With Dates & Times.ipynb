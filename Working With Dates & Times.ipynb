{
 "cells": [
  {
   "cell_type": "code",
   "execution_count": null,
   "metadata": {},
   "outputs": [],
   "source": [
    "import pandas as pd\n",
    "import datetime as dt #import datetime library with alias dt "
   ]
  },
  {
   "cell_type": "code",
   "execution_count": null,
   "metadata": {},
   "outputs": [],
   "source": [
    "#date time is part of the python language while pandas is not. "
   ]
  },
  {
   "cell_type": "markdown",
   "metadata": {},
   "source": [
    "# Review of Python datetime object"
   ]
  },
  {
   "cell_type": "code",
   "execution_count": null,
   "metadata": {},
   "outputs": [],
   "source": [
    "#there is a datetime method we can call on the date time library.Within the datetime module there is a datetime method. date is an object used to store a date(included a year month a day) while a datetime will include a year month day minutes and seconds. More specific for timestamp"
   ]
  },
  {
   "cell_type": "code",
   "execution_count": null,
   "metadata": {},
   "outputs": [],
   "source": [
    "birthday=dt.date(1997, 2, 20)  #(year, month, day)"
   ]
  },
  {
   "cell_type": "code",
   "execution_count": null,
   "metadata": {},
   "outputs": [],
   "source": [
    "birthday.year #returns year "
   ]
  },
  {
   "cell_type": "code",
   "execution_count": null,
   "metadata": {},
   "outputs": [],
   "source": [
    "birthday.month #returns month"
   ]
  },
  {
   "cell_type": "code",
   "execution_count": null,
   "metadata": {},
   "outputs": [],
   "source": [
    "birthday.day #returns day "
   ]
  },
  {
   "cell_type": "code",
   "execution_count": null,
   "metadata": {},
   "outputs": [],
   "source": [
    "dt.datetime(2010,1,20,8)  # 8 am on Jan 20 2010  dt.datetime(year,month,day,hour,minute,second)"
   ]
  },
  {
   "cell_type": "code",
   "execution_count": null,
   "metadata": {},
   "outputs": [],
   "source": [
    "dt.datetime(2010,1,20,8,13,57)"
   ]
  },
  {
   "cell_type": "code",
   "execution_count": null,
   "metadata": {},
   "outputs": [],
   "source": [
    "str(dt.datetime(2010,1,20,17,13,57))# note the use of military time "
   ]
  },
  {
   "cell_type": "code",
   "execution_count": null,
   "metadata": {},
   "outputs": [],
   "source": [
    "str(birthday)"
   ]
  },
  {
   "cell_type": "code",
   "execution_count": null,
   "metadata": {},
   "outputs": [],
   "source": [
    "boyfriend_birthday=dt.datetime(1994,4,1,17,13,24) #note use of military time "
   ]
  },
  {
   "cell_type": "code",
   "execution_count": null,
   "metadata": {},
   "outputs": [],
   "source": [
    "str(boyfriend_birthday)"
   ]
  },
  {
   "cell_type": "code",
   "execution_count": null,
   "metadata": {},
   "outputs": [],
   "source": [
    "boyfriend_birthday.year\n",
    "boyfriend_birthday.month\n",
    "boyfriend_birthday.day\n",
    "boyfriend_birthday.hour\n",
    "boyfriend_birthday.minute"
   ]
  },
  {
   "cell_type": "markdown",
   "metadata": {},
   "source": [
    "# The pandas Timestamp object"
   ]
  },
  {
   "cell_type": "code",
   "execution_count": null,
   "metadata": {},
   "outputs": [],
   "source": [
    "import pandas as pd\n",
    "import datetime as dt"
   ]
  },
  {
   "cell_type": "code",
   "execution_count": null,
   "metadata": {},
   "outputs": [],
   "source": [
    "pd.Timestamp(\"2021-06-21\")  #can use either format of date"
   ]
  },
  {
   "cell_type": "code",
   "execution_count": null,
   "metadata": {},
   "outputs": [],
   "source": [
    "pd.Timestamp(\"2012/06/03\")"
   ]
  },
  {
   "cell_type": "code",
   "execution_count": null,
   "metadata": {},
   "outputs": [],
   "source": [
    "pd.Timestamp(\"1/2/2015\")"
   ]
  },
  {
   "cell_type": "code",
   "execution_count": null,
   "metadata": {},
   "outputs": [],
   "source": [
    "pd.Timestamp(\"02-20-1997 21:07:01\") #can reverse and do month-day-year however pandas would not know day-month-year unless first number is > 12 "
   ]
  },
  {
   "cell_type": "code",
   "execution_count": null,
   "metadata": {},
   "outputs": [],
   "source": [
    "pd.Timestamp(dt.datetime(2015,4,2))"
   ]
  },
  {
   "cell_type": "markdown",
   "metadata": {},
   "source": [
    "# Pandas DatetimeIndex Object"
   ]
  },
  {
   "cell_type": "code",
   "execution_count": null,
   "metadata": {},
   "outputs": [],
   "source": [
    "#basically a container for multiple pandas timestamps "
   ]
  },
  {
   "cell_type": "code",
   "execution_count": null,
   "metadata": {},
   "outputs": [],
   "source": [
    "dates=[\"01-02-2016\",\"02-20-1997\",\"04-01-1994\"]"
   ]
  },
  {
   "cell_type": "code",
   "execution_count": null,
   "metadata": {},
   "outputs": [],
   "source": [
    "pd.DatetimeIndex(dates) #converts strings to timestamps, easy to work w/multiple timestamps  "
   ]
  },
  {
   "cell_type": "code",
   "execution_count": null,
   "metadata": {},
   "outputs": [],
   "source": [
    "dates=[dt.datetime(1994,4,1),dt.datetime(1997,2,20),dt.datetime(2000,2,24)]#converts date objects into pandas timestamp objects and bundles into DatetimeIndex to store them all as one. Ideal usage is for DatetimeIndex to serve as the index for one of our objects \n",
    "dtindex=pd.DatetimeIndex(dates)"
   ]
  },
  {
   "cell_type": "code",
   "execution_count": null,
   "metadata": {},
   "outputs": [],
   "source": [
    "values=[100,200,300]"
   ]
  },
  {
   "cell_type": "code",
   "execution_count": null,
   "metadata": {},
   "outputs": [],
   "source": [
    "pd.Series(data=values,index=dtindex) #DatetimeIndex now is the Index for series "
   ]
  },
  {
   "cell_type": "markdown",
   "metadata": {},
   "source": [
    "# The pd.to_datetime() method"
   ]
  },
  {
   "cell_type": "code",
   "execution_count": null,
   "metadata": {},
   "outputs": [],
   "source": [
    "#most common reason is converting a pandas existing series into a datetime object \n",
    "pd.to_datetime(\"04-01-1994\")  \n",
    "pd.to_datetime(dt.datetime(1994,4,1,9,3,1))\n",
    "pd.to_datetime(dt.date(1997,2,20)) \n",
    "pd.to_datetime(['02-20-1997','1994/4/1','2018','July 4,1997']) #can also pass a list \n",
    "#can use any format of date, regardless of how fed in, pandas is smart enough to figure out what we are talking about. If give single year pandas assumes jan 1"
   ]
  },
  {
   "cell_type": "code",
   "execution_count": null,
   "metadata": {},
   "outputs": [],
   "source": [
    "times=pd.Series([\"03-04-1960\",\"2021/2/4\",\"2019/4/2\"]) #creating series and naming it times \n",
    "times"
   ]
  },
  {
   "cell_type": "code",
   "execution_count": null,
   "metadata": {},
   "outputs": [],
   "source": [
    "pd.to_datetime(times) #can also gives pandas series, goes in all values in series and converts them all into timestamps and also converts container into for them into a DatetimeIndex object "
   ]
  },
  {
   "cell_type": "code",
   "execution_count": null,
   "metadata": {},
   "outputs": [],
   "source": [
    "date=pd.Series([\"july 4, 2021\", \"2-31-2014\",\"1-1-10\",\"hello\"])"
   ]
  },
  {
   "cell_type": "code",
   "execution_count": null,
   "metadata": {},
   "outputs": [],
   "source": [
    "#pd.to_datetime(date)  <- ERROR - cant convert with a string value , error parameter set to 'raise' & means if an error is encountered it raises a red flag, but can change errors perameter to 'coerce' "
   ]
  },
  {
   "cell_type": "code",
   "execution_count": null,
   "metadata": {},
   "outputs": [],
   "source": [
    "pd.to_datetime(date,errors='coerce') "
   ]
  },
  {
   "cell_type": "code",
   "execution_count": null,
   "metadata": {},
   "outputs": [],
   "source": [
    "#a unix is a way to store time in seconds. So by storing datetime as number of seconds it is easy to store as a date in time."
   ]
  },
  {
   "cell_type": "code",
   "execution_count": null,
   "metadata": {},
   "outputs": [],
   "source": [
    "pd.to_datetime([1349720105, 1349806505, 1349892905, 1349892905, #python list of unix times -> number of seconds since 1/1/1970\n",
    "               1349979305,], unit='s')                     #to unit parameter give arguement of 's' so pandas knows talking about unix time "
   ]
  },
  {
   "cell_type": "markdown",
   "metadata": {},
   "source": [
    "# Create Range of Dates with the pd.date_range() method"
   ]
  },
  {
   "cell_type": "code",
   "execution_count": null,
   "metadata": {},
   "outputs": [],
   "source": [
    "times=pd.date_range(start=\"01/01/2015\", end=\"02/20/2020\", freq=\"D\")#date is inclusives -specific the date and that day & the interval (freq parameter) specifies the interval, E.g- set at \"D\" will increment over start and end date each day, if set at \"2D\" will proceed in increments of 2 days,\"B\" means business days only, \"W\" is short for weekly, \"H\" is hourly, could do \"6H\" for every 6 hours, \"M\" is month ends,\"MS\" first of every month,\"A\" stores last day of each year  )"
   ]
  },
  {
   "cell_type": "code",
   "execution_count": null,
   "metadata": {},
   "outputs": [],
   "source": [
    "type(times) #pandas generated DatetimeIndex "
   ]
  },
  {
   "cell_type": "code",
   "execution_count": null,
   "metadata": {},
   "outputs": [],
   "source": [
    "pd.date_range(start=\"03-01-2018\", periods=25, freq=\"D\") #generates datetime index with 25 values since we specified we wanted 25 in our periods parameter "
   ]
  },
  {
   "cell_type": "code",
   "execution_count": null,
   "metadata": {},
   "outputs": [],
   "source": [
    "pd.date_range(start=\"2012-09-09\", periods=25, freq=\"B\") #2012-09-09 would not be included because it is not a business day"
   ]
  },
  {
   "cell_type": "code",
   "execution_count": null,
   "metadata": {},
   "outputs": [],
   "source": [
    "pd.date_range(end=\"1999-12-31\", periods=40, freq=\"W-SUN\") #starts at the end points and moves back one day at a time until it has 20 total values "
   ]
  },
  {
   "cell_type": "markdown",
   "metadata": {},
   "source": [
    "# The .dt Accessor "
   ]
  },
  {
   "cell_type": "code",
   "execution_count": null,
   "metadata": {},
   "outputs": [],
   "source": [
    "a_bunch_of_dates=pd.date_range(start=\"02/20/1997\", end=\"02/20/2010\", freq=\"24D\")"
   ]
  },
  {
   "cell_type": "code",
   "execution_count": null,
   "metadata": {},
   "outputs": [],
   "source": [
    "s=pd.Series(a_bunch_of_dates)"
   ]
  },
  {
   "cell_type": "code",
   "execution_count": null,
   "metadata": {},
   "outputs": [],
   "source": [
    "s.head(3)   #used the daterange method to create a date range index and passed it as our data source for pandas series constructor, each reprsented as a pandas timestamp "
   ]
  },
  {
   "cell_type": "code",
   "execution_count": null,
   "metadata": {},
   "outputs": [],
   "source": [
    "s.dt.day   #think of using .dt like .str "
   ]
  },
  {
   "cell_type": "code",
   "execution_count": null,
   "metadata": {},
   "outputs": [],
   "source": [
    "s.dt.month  #if wanted to see what day of month most common "
   ]
  },
  {
   "cell_type": "code",
   "execution_count": null,
   "metadata": {},
   "outputs": [],
   "source": [
    "s.dt.day_name() #would be useful for finding day of work week in financial data "
   ]
  },
  {
   "cell_type": "code",
   "execution_count": null,
   "metadata": {},
   "outputs": [],
   "source": [
    "mask=s.dt.is_quarter_start"
   ]
  },
  {
   "cell_type": "code",
   "execution_count": null,
   "metadata": {},
   "outputs": [],
   "source": [
    "s[mask] #pulls only dates from the start of a quarter, could also do s.dt.is_month_start or s.dt.is_month_end "
   ]
  },
  {
   "cell_type": "markdown",
   "metadata": {},
   "source": [
    "# Import finanical dataset with pandas_datareader Library"
   ]
  },
  {
   "cell_type": "code",
   "execution_count": 3,
   "metadata": {},
   "outputs": [],
   "source": [
    "import datetime as dt\n",
    "from pandas_datareader import data as pdr"
   ]
  },
  {
   "cell_type": "code",
   "execution_count": 4,
   "metadata": {},
   "outputs": [],
   "source": [
    "import requests"
   ]
  },
  {
   "cell_type": "code",
   "execution_count": 5,
   "metadata": {},
   "outputs": [],
   "source": [
    "import yfinance as yf\n",
    "import yfinance as yfin\n",
    "yfin.pdr_override()   #As of July 2021 need to imort yfinance library \n",
    "\n"
   ]
  },
  {
   "cell_type": "code",
   "execution_count": 12,
   "metadata": {
    "scrolled": true
   },
   "outputs": [
    {
     "name": "stdout",
     "output_type": "stream",
     "text": [
      "[*********************100%***********************]  1 of 1 completed\n"
     ]
    }
   ],
   "source": [
    "stocks=pdr.DataReader(tickers='AMC', data_source='yahoo', start='2015-01-01', end='2021-07-10')"
   ]
  },
  {
   "cell_type": "code",
   "execution_count": 13,
   "metadata": {},
   "outputs": [
    {
     "data": {
      "text/html": [
       "<div>\n",
       "<style scoped>\n",
       "    .dataframe tbody tr th:only-of-type {\n",
       "        vertical-align: middle;\n",
       "    }\n",
       "\n",
       "    .dataframe tbody tr th {\n",
       "        vertical-align: top;\n",
       "    }\n",
       "\n",
       "    .dataframe thead th {\n",
       "        text-align: right;\n",
       "    }\n",
       "</style>\n",
       "<table border=\"1\" class=\"dataframe\">\n",
       "  <thead>\n",
       "    <tr style=\"text-align: right;\">\n",
       "      <th></th>\n",
       "      <th>Open</th>\n",
       "      <th>High</th>\n",
       "      <th>Low</th>\n",
       "      <th>Close</th>\n",
       "      <th>Adj Close</th>\n",
       "      <th>Volume</th>\n",
       "    </tr>\n",
       "    <tr>\n",
       "      <th>Date</th>\n",
       "      <th></th>\n",
       "      <th></th>\n",
       "      <th></th>\n",
       "      <th></th>\n",
       "      <th></th>\n",
       "      <th></th>\n",
       "    </tr>\n",
       "  </thead>\n",
       "  <tbody>\n",
       "    <tr>\n",
       "      <th>2015-01-02</th>\n",
       "      <td>26.260000</td>\n",
       "      <td>26.299999</td>\n",
       "      <td>24.930000</td>\n",
       "      <td>25.629999</td>\n",
       "      <td>18.900267</td>\n",
       "      <td>420900</td>\n",
       "    </tr>\n",
       "    <tr>\n",
       "      <th>2015-01-05</th>\n",
       "      <td>25.490000</td>\n",
       "      <td>25.559999</td>\n",
       "      <td>24.930000</td>\n",
       "      <td>24.969999</td>\n",
       "      <td>18.413568</td>\n",
       "      <td>246500</td>\n",
       "    </tr>\n",
       "    <tr>\n",
       "      <th>2015-01-06</th>\n",
       "      <td>24.990000</td>\n",
       "      <td>25.600000</td>\n",
       "      <td>24.270000</td>\n",
       "      <td>25.170000</td>\n",
       "      <td>18.561052</td>\n",
       "      <td>271500</td>\n",
       "    </tr>\n",
       "    <tr>\n",
       "      <th>2015-01-07</th>\n",
       "      <td>25.309999</td>\n",
       "      <td>25.670000</td>\n",
       "      <td>25.010000</td>\n",
       "      <td>25.580000</td>\n",
       "      <td>18.863400</td>\n",
       "      <td>175400</td>\n",
       "    </tr>\n",
       "    <tr>\n",
       "      <th>2015-01-08</th>\n",
       "      <td>25.760000</td>\n",
       "      <td>26.120001</td>\n",
       "      <td>25.309999</td>\n",
       "      <td>25.830000</td>\n",
       "      <td>19.047752</td>\n",
       "      <td>192800</td>\n",
       "    </tr>\n",
       "    <tr>\n",
       "      <th>...</th>\n",
       "      <td>...</td>\n",
       "      <td>...</td>\n",
       "      <td>...</td>\n",
       "      <td>...</td>\n",
       "      <td>...</td>\n",
       "      <td>...</td>\n",
       "    </tr>\n",
       "    <tr>\n",
       "      <th>2021-07-02</th>\n",
       "      <td>52.770000</td>\n",
       "      <td>53.250000</td>\n",
       "      <td>47.770000</td>\n",
       "      <td>51.959999</td>\n",
       "      <td>51.959999</td>\n",
       "      <td>90271500</td>\n",
       "    </tr>\n",
       "    <tr>\n",
       "      <th>2021-07-06</th>\n",
       "      <td>53.459999</td>\n",
       "      <td>55.070000</td>\n",
       "      <td>49.700001</td>\n",
       "      <td>49.959999</td>\n",
       "      <td>49.959999</td>\n",
       "      <td>62370300</td>\n",
       "    </tr>\n",
       "    <tr>\n",
       "      <th>2021-07-07</th>\n",
       "      <td>47.700001</td>\n",
       "      <td>48.990002</td>\n",
       "      <td>42.799999</td>\n",
       "      <td>45.070000</td>\n",
       "      <td>45.070000</td>\n",
       "      <td>95320200</td>\n",
       "    </tr>\n",
       "    <tr>\n",
       "      <th>2021-07-08</th>\n",
       "      <td>40.950001</td>\n",
       "      <td>49.790001</td>\n",
       "      <td>38.759998</td>\n",
       "      <td>47.939999</td>\n",
       "      <td>47.939999</td>\n",
       "      <td>145078200</td>\n",
       "    </tr>\n",
       "    <tr>\n",
       "      <th>2021-07-09</th>\n",
       "      <td>48.369999</td>\n",
       "      <td>48.919998</td>\n",
       "      <td>45.820000</td>\n",
       "      <td>46.189999</td>\n",
       "      <td>46.189999</td>\n",
       "      <td>57699900</td>\n",
       "    </tr>\n",
       "  </tbody>\n",
       "</table>\n",
       "<p>1641 rows × 6 columns</p>\n",
       "</div>"
      ],
      "text/plain": [
       "                 Open       High        Low      Close  Adj Close     Volume\n",
       "Date                                                                        \n",
       "2015-01-02  26.260000  26.299999  24.930000  25.629999  18.900267     420900\n",
       "2015-01-05  25.490000  25.559999  24.930000  24.969999  18.413568     246500\n",
       "2015-01-06  24.990000  25.600000  24.270000  25.170000  18.561052     271500\n",
       "2015-01-07  25.309999  25.670000  25.010000  25.580000  18.863400     175400\n",
       "2015-01-08  25.760000  26.120001  25.309999  25.830000  19.047752     192800\n",
       "...               ...        ...        ...        ...        ...        ...\n",
       "2021-07-02  52.770000  53.250000  47.770000  51.959999  51.959999   90271500\n",
       "2021-07-06  53.459999  55.070000  49.700001  49.959999  49.959999   62370300\n",
       "2021-07-07  47.700001  48.990002  42.799999  45.070000  45.070000   95320200\n",
       "2021-07-08  40.950001  49.790001  38.759998  47.939999  47.939999  145078200\n",
       "2021-07-09  48.369999  48.919998  45.820000  46.189999  46.189999   57699900\n",
       "\n",
       "[1641 rows x 6 columns]"
      ]
     },
     "execution_count": 13,
     "metadata": {},
     "output_type": "execute_result"
    }
   ],
   "source": [
    "stocks"
   ]
  },
  {
   "cell_type": "code",
   "execution_count": 14,
   "metadata": {},
   "outputs": [
    {
     "data": {
      "text/plain": [
       "array([[2.62600002e+01, 2.62999992e+01, 2.49300003e+01, 2.56299992e+01,\n",
       "        1.89002666e+01, 4.20900000e+05],\n",
       "       [2.54899998e+01, 2.55599995e+01, 2.49300003e+01, 2.49699993e+01,\n",
       "        1.84135685e+01, 2.46500000e+05],\n",
       "       [2.49899998e+01, 2.56000004e+01, 2.42700005e+01, 2.51700001e+01,\n",
       "        1.85610523e+01, 2.71500000e+05],\n",
       "       ...,\n",
       "       [4.77000008e+01, 4.89900017e+01, 4.27999992e+01, 4.50699997e+01,\n",
       "        4.50699997e+01, 9.53202000e+07],\n",
       "       [4.09500008e+01, 4.97900009e+01, 3.87599983e+01, 4.79399986e+01,\n",
       "        4.79399986e+01, 1.45078200e+08],\n",
       "       [4.83699989e+01, 4.89199982e+01, 4.58199997e+01, 4.61899986e+01,\n",
       "        4.61899986e+01, 5.76999000e+07]])"
      ]
     },
     "execution_count": 14,
     "metadata": {},
     "output_type": "execute_result"
    }
   ],
   "source": [
    "stocks.values"
   ]
  },
  {
   "cell_type": "code",
   "execution_count": 10,
   "metadata": {},
   "outputs": [
    {
     "data": {
      "text/plain": [
       "Index(['Open', 'High', 'Low', 'Close', 'Adj Close', 'Volume'], dtype='object')"
      ]
     },
     "execution_count": 10,
     "metadata": {},
     "output_type": "execute_result"
    }
   ],
   "source": [
    "stocks.columns"
   ]
  },
  {
   "cell_type": "code",
   "execution_count": 15,
   "metadata": {},
   "outputs": [
    {
     "data": {
      "text/plain": [
       "DatetimeIndex(['2015-01-02', '2015-01-05', '2015-01-06', '2015-01-07',\n",
       "               '2015-01-08', '2015-01-09', '2015-01-12', '2015-01-13',\n",
       "               '2015-01-14', '2015-01-15',\n",
       "               ...\n",
       "               '2021-06-25', '2021-06-28', '2021-06-29', '2021-06-30',\n",
       "               '2021-07-01', '2021-07-02', '2021-07-06', '2021-07-07',\n",
       "               '2021-07-08', '2021-07-09'],\n",
       "              dtype='datetime64[ns]', name='Date', length=1641, freq=None)"
      ]
     },
     "execution_count": 15,
     "metadata": {},
     "output_type": "execute_result"
    }
   ],
   "source": [
    "stocks.index"
   ]
  },
  {
   "cell_type": "code",
   "execution_count": 16,
   "metadata": {},
   "outputs": [
    {
     "data": {
      "text/plain": [
       "[DatetimeIndex(['2015-01-02', '2015-01-05', '2015-01-06', '2015-01-07',\n",
       "                '2015-01-08', '2015-01-09', '2015-01-12', '2015-01-13',\n",
       "                '2015-01-14', '2015-01-15',\n",
       "                ...\n",
       "                '2021-06-25', '2021-06-28', '2021-06-29', '2021-06-30',\n",
       "                '2021-07-01', '2021-07-02', '2021-07-06', '2021-07-07',\n",
       "                '2021-07-08', '2021-07-09'],\n",
       "               dtype='datetime64[ns]', name='Date', length=1641, freq=None),\n",
       " Index(['Open', 'High', 'Low', 'Close', 'Adj Close', 'Volume'], dtype='object')]"
      ]
     },
     "execution_count": 16,
     "metadata": {},
     "output_type": "execute_result"
    }
   ],
   "source": [
    "stocks.axes"
   ]
  },
  {
   "cell_type": "markdown",
   "metadata": {},
   "source": [
    "# Selecting Rows from a DataFrame with a DatetimeIndex"
   ]
  },
  {
   "cell_type": "code",
   "execution_count": 17,
   "metadata": {},
   "outputs": [
    {
     "name": "stdout",
     "output_type": "stream",
     "text": [
      "[*********************100%***********************]  1 of 1 completed\n"
     ]
    },
    {
     "data": {
      "text/html": [
       "<div>\n",
       "<style scoped>\n",
       "    .dataframe tbody tr th:only-of-type {\n",
       "        vertical-align: middle;\n",
       "    }\n",
       "\n",
       "    .dataframe tbody tr th {\n",
       "        vertical-align: top;\n",
       "    }\n",
       "\n",
       "    .dataframe thead th {\n",
       "        text-align: right;\n",
       "    }\n",
       "</style>\n",
       "<table border=\"1\" class=\"dataframe\">\n",
       "  <thead>\n",
       "    <tr style=\"text-align: right;\">\n",
       "      <th></th>\n",
       "      <th>Open</th>\n",
       "      <th>High</th>\n",
       "      <th>Low</th>\n",
       "      <th>Close</th>\n",
       "      <th>Adj Close</th>\n",
       "      <th>Volume</th>\n",
       "    </tr>\n",
       "    <tr>\n",
       "      <th>Date</th>\n",
       "      <th></th>\n",
       "      <th></th>\n",
       "      <th></th>\n",
       "      <th></th>\n",
       "      <th></th>\n",
       "      <th></th>\n",
       "    </tr>\n",
       "  </thead>\n",
       "  <tbody>\n",
       "    <tr>\n",
       "      <th>2018-01-02</th>\n",
       "      <td>15.20</td>\n",
       "      <td>15.65</td>\n",
       "      <td>14.90</td>\n",
       "      <td>15.40</td>\n",
       "      <td>12.549152</td>\n",
       "      <td>2257200</td>\n",
       "    </tr>\n",
       "    <tr>\n",
       "      <th>2018-01-03</th>\n",
       "      <td>15.45</td>\n",
       "      <td>15.50</td>\n",
       "      <td>14.90</td>\n",
       "      <td>15.00</td>\n",
       "      <td>12.223200</td>\n",
       "      <td>1631000</td>\n",
       "    </tr>\n",
       "    <tr>\n",
       "      <th>2018-01-04</th>\n",
       "      <td>15.00</td>\n",
       "      <td>15.10</td>\n",
       "      <td>14.35</td>\n",
       "      <td>14.45</td>\n",
       "      <td>11.775017</td>\n",
       "      <td>2141000</td>\n",
       "    </tr>\n",
       "    <tr>\n",
       "      <th>2018-01-05</th>\n",
       "      <td>14.50</td>\n",
       "      <td>14.56</td>\n",
       "      <td>14.05</td>\n",
       "      <td>14.10</td>\n",
       "      <td>11.489808</td>\n",
       "      <td>2009000</td>\n",
       "    </tr>\n",
       "    <tr>\n",
       "      <th>2018-01-08</th>\n",
       "      <td>14.30</td>\n",
       "      <td>14.35</td>\n",
       "      <td>13.65</td>\n",
       "      <td>13.80</td>\n",
       "      <td>11.245345</td>\n",
       "      <td>2347400</td>\n",
       "    </tr>\n",
       "    <tr>\n",
       "      <th>...</th>\n",
       "      <td>...</td>\n",
       "      <td>...</td>\n",
       "      <td>...</td>\n",
       "      <td>...</td>\n",
       "      <td>...</td>\n",
       "      <td>...</td>\n",
       "    </tr>\n",
       "    <tr>\n",
       "      <th>2020-12-23</th>\n",
       "      <td>2.58</td>\n",
       "      <td>2.65</td>\n",
       "      <td>2.54</td>\n",
       "      <td>2.56</td>\n",
       "      <td>2.560000</td>\n",
       "      <td>15724800</td>\n",
       "    </tr>\n",
       "    <tr>\n",
       "      <th>2020-12-24</th>\n",
       "      <td>2.59</td>\n",
       "      <td>2.60</td>\n",
       "      <td>2.48</td>\n",
       "      <td>2.51</td>\n",
       "      <td>2.510000</td>\n",
       "      <td>11094200</td>\n",
       "    </tr>\n",
       "    <tr>\n",
       "      <th>2020-12-28</th>\n",
       "      <td>2.63</td>\n",
       "      <td>2.63</td>\n",
       "      <td>2.36</td>\n",
       "      <td>2.39</td>\n",
       "      <td>2.390000</td>\n",
       "      <td>23942700</td>\n",
       "    </tr>\n",
       "    <tr>\n",
       "      <th>2020-12-29</th>\n",
       "      <td>2.44</td>\n",
       "      <td>2.46</td>\n",
       "      <td>2.28</td>\n",
       "      <td>2.29</td>\n",
       "      <td>2.290000</td>\n",
       "      <td>21086100</td>\n",
       "    </tr>\n",
       "    <tr>\n",
       "      <th>2020-12-30</th>\n",
       "      <td>2.30</td>\n",
       "      <td>2.30</td>\n",
       "      <td>2.13</td>\n",
       "      <td>2.16</td>\n",
       "      <td>2.160000</td>\n",
       "      <td>40278400</td>\n",
       "    </tr>\n",
       "  </tbody>\n",
       "</table>\n",
       "<p>755 rows × 6 columns</p>\n",
       "</div>"
      ],
      "text/plain": [
       "             Open   High    Low  Close  Adj Close    Volume\n",
       "Date                                                       \n",
       "2018-01-02  15.20  15.65  14.90  15.40  12.549152   2257200\n",
       "2018-01-03  15.45  15.50  14.90  15.00  12.223200   1631000\n",
       "2018-01-04  15.00  15.10  14.35  14.45  11.775017   2141000\n",
       "2018-01-05  14.50  14.56  14.05  14.10  11.489808   2009000\n",
       "2018-01-08  14.30  14.35  13.65  13.80  11.245345   2347400\n",
       "...           ...    ...    ...    ...        ...       ...\n",
       "2020-12-23   2.58   2.65   2.54   2.56   2.560000  15724800\n",
       "2020-12-24   2.59   2.60   2.48   2.51   2.510000  11094200\n",
       "2020-12-28   2.63   2.63   2.36   2.39   2.390000  23942700\n",
       "2020-12-29   2.44   2.46   2.28   2.29   2.290000  21086100\n",
       "2020-12-30   2.30   2.30   2.13   2.16   2.160000  40278400\n",
       "\n",
       "[755 rows x 6 columns]"
      ]
     },
     "execution_count": 17,
     "metadata": {},
     "output_type": "execute_result"
    }
   ],
   "source": [
    "import yfinance as yf\n",
    "import yfinance as yfin\n",
    "yfin.pdr_override()\n",
    "from pandas_datareader import data #As of July 2021 need to import yfinance library \n",
    "\n",
    "\n",
    "df = data.get_data_yahoo(\"AMC\", start=\"2018-01-01\", end=\"2020-12-31\")\n",
    "df"
   ]
  },
  {
   "cell_type": "code",
   "execution_count": 19,
   "metadata": {},
   "outputs": [
    {
     "data": {
      "text/plain": [
       "Open         1.520000e+01\n",
       "High         1.565000e+01\n",
       "Low          1.490000e+01\n",
       "Close        1.540000e+01\n",
       "Adj Close    1.254915e+01\n",
       "Volume       2.257200e+06\n",
       "Name: 2018-01-02 00:00:00, dtype: float64"
      ]
     },
     "execution_count": 19,
     "metadata": {},
     "output_type": "execute_result"
    }
   ],
   "source": [
    "df.loc['2018-01-02'] #can work but code below is more efficient "
   ]
  },
  {
   "cell_type": "code",
   "execution_count": 20,
   "metadata": {},
   "outputs": [
    {
     "data": {
      "text/plain": [
       "Open         1.520000e+01\n",
       "High         1.565000e+01\n",
       "Low          1.490000e+01\n",
       "Close        1.540000e+01\n",
       "Adj Close    1.254915e+01\n",
       "Volume       2.257200e+06\n",
       "Name: 2018-01-02 00:00:00, dtype: float64"
      ]
     },
     "execution_count": 20,
     "metadata": {},
     "output_type": "execute_result"
    }
   ],
   "source": [
    "df.loc[pd.Timestamp(\"2018-01-02\")] #better code than method above "
   ]
  },
  {
   "cell_type": "code",
   "execution_count": 21,
   "metadata": {},
   "outputs": [
    {
     "data": {
      "text/plain": [
       "Open                2.58\n",
       "High                2.65\n",
       "Low                 2.54\n",
       "Close               2.56\n",
       "Adj Close           2.56\n",
       "Volume       15724800.00\n",
       "Name: 2020-12-23 00:00:00, dtype: float64"
      ]
     },
     "execution_count": 21,
     "metadata": {},
     "output_type": "execute_result"
    }
   ],
   "source": [
    "df.loc[pd.Timestamp(\"2020-12-23\")]#generally a good idea to wrap the date inside a pandas timestamp object, so create a timestamp object & use that to index "
   ]
  },
  {
   "cell_type": "code",
   "execution_count": 22,
   "metadata": {},
   "outputs": [
    {
     "data": {
      "text/html": [
       "<div>\n",
       "<style scoped>\n",
       "    .dataframe tbody tr th:only-of-type {\n",
       "        vertical-align: middle;\n",
       "    }\n",
       "\n",
       "    .dataframe tbody tr th {\n",
       "        vertical-align: top;\n",
       "    }\n",
       "\n",
       "    .dataframe thead th {\n",
       "        text-align: right;\n",
       "    }\n",
       "</style>\n",
       "<table border=\"1\" class=\"dataframe\">\n",
       "  <thead>\n",
       "    <tr style=\"text-align: right;\">\n",
       "      <th></th>\n",
       "      <th>Open</th>\n",
       "      <th>High</th>\n",
       "      <th>Low</th>\n",
       "      <th>Close</th>\n",
       "      <th>Adj Close</th>\n",
       "      <th>Volume</th>\n",
       "    </tr>\n",
       "    <tr>\n",
       "      <th>Date</th>\n",
       "      <th></th>\n",
       "      <th></th>\n",
       "      <th></th>\n",
       "      <th></th>\n",
       "      <th></th>\n",
       "      <th></th>\n",
       "    </tr>\n",
       "  </thead>\n",
       "  <tbody>\n",
       "    <tr>\n",
       "      <th>2018-01-02</th>\n",
       "      <td>15.20</td>\n",
       "      <td>15.65</td>\n",
       "      <td>14.90</td>\n",
       "      <td>15.40</td>\n",
       "      <td>12.549152</td>\n",
       "      <td>2257200</td>\n",
       "    </tr>\n",
       "    <tr>\n",
       "      <th>2018-01-03</th>\n",
       "      <td>15.45</td>\n",
       "      <td>15.50</td>\n",
       "      <td>14.90</td>\n",
       "      <td>15.00</td>\n",
       "      <td>12.223200</td>\n",
       "      <td>1631000</td>\n",
       "    </tr>\n",
       "    <tr>\n",
       "      <th>2018-01-04</th>\n",
       "      <td>15.00</td>\n",
       "      <td>15.10</td>\n",
       "      <td>14.35</td>\n",
       "      <td>14.45</td>\n",
       "      <td>11.775017</td>\n",
       "      <td>2141000</td>\n",
       "    </tr>\n",
       "    <tr>\n",
       "      <th>2018-01-05</th>\n",
       "      <td>14.50</td>\n",
       "      <td>14.56</td>\n",
       "      <td>14.05</td>\n",
       "      <td>14.10</td>\n",
       "      <td>11.489808</td>\n",
       "      <td>2009000</td>\n",
       "    </tr>\n",
       "  </tbody>\n",
       "</table>\n",
       "</div>"
      ],
      "text/plain": [
       "             Open   High    Low  Close  Adj Close   Volume\n",
       "Date                                                      \n",
       "2018-01-02  15.20  15.65  14.90  15.40  12.549152  2257200\n",
       "2018-01-03  15.45  15.50  14.90  15.00  12.223200  1631000\n",
       "2018-01-04  15.00  15.10  14.35  14.45  11.775017  2141000\n",
       "2018-01-05  14.50  14.56  14.05  14.10  11.489808  2009000"
      ]
     },
     "execution_count": 22,
     "metadata": {},
     "output_type": "execute_result"
    }
   ],
   "source": [
    "df.loc[\"2018-01-02\":\"2018-01-05\"] #.loc is inclusive "
   ]
  },
  {
   "cell_type": "code",
   "execution_count": 23,
   "metadata": {},
   "outputs": [
    {
     "data": {
      "text/plain": [
       "Open         1.520000e+01\n",
       "High         1.565000e+01\n",
       "Low          1.490000e+01\n",
       "Close        1.540000e+01\n",
       "Adj Close    1.254915e+01\n",
       "Volume       2.257200e+06\n",
       "Name: 2018-01-02 00:00:00, dtype: float64"
      ]
     },
     "execution_count": 23,
     "metadata": {},
     "output_type": "execute_result"
    }
   ],
   "source": [
    "df.iloc[0] #can also iloc with index postion -> here finding values in each column for index postion 0 "
   ]
  },
  {
   "cell_type": "code",
   "execution_count": 24,
   "metadata": {},
   "outputs": [
    {
     "data": {
      "text/plain": [
       "Open         7.300000e+00\n",
       "High         7.400000e+00\n",
       "Low          7.200000e+00\n",
       "Close        7.300000e+00\n",
       "Adj Close    7.255488e+00\n",
       "Volume       3.910500e+06\n",
       "Name: 2019-12-27 00:00:00, dtype: float64"
      ]
     },
     "execution_count": 24,
     "metadata": {},
     "output_type": "execute_result"
    }
   ],
   "source": [
    "df.iloc[500]#can also iloc with index postion -> here finding values in each column for index postion 500"
   ]
  },
  {
   "cell_type": "code",
   "execution_count": 25,
   "metadata": {},
   "outputs": [
    {
     "data": {
      "text/html": [
       "<div>\n",
       "<style scoped>\n",
       "    .dataframe tbody tr th:only-of-type {\n",
       "        vertical-align: middle;\n",
       "    }\n",
       "\n",
       "    .dataframe tbody tr th {\n",
       "        vertical-align: top;\n",
       "    }\n",
       "\n",
       "    .dataframe thead th {\n",
       "        text-align: right;\n",
       "    }\n",
       "</style>\n",
       "<table border=\"1\" class=\"dataframe\">\n",
       "  <thead>\n",
       "    <tr style=\"text-align: right;\">\n",
       "      <th></th>\n",
       "      <th>Open</th>\n",
       "      <th>High</th>\n",
       "      <th>Low</th>\n",
       "      <th>Close</th>\n",
       "      <th>Adj Close</th>\n",
       "      <th>Volume</th>\n",
       "    </tr>\n",
       "    <tr>\n",
       "      <th>Date</th>\n",
       "      <th></th>\n",
       "      <th></th>\n",
       "      <th></th>\n",
       "      <th></th>\n",
       "      <th></th>\n",
       "      <th></th>\n",
       "    </tr>\n",
       "  </thead>\n",
       "  <tbody>\n",
       "    <tr>\n",
       "      <th>2020-12-23</th>\n",
       "      <td>2.58</td>\n",
       "      <td>2.65</td>\n",
       "      <td>2.54</td>\n",
       "      <td>2.56</td>\n",
       "      <td>2.56</td>\n",
       "      <td>15724800</td>\n",
       "    </tr>\n",
       "    <tr>\n",
       "      <th>2020-12-30</th>\n",
       "      <td>2.30</td>\n",
       "      <td>2.30</td>\n",
       "      <td>2.13</td>\n",
       "      <td>2.16</td>\n",
       "      <td>2.16</td>\n",
       "      <td>40278400</td>\n",
       "    </tr>\n",
       "  </tbody>\n",
       "</table>\n",
       "</div>"
      ],
      "text/plain": [
       "            Open  High   Low  Close  Adj Close    Volume\n",
       "Date                                                    \n",
       "2020-12-23  2.58  2.65  2.54   2.56       2.56  15724800\n",
       "2020-12-30  2.30  2.30  2.13   2.16       2.16  40278400"
      ]
     },
     "execution_count": 25,
     "metadata": {},
     "output_type": "execute_result"
    }
   ],
   "source": [
    "df.loc[[pd.Timestamp(\"2020-12-23\"), pd.Timestamp(\"2020-12-30\")]] #pulling out multiple rows"
   ]
  },
  {
   "cell_type": "code",
   "execution_count": 26,
   "metadata": {},
   "outputs": [
    {
     "data": {
      "text/plain": [
       "Open         251\n",
       "High         251\n",
       "Low          251\n",
       "Close        251\n",
       "Adj Close    251\n",
       "Volume       251\n",
       "dtype: int64"
      ]
     },
     "execution_count": 26,
     "metadata": {},
     "output_type": "execute_result"
    }
   ],
   "source": [
    "df.loc[\"2018-01-01\":\"2019-01-01\"].count()#slicing & method chaining by adding count()"
   ]
  },
  {
   "cell_type": "code",
   "execution_count": 27,
   "metadata": {},
   "outputs": [
    {
     "data": {
      "text/html": [
       "<div>\n",
       "<style scoped>\n",
       "    .dataframe tbody tr th:only-of-type {\n",
       "        vertical-align: middle;\n",
       "    }\n",
       "\n",
       "    .dataframe tbody tr th {\n",
       "        vertical-align: top;\n",
       "    }\n",
       "\n",
       "    .dataframe thead th {\n",
       "        text-align: right;\n",
       "    }\n",
       "</style>\n",
       "<table border=\"1\" class=\"dataframe\">\n",
       "  <thead>\n",
       "    <tr style=\"text-align: right;\">\n",
       "      <th></th>\n",
       "      <th>Open</th>\n",
       "      <th>High</th>\n",
       "      <th>Low</th>\n",
       "      <th>Close</th>\n",
       "      <th>Adj Close</th>\n",
       "      <th>Volume</th>\n",
       "    </tr>\n",
       "    <tr>\n",
       "      <th>Date</th>\n",
       "      <th></th>\n",
       "      <th></th>\n",
       "      <th></th>\n",
       "      <th></th>\n",
       "      <th></th>\n",
       "      <th></th>\n",
       "    </tr>\n",
       "  </thead>\n",
       "  <tbody>\n",
       "    <tr>\n",
       "      <th>2018-01-02</th>\n",
       "      <td>15.20</td>\n",
       "      <td>15.65</td>\n",
       "      <td>14.90</td>\n",
       "      <td>15.40</td>\n",
       "      <td>12.549152</td>\n",
       "      <td>2257200</td>\n",
       "    </tr>\n",
       "    <tr>\n",
       "      <th>2018-01-03</th>\n",
       "      <td>15.45</td>\n",
       "      <td>15.50</td>\n",
       "      <td>14.90</td>\n",
       "      <td>15.00</td>\n",
       "      <td>12.223200</td>\n",
       "      <td>1631000</td>\n",
       "    </tr>\n",
       "    <tr>\n",
       "      <th>2018-01-04</th>\n",
       "      <td>15.00</td>\n",
       "      <td>15.10</td>\n",
       "      <td>14.35</td>\n",
       "      <td>14.45</td>\n",
       "      <td>11.775017</td>\n",
       "      <td>2141000</td>\n",
       "    </tr>\n",
       "    <tr>\n",
       "      <th>2018-01-05</th>\n",
       "      <td>14.50</td>\n",
       "      <td>14.56</td>\n",
       "      <td>14.05</td>\n",
       "      <td>14.10</td>\n",
       "      <td>11.489808</td>\n",
       "      <td>2009000</td>\n",
       "    </tr>\n",
       "    <tr>\n",
       "      <th>2018-01-08</th>\n",
       "      <td>14.30</td>\n",
       "      <td>14.35</td>\n",
       "      <td>13.65</td>\n",
       "      <td>13.80</td>\n",
       "      <td>11.245345</td>\n",
       "      <td>2347400</td>\n",
       "    </tr>\n",
       "  </tbody>\n",
       "</table>\n",
       "</div>"
      ],
      "text/plain": [
       "             Open   High    Low  Close  Adj Close   Volume\n",
       "Date                                                      \n",
       "2018-01-02  15.20  15.65  14.90  15.40  12.549152  2257200\n",
       "2018-01-03  15.45  15.50  14.90  15.00  12.223200  1631000\n",
       "2018-01-04  15.00  15.10  14.35  14.45  11.775017  2141000\n",
       "2018-01-05  14.50  14.56  14.05  14.10  11.489808  2009000\n",
       "2018-01-08  14.30  14.35  13.65  13.80  11.245345  2347400"
      ]
     },
     "execution_count": 27,
     "metadata": {},
     "output_type": "execute_result"
    }
   ],
   "source": [
    "df.iloc[0:5] #can use iloc to find a range of indexes -exclusive (does not include last value - only up until index position 4)"
   ]
  },
  {
   "cell_type": "code",
   "execution_count": 28,
   "metadata": {},
   "outputs": [
    {
     "data": {
      "text/html": [
       "<div>\n",
       "<style scoped>\n",
       "    .dataframe tbody tr th:only-of-type {\n",
       "        vertical-align: middle;\n",
       "    }\n",
       "\n",
       "    .dataframe tbody tr th {\n",
       "        vertical-align: top;\n",
       "    }\n",
       "\n",
       "    .dataframe thead th {\n",
       "        text-align: right;\n",
       "    }\n",
       "</style>\n",
       "<table border=\"1\" class=\"dataframe\">\n",
       "  <thead>\n",
       "    <tr style=\"text-align: right;\">\n",
       "      <th></th>\n",
       "      <th>Open</th>\n",
       "      <th>High</th>\n",
       "      <th>Low</th>\n",
       "      <th>Close</th>\n",
       "      <th>Adj Close</th>\n",
       "      <th>Volume</th>\n",
       "    </tr>\n",
       "    <tr>\n",
       "      <th>Date</th>\n",
       "      <th></th>\n",
       "      <th></th>\n",
       "      <th></th>\n",
       "      <th></th>\n",
       "      <th></th>\n",
       "      <th></th>\n",
       "    </tr>\n",
       "  </thead>\n",
       "  <tbody>\n",
       "    <tr>\n",
       "      <th>2018-01-17</th>\n",
       "      <td>13.7</td>\n",
       "      <td>13.95</td>\n",
       "      <td>13.66</td>\n",
       "      <td>13.75</td>\n",
       "      <td>11.204602</td>\n",
       "      <td>1023800</td>\n",
       "    </tr>\n",
       "    <tr>\n",
       "      <th>2018-01-24</th>\n",
       "      <td>13.4</td>\n",
       "      <td>13.65</td>\n",
       "      <td>13.10</td>\n",
       "      <td>13.20</td>\n",
       "      <td>10.756416</td>\n",
       "      <td>1724800</td>\n",
       "    </tr>\n",
       "    <tr>\n",
       "      <th>2018-02-14</th>\n",
       "      <td>13.7</td>\n",
       "      <td>14.50</td>\n",
       "      <td>13.70</td>\n",
       "      <td>14.25</td>\n",
       "      <td>11.612041</td>\n",
       "      <td>1981000</td>\n",
       "    </tr>\n",
       "  </tbody>\n",
       "</table>\n",
       "</div>"
      ],
      "text/plain": [
       "            Open   High    Low  Close  Adj Close   Volume\n",
       "Date                                                     \n",
       "2018-01-17  13.7  13.95  13.66  13.75  11.204602  1023800\n",
       "2018-01-24  13.4  13.65  13.10  13.20  10.756416  1724800\n",
       "2018-02-14  13.7  14.50  13.70  14.25  11.612041  1981000"
      ]
     },
     "execution_count": 28,
     "metadata": {},
     "output_type": "execute_result"
    }
   ],
   "source": [
    "df.iloc[[10,15,30]] #can also pass a list, iloc is exclusive "
   ]
  },
  {
   "cell_type": "markdown",
   "metadata": {},
   "source": [
    "# Timestamp object attributes and methods"
   ]
  },
  {
   "cell_type": "code",
   "execution_count": 29,
   "metadata": {},
   "outputs": [
    {
     "name": "stdout",
     "output_type": "stream",
     "text": [
      "[*********************100%***********************]  1 of 1 completed\n"
     ]
    },
    {
     "data": {
      "text/html": [
       "<div>\n",
       "<style scoped>\n",
       "    .dataframe tbody tr th:only-of-type {\n",
       "        vertical-align: middle;\n",
       "    }\n",
       "\n",
       "    .dataframe tbody tr th {\n",
       "        vertical-align: top;\n",
       "    }\n",
       "\n",
       "    .dataframe thead th {\n",
       "        text-align: right;\n",
       "    }\n",
       "</style>\n",
       "<table border=\"1\" class=\"dataframe\">\n",
       "  <thead>\n",
       "    <tr style=\"text-align: right;\">\n",
       "      <th></th>\n",
       "      <th>Open</th>\n",
       "      <th>High</th>\n",
       "      <th>Low</th>\n",
       "      <th>Close</th>\n",
       "      <th>Adj Close</th>\n",
       "      <th>Volume</th>\n",
       "    </tr>\n",
       "    <tr>\n",
       "      <th>Date</th>\n",
       "      <th></th>\n",
       "      <th></th>\n",
       "      <th></th>\n",
       "      <th></th>\n",
       "      <th></th>\n",
       "      <th></th>\n",
       "    </tr>\n",
       "  </thead>\n",
       "  <tbody>\n",
       "    <tr>\n",
       "      <th>2018-12-31</th>\n",
       "      <td>12.500000</td>\n",
       "      <td>12.720000</td>\n",
       "      <td>11.910000</td>\n",
       "      <td>12.280000</td>\n",
       "      <td>11.350496</td>\n",
       "      <td>1246800</td>\n",
       "    </tr>\n",
       "    <tr>\n",
       "      <th>2019-01-02</th>\n",
       "      <td>12.010000</td>\n",
       "      <td>13.080000</td>\n",
       "      <td>11.900000</td>\n",
       "      <td>12.890000</td>\n",
       "      <td>11.914326</td>\n",
       "      <td>1374900</td>\n",
       "    </tr>\n",
       "    <tr>\n",
       "      <th>2019-01-03</th>\n",
       "      <td>12.800000</td>\n",
       "      <td>13.540000</td>\n",
       "      <td>12.630000</td>\n",
       "      <td>13.060000</td>\n",
       "      <td>12.071457</td>\n",
       "      <td>1392400</td>\n",
       "    </tr>\n",
       "    <tr>\n",
       "      <th>2019-01-04</th>\n",
       "      <td>13.220000</td>\n",
       "      <td>13.690000</td>\n",
       "      <td>13.020000</td>\n",
       "      <td>13.540000</td>\n",
       "      <td>12.515124</td>\n",
       "      <td>1025000</td>\n",
       "    </tr>\n",
       "    <tr>\n",
       "      <th>2019-01-07</th>\n",
       "      <td>13.550000</td>\n",
       "      <td>14.260000</td>\n",
       "      <td>13.370000</td>\n",
       "      <td>14.120000</td>\n",
       "      <td>13.051224</td>\n",
       "      <td>1119200</td>\n",
       "    </tr>\n",
       "    <tr>\n",
       "      <th>...</th>\n",
       "      <td>...</td>\n",
       "      <td>...</td>\n",
       "      <td>...</td>\n",
       "      <td>...</td>\n",
       "      <td>...</td>\n",
       "      <td>...</td>\n",
       "    </tr>\n",
       "    <tr>\n",
       "      <th>2021-06-29</th>\n",
       "      <td>59.060001</td>\n",
       "      <td>61.000000</td>\n",
       "      <td>56.180000</td>\n",
       "      <td>56.430000</td>\n",
       "      <td>56.430000</td>\n",
       "      <td>63604100</td>\n",
       "    </tr>\n",
       "    <tr>\n",
       "      <th>2021-06-30</th>\n",
       "      <td>56.000000</td>\n",
       "      <td>58.180000</td>\n",
       "      <td>54.650002</td>\n",
       "      <td>56.680000</td>\n",
       "      <td>56.680000</td>\n",
       "      <td>59020600</td>\n",
       "    </tr>\n",
       "    <tr>\n",
       "      <th>2021-07-01</th>\n",
       "      <td>56.860001</td>\n",
       "      <td>57.709999</td>\n",
       "      <td>52.529999</td>\n",
       "      <td>54.220001</td>\n",
       "      <td>54.220001</td>\n",
       "      <td>57549900</td>\n",
       "    </tr>\n",
       "    <tr>\n",
       "      <th>2021-07-02</th>\n",
       "      <td>52.770000</td>\n",
       "      <td>53.250000</td>\n",
       "      <td>47.770000</td>\n",
       "      <td>51.959999</td>\n",
       "      <td>51.959999</td>\n",
       "      <td>90271500</td>\n",
       "    </tr>\n",
       "    <tr>\n",
       "      <th>2021-07-06</th>\n",
       "      <td>53.459999</td>\n",
       "      <td>55.070000</td>\n",
       "      <td>49.700001</td>\n",
       "      <td>49.959999</td>\n",
       "      <td>49.959999</td>\n",
       "      <td>62370300</td>\n",
       "    </tr>\n",
       "  </tbody>\n",
       "</table>\n",
       "<p>633 rows × 6 columns</p>\n",
       "</div>"
      ],
      "text/plain": [
       "                 Open       High        Low      Close  Adj Close    Volume\n",
       "Date                                                                       \n",
       "2018-12-31  12.500000  12.720000  11.910000  12.280000  11.350496   1246800\n",
       "2019-01-02  12.010000  13.080000  11.900000  12.890000  11.914326   1374900\n",
       "2019-01-03  12.800000  13.540000  12.630000  13.060000  12.071457   1392400\n",
       "2019-01-04  13.220000  13.690000  13.020000  13.540000  12.515124   1025000\n",
       "2019-01-07  13.550000  14.260000  13.370000  14.120000  13.051224   1119200\n",
       "...               ...        ...        ...        ...        ...       ...\n",
       "2021-06-29  59.060001  61.000000  56.180000  56.430000  56.430000  63604100\n",
       "2021-06-30  56.000000  58.180000  54.650002  56.680000  56.680000  59020600\n",
       "2021-07-01  56.860001  57.709999  52.529999  54.220001  54.220001  57549900\n",
       "2021-07-02  52.770000  53.250000  47.770000  51.959999  51.959999  90271500\n",
       "2021-07-06  53.459999  55.070000  49.700001  49.959999  49.959999  62370300\n",
       "\n",
       "[633 rows x 6 columns]"
      ]
     },
     "execution_count": 29,
     "metadata": {},
     "output_type": "execute_result"
    }
   ],
   "source": [
    "import yfinance as yf\n",
    "import yfinance as yfin\n",
    "yfin.pdr_override()   #As of July 2021 need to imort yfinance library \n",
    "\n",
    "\n",
    "AMC = data.get_data_yahoo(\"AMC\", start=\"2018-12-31\", end=\"2021-07-07\")\n",
    "AMC"
   ]
  },
  {
   "cell_type": "code",
   "execution_count": 30,
   "metadata": {},
   "outputs": [],
   "source": [
    "higher_than_62=AMC[\"High\"] > 62"
   ]
  },
  {
   "cell_type": "code",
   "execution_count": 31,
   "metadata": {},
   "outputs": [
    {
     "data": {
      "text/html": [
       "<div>\n",
       "<style scoped>\n",
       "    .dataframe tbody tr th:only-of-type {\n",
       "        vertical-align: middle;\n",
       "    }\n",
       "\n",
       "    .dataframe tbody tr th {\n",
       "        vertical-align: top;\n",
       "    }\n",
       "\n",
       "    .dataframe thead th {\n",
       "        text-align: right;\n",
       "    }\n",
       "</style>\n",
       "<table border=\"1\" class=\"dataframe\">\n",
       "  <thead>\n",
       "    <tr style=\"text-align: right;\">\n",
       "      <th></th>\n",
       "      <th>Open</th>\n",
       "      <th>High</th>\n",
       "      <th>Low</th>\n",
       "      <th>Close</th>\n",
       "      <th>Adj Close</th>\n",
       "      <th>Volume</th>\n",
       "    </tr>\n",
       "    <tr>\n",
       "      <th>Date</th>\n",
       "      <th></th>\n",
       "      <th></th>\n",
       "      <th></th>\n",
       "      <th></th>\n",
       "      <th></th>\n",
       "      <th></th>\n",
       "    </tr>\n",
       "  </thead>\n",
       "  <tbody>\n",
       "    <tr>\n",
       "      <th>2021-06-02</th>\n",
       "      <td>37.520000</td>\n",
       "      <td>72.620003</td>\n",
       "      <td>35.590000</td>\n",
       "      <td>62.549999</td>\n",
       "      <td>62.549999</td>\n",
       "      <td>766462500</td>\n",
       "    </tr>\n",
       "    <tr>\n",
       "      <th>2021-06-03</th>\n",
       "      <td>58.099998</td>\n",
       "      <td>68.800003</td>\n",
       "      <td>37.660000</td>\n",
       "      <td>51.340000</td>\n",
       "      <td>51.340000</td>\n",
       "      <td>598142200</td>\n",
       "    </tr>\n",
       "    <tr>\n",
       "      <th>2021-06-15</th>\n",
       "      <td>58.389999</td>\n",
       "      <td>64.709999</td>\n",
       "      <td>56.730000</td>\n",
       "      <td>59.040001</td>\n",
       "      <td>59.040001</td>\n",
       "      <td>285582100</td>\n",
       "    </tr>\n",
       "    <tr>\n",
       "      <th>2021-06-17</th>\n",
       "      <td>54.000000</td>\n",
       "      <td>63.830002</td>\n",
       "      <td>52.980000</td>\n",
       "      <td>60.730000</td>\n",
       "      <td>60.730000</td>\n",
       "      <td>303576000</td>\n",
       "    </tr>\n",
       "    <tr>\n",
       "      <th>2021-06-18</th>\n",
       "      <td>61.259998</td>\n",
       "      <td>64.959999</td>\n",
       "      <td>56.849998</td>\n",
       "      <td>59.259998</td>\n",
       "      <td>59.259998</td>\n",
       "      <td>243645900</td>\n",
       "    </tr>\n",
       "    <tr>\n",
       "      <th>2021-06-21</th>\n",
       "      <td>61.340000</td>\n",
       "      <td>63.009998</td>\n",
       "      <td>53.430000</td>\n",
       "      <td>55.689999</td>\n",
       "      <td>55.689999</td>\n",
       "      <td>185876100</td>\n",
       "    </tr>\n",
       "  </tbody>\n",
       "</table>\n",
       "</div>"
      ],
      "text/plain": [
       "                 Open       High        Low      Close  Adj Close     Volume\n",
       "Date                                                                        \n",
       "2021-06-02  37.520000  72.620003  35.590000  62.549999  62.549999  766462500\n",
       "2021-06-03  58.099998  68.800003  37.660000  51.340000  51.340000  598142200\n",
       "2021-06-15  58.389999  64.709999  56.730000  59.040001  59.040001  285582100\n",
       "2021-06-17  54.000000  63.830002  52.980000  60.730000  60.730000  303576000\n",
       "2021-06-18  61.259998  64.959999  56.849998  59.259998  59.259998  243645900\n",
       "2021-06-21  61.340000  63.009998  53.430000  55.689999  55.689999  185876100"
      ]
     },
     "execution_count": 31,
     "metadata": {},
     "output_type": "execute_result"
    }
   ],
   "source": [
    "AMC[higher_than_62] #AMC stock vlaues from end of year 2018 to present day with a High greater than 62"
   ]
  },
  {
   "cell_type": "code",
   "execution_count": 32,
   "metadata": {},
   "outputs": [
    {
     "data": {
      "text/html": [
       "<div>\n",
       "<style scoped>\n",
       "    .dataframe tbody tr th:only-of-type {\n",
       "        vertical-align: middle;\n",
       "    }\n",
       "\n",
       "    .dataframe tbody tr th {\n",
       "        vertical-align: top;\n",
       "    }\n",
       "\n",
       "    .dataframe thead th {\n",
       "        text-align: right;\n",
       "    }\n",
       "</style>\n",
       "<table border=\"1\" class=\"dataframe\">\n",
       "  <thead>\n",
       "    <tr style=\"text-align: right;\">\n",
       "      <th></th>\n",
       "      <th>Open</th>\n",
       "      <th>High</th>\n",
       "      <th>Low</th>\n",
       "      <th>Close</th>\n",
       "      <th>Adj Close</th>\n",
       "      <th>Volume</th>\n",
       "    </tr>\n",
       "    <tr>\n",
       "      <th>Date</th>\n",
       "      <th></th>\n",
       "      <th></th>\n",
       "      <th></th>\n",
       "      <th></th>\n",
       "      <th></th>\n",
       "      <th></th>\n",
       "    </tr>\n",
       "  </thead>\n",
       "  <tbody>\n",
       "    <tr>\n",
       "      <th>2021-06-01</th>\n",
       "      <td>31.889999</td>\n",
       "      <td>33.529999</td>\n",
       "      <td>28.530001</td>\n",
       "      <td>32.040001</td>\n",
       "      <td>32.040001</td>\n",
       "      <td>508694600</td>\n",
       "    </tr>\n",
       "    <tr>\n",
       "      <th>2021-06-02</th>\n",
       "      <td>37.520000</td>\n",
       "      <td>72.620003</td>\n",
       "      <td>35.590000</td>\n",
       "      <td>62.549999</td>\n",
       "      <td>62.549999</td>\n",
       "      <td>766462500</td>\n",
       "    </tr>\n",
       "    <tr>\n",
       "      <th>2021-06-03</th>\n",
       "      <td>58.099998</td>\n",
       "      <td>68.800003</td>\n",
       "      <td>37.660000</td>\n",
       "      <td>51.340000</td>\n",
       "      <td>51.340000</td>\n",
       "      <td>598142200</td>\n",
       "    </tr>\n",
       "    <tr>\n",
       "      <th>2021-06-04</th>\n",
       "      <td>48.790001</td>\n",
       "      <td>57.480000</td>\n",
       "      <td>46.040001</td>\n",
       "      <td>47.910000</td>\n",
       "      <td>47.910000</td>\n",
       "      <td>337710100</td>\n",
       "    </tr>\n",
       "    <tr>\n",
       "      <th>2021-06-07</th>\n",
       "      <td>52.380001</td>\n",
       "      <td>59.680000</td>\n",
       "      <td>51.500000</td>\n",
       "      <td>55.000000</td>\n",
       "      <td>55.000000</td>\n",
       "      <td>349094900</td>\n",
       "    </tr>\n",
       "    <tr>\n",
       "      <th>...</th>\n",
       "      <td>...</td>\n",
       "      <td>...</td>\n",
       "      <td>...</td>\n",
       "      <td>...</td>\n",
       "      <td>...</td>\n",
       "      <td>...</td>\n",
       "    </tr>\n",
       "    <tr>\n",
       "      <th>2021-06-29</th>\n",
       "      <td>59.060001</td>\n",
       "      <td>61.000000</td>\n",
       "      <td>56.180000</td>\n",
       "      <td>56.430000</td>\n",
       "      <td>56.430000</td>\n",
       "      <td>63604100</td>\n",
       "    </tr>\n",
       "    <tr>\n",
       "      <th>2021-06-30</th>\n",
       "      <td>56.000000</td>\n",
       "      <td>58.180000</td>\n",
       "      <td>54.650002</td>\n",
       "      <td>56.680000</td>\n",
       "      <td>56.680000</td>\n",
       "      <td>59020600</td>\n",
       "    </tr>\n",
       "    <tr>\n",
       "      <th>2021-07-01</th>\n",
       "      <td>56.860001</td>\n",
       "      <td>57.709999</td>\n",
       "      <td>52.529999</td>\n",
       "      <td>54.220001</td>\n",
       "      <td>54.220001</td>\n",
       "      <td>57549900</td>\n",
       "    </tr>\n",
       "    <tr>\n",
       "      <th>2021-07-02</th>\n",
       "      <td>52.770000</td>\n",
       "      <td>53.250000</td>\n",
       "      <td>47.770000</td>\n",
       "      <td>51.959999</td>\n",
       "      <td>51.959999</td>\n",
       "      <td>90271500</td>\n",
       "    </tr>\n",
       "    <tr>\n",
       "      <th>2021-07-06</th>\n",
       "      <td>53.459999</td>\n",
       "      <td>55.070000</td>\n",
       "      <td>49.700001</td>\n",
       "      <td>49.959999</td>\n",
       "      <td>49.959999</td>\n",
       "      <td>62370300</td>\n",
       "    </tr>\n",
       "  </tbody>\n",
       "</table>\n",
       "<p>25 rows × 6 columns</p>\n",
       "</div>"
      ],
      "text/plain": [
       "                 Open       High        Low      Close  Adj Close     Volume\n",
       "Date                                                                        \n",
       "2021-06-01  31.889999  33.529999  28.530001  32.040001  32.040001  508694600\n",
       "2021-06-02  37.520000  72.620003  35.590000  62.549999  62.549999  766462500\n",
       "2021-06-03  58.099998  68.800003  37.660000  51.340000  51.340000  598142200\n",
       "2021-06-04  48.790001  57.480000  46.040001  47.910000  47.910000  337710100\n",
       "2021-06-07  52.380001  59.680000  51.500000  55.000000  55.000000  349094900\n",
       "...               ...        ...        ...        ...        ...        ...\n",
       "2021-06-29  59.060001  61.000000  56.180000  56.430000  56.430000   63604100\n",
       "2021-06-30  56.000000  58.180000  54.650002  56.680000  56.680000   59020600\n",
       "2021-07-01  56.860001  57.709999  52.529999  54.220001  54.220001   57549900\n",
       "2021-07-02  52.770000  53.250000  47.770000  51.959999  51.959999   90271500\n",
       "2021-07-06  53.459999  55.070000  49.700001  49.959999  49.959999   62370300\n",
       "\n",
       "[25 rows x 6 columns]"
      ]
     },
     "execution_count": 32,
     "metadata": {},
     "output_type": "execute_result"
    }
   ],
   "source": [
    "twomonths = AMC.loc[\"2021-06-01\":\"2021-07-07\"]\n",
    "twomonths"
   ]
  },
  {
   "cell_type": "code",
   "execution_count": 33,
   "metadata": {},
   "outputs": [],
   "source": [
    "higher_than_60 = twomonths[\"High\"]>=60"
   ]
  },
  {
   "cell_type": "code",
   "execution_count": 34,
   "metadata": {},
   "outputs": [],
   "source": [
    "good_day = twomonths[higher_than_60] #AMC High >= 60"
   ]
  },
  {
   "cell_type": "code",
   "execution_count": 35,
   "metadata": {},
   "outputs": [],
   "source": [
    "birthdays = pd.date_range(start=\"02/20/1997\",end=\"12/31/2021\",freq=pd.DateOffset(years=1)) #will look at same date each year "
   ]
  },
  {
   "cell_type": "code",
   "execution_count": 36,
   "metadata": {},
   "outputs": [],
   "source": [
    "bday_stocks = stocks.index.isin(birthdays)"
   ]
  },
  {
   "cell_type": "code",
   "execution_count": 37,
   "metadata": {},
   "outputs": [
    {
     "data": {
      "text/html": [
       "<div>\n",
       "<style scoped>\n",
       "    .dataframe tbody tr th:only-of-type {\n",
       "        vertical-align: middle;\n",
       "    }\n",
       "\n",
       "    .dataframe tbody tr th {\n",
       "        vertical-align: top;\n",
       "    }\n",
       "\n",
       "    .dataframe thead th {\n",
       "        text-align: right;\n",
       "    }\n",
       "</style>\n",
       "<table border=\"1\" class=\"dataframe\">\n",
       "  <thead>\n",
       "    <tr style=\"text-align: right;\">\n",
       "      <th></th>\n",
       "      <th>Open</th>\n",
       "      <th>High</th>\n",
       "      <th>Low</th>\n",
       "      <th>Close</th>\n",
       "      <th>Adj Close</th>\n",
       "      <th>Volume</th>\n",
       "    </tr>\n",
       "    <tr>\n",
       "      <th>Date</th>\n",
       "      <th></th>\n",
       "      <th></th>\n",
       "      <th></th>\n",
       "      <th></th>\n",
       "      <th></th>\n",
       "      <th></th>\n",
       "    </tr>\n",
       "  </thead>\n",
       "  <tbody>\n",
       "    <tr>\n",
       "      <th>2015-02-20</th>\n",
       "      <td>32.580002</td>\n",
       "      <td>32.66</td>\n",
       "      <td>32.040001</td>\n",
       "      <td>32.610001</td>\n",
       "      <td>24.047518</td>\n",
       "      <td>314700</td>\n",
       "    </tr>\n",
       "    <tr>\n",
       "      <th>2018-02-20</th>\n",
       "      <td>14.650000</td>\n",
       "      <td>15.00</td>\n",
       "      <td>14.310000</td>\n",
       "      <td>14.500000</td>\n",
       "      <td>11.815761</td>\n",
       "      <td>2002300</td>\n",
       "    </tr>\n",
       "    <tr>\n",
       "      <th>2019-02-20</th>\n",
       "      <td>13.320000</td>\n",
       "      <td>13.88</td>\n",
       "      <td>13.250000</td>\n",
       "      <td>13.670000</td>\n",
       "      <td>12.635283</td>\n",
       "      <td>1771600</td>\n",
       "    </tr>\n",
       "    <tr>\n",
       "      <th>2020-02-20</th>\n",
       "      <td>7.320000</td>\n",
       "      <td>7.78</td>\n",
       "      <td>7.210000</td>\n",
       "      <td>7.760000</td>\n",
       "      <td>7.712683</td>\n",
       "      <td>3649100</td>\n",
       "    </tr>\n",
       "  </tbody>\n",
       "</table>\n",
       "</div>"
      ],
      "text/plain": [
       "                 Open   High        Low      Close  Adj Close   Volume\n",
       "Date                                                                  \n",
       "2015-02-20  32.580002  32.66  32.040001  32.610001  24.047518   314700\n",
       "2018-02-20  14.650000  15.00  14.310000  14.500000  11.815761  2002300\n",
       "2019-02-20  13.320000  13.88  13.250000  13.670000  12.635283  1771600\n",
       "2020-02-20   7.320000   7.78   7.210000   7.760000   7.712683  3649100"
      ]
     },
     "execution_count": 37,
     "metadata": {},
     "output_type": "execute_result"
    }
   ],
   "source": [
    "stocks[bday_stocks] #AMC stocks that fall on my birthday "
   ]
  },
  {
   "cell_type": "code",
   "execution_count": 38,
   "metadata": {},
   "outputs": [],
   "source": [
    "someday=stocks.index[500] #datetime index is bundle of timestamp object-> each timestamp object represents a date time ( a given momemnt in time) "
   ]
  },
  {
   "cell_type": "code",
   "execution_count": 39,
   "metadata": {},
   "outputs": [
    {
     "data": {
      "text/plain": [
       "Timestamp('2016-12-27 00:00:00')"
      ]
     },
     "execution_count": 39,
     "metadata": {},
     "output_type": "execute_result"
    }
   ],
   "source": [
    "someday "
   ]
  },
  {
   "cell_type": "code",
   "execution_count": 40,
   "metadata": {},
   "outputs": [
    {
     "data": {
      "text/plain": [
       "27"
      ]
     },
     "execution_count": 40,
     "metadata": {},
     "output_type": "execute_result"
    }
   ],
   "source": [
    "#some available methods to use to get information on this timestamp object\n",
    "someday.month\n",
    "someday.year  #can invoke any of these on a datetime index\n",
    "someday.is_month_start\n",
    "someday.is_month_end\n",
    "someday.is_quarter_end\n",
    "someday.is_quarter_start\n",
    "someday.day"
   ]
  },
  {
   "cell_type": "code",
   "execution_count": 41,
   "metadata": {},
   "outputs": [
    {
     "data": {
      "text/plain": [
       "'December'"
      ]
     },
     "execution_count": 41,
     "metadata": {},
     "output_type": "execute_result"
    }
   ],
   "source": [
    "someday.month_name()"
   ]
  },
  {
   "cell_type": "code",
   "execution_count": 42,
   "metadata": {},
   "outputs": [
    {
     "data": {
      "text/plain": [
       "Index(['Friday', 'Monday', 'Tuesday', 'Wednesday', 'Thursday', 'Friday',\n",
       "       'Monday', 'Tuesday', 'Wednesday', 'Thursday',\n",
       "       ...\n",
       "       'Friday', 'Monday', 'Tuesday', 'Wednesday', 'Thursday', 'Friday',\n",
       "       'Tuesday', 'Wednesday', 'Thursday', 'Friday'],\n",
       "      dtype='object', name='Date', length=1641)"
      ]
     },
     "execution_count": 42,
     "metadata": {},
     "output_type": "execute_result"
    }
   ],
   "source": [
    "stocks.index.day_name()"
   ]
  },
  {
   "cell_type": "code",
   "execution_count": 43,
   "metadata": {},
   "outputs": [],
   "source": [
    "stocks.insert(0, \"Day of Week\", stocks.index.day_name()) #add day of week column at index 0 "
   ]
  },
  {
   "cell_type": "code",
   "execution_count": 44,
   "metadata": {},
   "outputs": [
    {
     "data": {
      "text/html": [
       "<div>\n",
       "<style scoped>\n",
       "    .dataframe tbody tr th:only-of-type {\n",
       "        vertical-align: middle;\n",
       "    }\n",
       "\n",
       "    .dataframe tbody tr th {\n",
       "        vertical-align: top;\n",
       "    }\n",
       "\n",
       "    .dataframe thead th {\n",
       "        text-align: right;\n",
       "    }\n",
       "</style>\n",
       "<table border=\"1\" class=\"dataframe\">\n",
       "  <thead>\n",
       "    <tr style=\"text-align: right;\">\n",
       "      <th></th>\n",
       "      <th>Day of Week</th>\n",
       "      <th>Open</th>\n",
       "      <th>High</th>\n",
       "      <th>Low</th>\n",
       "      <th>Close</th>\n",
       "      <th>Adj Close</th>\n",
       "      <th>Volume</th>\n",
       "    </tr>\n",
       "    <tr>\n",
       "      <th>Date</th>\n",
       "      <th></th>\n",
       "      <th></th>\n",
       "      <th></th>\n",
       "      <th></th>\n",
       "      <th></th>\n",
       "      <th></th>\n",
       "      <th></th>\n",
       "    </tr>\n",
       "  </thead>\n",
       "  <tbody>\n",
       "    <tr>\n",
       "      <th>2015-01-02</th>\n",
       "      <td>Friday</td>\n",
       "      <td>26.260000</td>\n",
       "      <td>26.299999</td>\n",
       "      <td>24.930000</td>\n",
       "      <td>25.629999</td>\n",
       "      <td>18.900267</td>\n",
       "      <td>420900</td>\n",
       "    </tr>\n",
       "    <tr>\n",
       "      <th>2015-01-05</th>\n",
       "      <td>Monday</td>\n",
       "      <td>25.490000</td>\n",
       "      <td>25.559999</td>\n",
       "      <td>24.930000</td>\n",
       "      <td>24.969999</td>\n",
       "      <td>18.413568</td>\n",
       "      <td>246500</td>\n",
       "    </tr>\n",
       "    <tr>\n",
       "      <th>2015-01-06</th>\n",
       "      <td>Tuesday</td>\n",
       "      <td>24.990000</td>\n",
       "      <td>25.600000</td>\n",
       "      <td>24.270000</td>\n",
       "      <td>25.170000</td>\n",
       "      <td>18.561052</td>\n",
       "      <td>271500</td>\n",
       "    </tr>\n",
       "    <tr>\n",
       "      <th>2015-01-07</th>\n",
       "      <td>Wednesday</td>\n",
       "      <td>25.309999</td>\n",
       "      <td>25.670000</td>\n",
       "      <td>25.010000</td>\n",
       "      <td>25.580000</td>\n",
       "      <td>18.863400</td>\n",
       "      <td>175400</td>\n",
       "    </tr>\n",
       "    <tr>\n",
       "      <th>2015-01-08</th>\n",
       "      <td>Thursday</td>\n",
       "      <td>25.760000</td>\n",
       "      <td>26.120001</td>\n",
       "      <td>25.309999</td>\n",
       "      <td>25.830000</td>\n",
       "      <td>19.047752</td>\n",
       "      <td>192800</td>\n",
       "    </tr>\n",
       "    <tr>\n",
       "      <th>...</th>\n",
       "      <td>...</td>\n",
       "      <td>...</td>\n",
       "      <td>...</td>\n",
       "      <td>...</td>\n",
       "      <td>...</td>\n",
       "      <td>...</td>\n",
       "      <td>...</td>\n",
       "    </tr>\n",
       "    <tr>\n",
       "      <th>2021-07-02</th>\n",
       "      <td>Friday</td>\n",
       "      <td>52.770000</td>\n",
       "      <td>53.250000</td>\n",
       "      <td>47.770000</td>\n",
       "      <td>51.959999</td>\n",
       "      <td>51.959999</td>\n",
       "      <td>90271500</td>\n",
       "    </tr>\n",
       "    <tr>\n",
       "      <th>2021-07-06</th>\n",
       "      <td>Tuesday</td>\n",
       "      <td>53.459999</td>\n",
       "      <td>55.070000</td>\n",
       "      <td>49.700001</td>\n",
       "      <td>49.959999</td>\n",
       "      <td>49.959999</td>\n",
       "      <td>62370300</td>\n",
       "    </tr>\n",
       "    <tr>\n",
       "      <th>2021-07-07</th>\n",
       "      <td>Wednesday</td>\n",
       "      <td>47.700001</td>\n",
       "      <td>48.990002</td>\n",
       "      <td>42.799999</td>\n",
       "      <td>45.070000</td>\n",
       "      <td>45.070000</td>\n",
       "      <td>95320200</td>\n",
       "    </tr>\n",
       "    <tr>\n",
       "      <th>2021-07-08</th>\n",
       "      <td>Thursday</td>\n",
       "      <td>40.950001</td>\n",
       "      <td>49.790001</td>\n",
       "      <td>38.759998</td>\n",
       "      <td>47.939999</td>\n",
       "      <td>47.939999</td>\n",
       "      <td>145078200</td>\n",
       "    </tr>\n",
       "    <tr>\n",
       "      <th>2021-07-09</th>\n",
       "      <td>Friday</td>\n",
       "      <td>48.369999</td>\n",
       "      <td>48.919998</td>\n",
       "      <td>45.820000</td>\n",
       "      <td>46.189999</td>\n",
       "      <td>46.189999</td>\n",
       "      <td>57699900</td>\n",
       "    </tr>\n",
       "  </tbody>\n",
       "</table>\n",
       "<p>1641 rows × 7 columns</p>\n",
       "</div>"
      ],
      "text/plain": [
       "           Day of Week       Open       High        Low      Close  Adj Close  \\\n",
       "Date                                                                            \n",
       "2015-01-02      Friday  26.260000  26.299999  24.930000  25.629999  18.900267   \n",
       "2015-01-05      Monday  25.490000  25.559999  24.930000  24.969999  18.413568   \n",
       "2015-01-06     Tuesday  24.990000  25.600000  24.270000  25.170000  18.561052   \n",
       "2015-01-07   Wednesday  25.309999  25.670000  25.010000  25.580000  18.863400   \n",
       "2015-01-08    Thursday  25.760000  26.120001  25.309999  25.830000  19.047752   \n",
       "...                ...        ...        ...        ...        ...        ...   \n",
       "2021-07-02      Friday  52.770000  53.250000  47.770000  51.959999  51.959999   \n",
       "2021-07-06     Tuesday  53.459999  55.070000  49.700001  49.959999  49.959999   \n",
       "2021-07-07   Wednesday  47.700001  48.990002  42.799999  45.070000  45.070000   \n",
       "2021-07-08    Thursday  40.950001  49.790001  38.759998  47.939999  47.939999   \n",
       "2021-07-09      Friday  48.369999  48.919998  45.820000  46.189999  46.189999   \n",
       "\n",
       "               Volume  \n",
       "Date                   \n",
       "2015-01-02     420900  \n",
       "2015-01-05     246500  \n",
       "2015-01-06     271500  \n",
       "2015-01-07     175400  \n",
       "2015-01-08     192800  \n",
       "...               ...  \n",
       "2021-07-02   90271500  \n",
       "2021-07-06   62370300  \n",
       "2021-07-07   95320200  \n",
       "2021-07-08  145078200  \n",
       "2021-07-09   57699900  \n",
       "\n",
       "[1641 rows x 7 columns]"
      ]
     },
     "execution_count": 44,
     "metadata": {},
     "output_type": "execute_result"
    }
   ],
   "source": [
    "stocks"
   ]
  },
  {
   "cell_type": "code",
   "execution_count": 45,
   "metadata": {},
   "outputs": [
    {
     "data": {
      "text/plain": [
       "Index(['Friday', 'Monday', 'Tuesday', 'Wednesday', 'Thursday', 'Friday',\n",
       "       'Monday', 'Tuesday', 'Wednesday', 'Thursday',\n",
       "       ...\n",
       "       'Friday', 'Monday', 'Tuesday', 'Wednesday', 'Thursday', 'Friday',\n",
       "       'Tuesday', 'Wednesday', 'Thursday', 'Friday'],\n",
       "      dtype='object', name='Date', length=1641)"
      ]
     },
     "execution_count": 45,
     "metadata": {},
     "output_type": "execute_result"
    }
   ],
   "source": [
    "stocks.index.day_name()"
   ]
  },
  {
   "cell_type": "code",
   "execution_count": 46,
   "metadata": {},
   "outputs": [],
   "source": [
    "stocks.insert(1, \"is_start_of_month\", stocks.index.is_month_start)"
   ]
  },
  {
   "cell_type": "code",
   "execution_count": 47,
   "metadata": {},
   "outputs": [
    {
     "data": {
      "text/html": [
       "<div>\n",
       "<style scoped>\n",
       "    .dataframe tbody tr th:only-of-type {\n",
       "        vertical-align: middle;\n",
       "    }\n",
       "\n",
       "    .dataframe tbody tr th {\n",
       "        vertical-align: top;\n",
       "    }\n",
       "\n",
       "    .dataframe thead th {\n",
       "        text-align: right;\n",
       "    }\n",
       "</style>\n",
       "<table border=\"1\" class=\"dataframe\">\n",
       "  <thead>\n",
       "    <tr style=\"text-align: right;\">\n",
       "      <th></th>\n",
       "      <th>Day of Week</th>\n",
       "      <th>is_start_of_month</th>\n",
       "      <th>Open</th>\n",
       "      <th>High</th>\n",
       "      <th>Low</th>\n",
       "      <th>Close</th>\n",
       "      <th>Adj Close</th>\n",
       "      <th>Volume</th>\n",
       "    </tr>\n",
       "    <tr>\n",
       "      <th>Date</th>\n",
       "      <th></th>\n",
       "      <th></th>\n",
       "      <th></th>\n",
       "      <th></th>\n",
       "      <th></th>\n",
       "      <th></th>\n",
       "      <th></th>\n",
       "      <th></th>\n",
       "    </tr>\n",
       "  </thead>\n",
       "  <tbody>\n",
       "    <tr>\n",
       "      <th>2015-04-01</th>\n",
       "      <td>Wednesday</td>\n",
       "      <td>True</td>\n",
       "      <td>35.369999</td>\n",
       "      <td>35.619999</td>\n",
       "      <td>34.180000</td>\n",
       "      <td>34.759998</td>\n",
       "      <td>25.780092</td>\n",
       "      <td>326800</td>\n",
       "    </tr>\n",
       "    <tr>\n",
       "      <th>2015-05-01</th>\n",
       "      <td>Friday</td>\n",
       "      <td>True</td>\n",
       "      <td>30.250000</td>\n",
       "      <td>30.860001</td>\n",
       "      <td>30.110001</td>\n",
       "      <td>30.750000</td>\n",
       "      <td>22.806034</td>\n",
       "      <td>426500</td>\n",
       "    </tr>\n",
       "    <tr>\n",
       "      <th>2015-06-01</th>\n",
       "      <td>Monday</td>\n",
       "      <td>True</td>\n",
       "      <td>28.680000</td>\n",
       "      <td>28.690001</td>\n",
       "      <td>27.090000</td>\n",
       "      <td>28.000000</td>\n",
       "      <td>20.766472</td>\n",
       "      <td>742400</td>\n",
       "    </tr>\n",
       "    <tr>\n",
       "      <th>2015-07-01</th>\n",
       "      <td>Wednesday</td>\n",
       "      <td>True</td>\n",
       "      <td>30.940001</td>\n",
       "      <td>31.100000</td>\n",
       "      <td>30.250000</td>\n",
       "      <td>30.379999</td>\n",
       "      <td>22.691191</td>\n",
       "      <td>280800</td>\n",
       "    </tr>\n",
       "    <tr>\n",
       "      <th>2015-09-01</th>\n",
       "      <td>Tuesday</td>\n",
       "      <td>True</td>\n",
       "      <td>28.559999</td>\n",
       "      <td>28.750000</td>\n",
       "      <td>27.650000</td>\n",
       "      <td>27.709999</td>\n",
       "      <td>20.696938</td>\n",
       "      <td>242900</td>\n",
       "    </tr>\n",
       "    <tr>\n",
       "      <th>...</th>\n",
       "      <td>...</td>\n",
       "      <td>...</td>\n",
       "      <td>...</td>\n",
       "      <td>...</td>\n",
       "      <td>...</td>\n",
       "      <td>...</td>\n",
       "      <td>...</td>\n",
       "      <td>...</td>\n",
       "    </tr>\n",
       "    <tr>\n",
       "      <th>2021-02-01</th>\n",
       "      <td>Monday</td>\n",
       "      <td>True</td>\n",
       "      <td>17.000000</td>\n",
       "      <td>17.250000</td>\n",
       "      <td>12.910000</td>\n",
       "      <td>13.300000</td>\n",
       "      <td>13.300000</td>\n",
       "      <td>434608000</td>\n",
       "    </tr>\n",
       "    <tr>\n",
       "      <th>2021-03-01</th>\n",
       "      <td>Monday</td>\n",
       "      <td>True</td>\n",
       "      <td>8.860000</td>\n",
       "      <td>9.450000</td>\n",
       "      <td>8.420000</td>\n",
       "      <td>9.180000</td>\n",
       "      <td>9.180000</td>\n",
       "      <td>143586500</td>\n",
       "    </tr>\n",
       "    <tr>\n",
       "      <th>2021-04-01</th>\n",
       "      <td>Thursday</td>\n",
       "      <td>True</td>\n",
       "      <td>10.230000</td>\n",
       "      <td>10.260000</td>\n",
       "      <td>9.150000</td>\n",
       "      <td>9.360000</td>\n",
       "      <td>9.360000</td>\n",
       "      <td>77473900</td>\n",
       "    </tr>\n",
       "    <tr>\n",
       "      <th>2021-06-01</th>\n",
       "      <td>Tuesday</td>\n",
       "      <td>True</td>\n",
       "      <td>31.889999</td>\n",
       "      <td>33.529999</td>\n",
       "      <td>28.530001</td>\n",
       "      <td>32.040001</td>\n",
       "      <td>32.040001</td>\n",
       "      <td>508694600</td>\n",
       "    </tr>\n",
       "    <tr>\n",
       "      <th>2021-07-01</th>\n",
       "      <td>Thursday</td>\n",
       "      <td>True</td>\n",
       "      <td>56.860001</td>\n",
       "      <td>57.709999</td>\n",
       "      <td>52.529999</td>\n",
       "      <td>54.220001</td>\n",
       "      <td>54.220001</td>\n",
       "      <td>57549900</td>\n",
       "    </tr>\n",
       "  </tbody>\n",
       "</table>\n",
       "<p>51 rows × 8 columns</p>\n",
       "</div>"
      ],
      "text/plain": [
       "           Day of Week  is_start_of_month       Open       High        Low  \\\n",
       "Date                                                                         \n",
       "2015-04-01   Wednesday               True  35.369999  35.619999  34.180000   \n",
       "2015-05-01      Friday               True  30.250000  30.860001  30.110001   \n",
       "2015-06-01      Monday               True  28.680000  28.690001  27.090000   \n",
       "2015-07-01   Wednesday               True  30.940001  31.100000  30.250000   \n",
       "2015-09-01     Tuesday               True  28.559999  28.750000  27.650000   \n",
       "...                ...                ...        ...        ...        ...   \n",
       "2021-02-01      Monday               True  17.000000  17.250000  12.910000   \n",
       "2021-03-01      Monday               True   8.860000   9.450000   8.420000   \n",
       "2021-04-01    Thursday               True  10.230000  10.260000   9.150000   \n",
       "2021-06-01     Tuesday               True  31.889999  33.529999  28.530001   \n",
       "2021-07-01    Thursday               True  56.860001  57.709999  52.529999   \n",
       "\n",
       "                Close  Adj Close     Volume  \n",
       "Date                                         \n",
       "2015-04-01  34.759998  25.780092     326800  \n",
       "2015-05-01  30.750000  22.806034     426500  \n",
       "2015-06-01  28.000000  20.766472     742400  \n",
       "2015-07-01  30.379999  22.691191     280800  \n",
       "2015-09-01  27.709999  20.696938     242900  \n",
       "...               ...        ...        ...  \n",
       "2021-02-01  13.300000  13.300000  434608000  \n",
       "2021-03-01   9.180000   9.180000  143586500  \n",
       "2021-04-01   9.360000   9.360000   77473900  \n",
       "2021-06-01  32.040001  32.040001  508694600  \n",
       "2021-07-01  54.220001  54.220001   57549900  \n",
       "\n",
       "[51 rows x 8 columns]"
      ]
     },
     "execution_count": 47,
     "metadata": {},
     "output_type": "execute_result"
    }
   ],
   "source": [
    "stocks[stocks[\"is_start_of_month\"]]"
   ]
  },
  {
   "cell_type": "markdown",
   "metadata": {},
   "source": [
    "# The pd.DateOffset object"
   ]
  },
  {
   "cell_type": "code",
   "execution_count": null,
   "metadata": {},
   "outputs": [],
   "source": []
  },
  {
   "cell_type": "code",
   "execution_count": 48,
   "metadata": {},
   "outputs": [
    {
     "name": "stdout",
     "output_type": "stream",
     "text": [
      "[*********************100%***********************]  1 of 1 completed\n"
     ]
    },
    {
     "data": {
      "text/html": [
       "<div>\n",
       "<style scoped>\n",
       "    .dataframe tbody tr th:only-of-type {\n",
       "        vertical-align: middle;\n",
       "    }\n",
       "\n",
       "    .dataframe tbody tr th {\n",
       "        vertical-align: top;\n",
       "    }\n",
       "\n",
       "    .dataframe thead th {\n",
       "        text-align: right;\n",
       "    }\n",
       "</style>\n",
       "<table border=\"1\" class=\"dataframe\">\n",
       "  <thead>\n",
       "    <tr style=\"text-align: right;\">\n",
       "      <th></th>\n",
       "      <th>Open</th>\n",
       "      <th>High</th>\n",
       "      <th>Low</th>\n",
       "      <th>Close</th>\n",
       "      <th>Adj Close</th>\n",
       "      <th>Volume</th>\n",
       "    </tr>\n",
       "    <tr>\n",
       "      <th>Date</th>\n",
       "      <th></th>\n",
       "      <th></th>\n",
       "      <th></th>\n",
       "      <th></th>\n",
       "      <th></th>\n",
       "      <th></th>\n",
       "    </tr>\n",
       "  </thead>\n",
       "  <tbody>\n",
       "    <tr>\n",
       "      <th>2018-12-31</th>\n",
       "      <td>12.500000</td>\n",
       "      <td>12.720000</td>\n",
       "      <td>11.910000</td>\n",
       "      <td>12.280000</td>\n",
       "      <td>11.350496</td>\n",
       "      <td>1246800</td>\n",
       "    </tr>\n",
       "    <tr>\n",
       "      <th>2019-01-02</th>\n",
       "      <td>12.010000</td>\n",
       "      <td>13.080000</td>\n",
       "      <td>11.900000</td>\n",
       "      <td>12.890000</td>\n",
       "      <td>11.914326</td>\n",
       "      <td>1374900</td>\n",
       "    </tr>\n",
       "    <tr>\n",
       "      <th>2019-01-03</th>\n",
       "      <td>12.800000</td>\n",
       "      <td>13.540000</td>\n",
       "      <td>12.630000</td>\n",
       "      <td>13.060000</td>\n",
       "      <td>12.071457</td>\n",
       "      <td>1392400</td>\n",
       "    </tr>\n",
       "    <tr>\n",
       "      <th>2019-01-04</th>\n",
       "      <td>13.220000</td>\n",
       "      <td>13.690000</td>\n",
       "      <td>13.020000</td>\n",
       "      <td>13.540000</td>\n",
       "      <td>12.515124</td>\n",
       "      <td>1025000</td>\n",
       "    </tr>\n",
       "    <tr>\n",
       "      <th>2019-01-07</th>\n",
       "      <td>13.550000</td>\n",
       "      <td>14.260000</td>\n",
       "      <td>13.370000</td>\n",
       "      <td>14.120000</td>\n",
       "      <td>13.051224</td>\n",
       "      <td>1119200</td>\n",
       "    </tr>\n",
       "    <tr>\n",
       "      <th>...</th>\n",
       "      <td>...</td>\n",
       "      <td>...</td>\n",
       "      <td>...</td>\n",
       "      <td>...</td>\n",
       "      <td>...</td>\n",
       "      <td>...</td>\n",
       "    </tr>\n",
       "    <tr>\n",
       "      <th>2021-06-29</th>\n",
       "      <td>59.060001</td>\n",
       "      <td>61.000000</td>\n",
       "      <td>56.180000</td>\n",
       "      <td>56.430000</td>\n",
       "      <td>56.430000</td>\n",
       "      <td>63604100</td>\n",
       "    </tr>\n",
       "    <tr>\n",
       "      <th>2021-06-30</th>\n",
       "      <td>56.000000</td>\n",
       "      <td>58.180000</td>\n",
       "      <td>54.650002</td>\n",
       "      <td>56.680000</td>\n",
       "      <td>56.680000</td>\n",
       "      <td>59020600</td>\n",
       "    </tr>\n",
       "    <tr>\n",
       "      <th>2021-07-01</th>\n",
       "      <td>56.860001</td>\n",
       "      <td>57.709999</td>\n",
       "      <td>52.529999</td>\n",
       "      <td>54.220001</td>\n",
       "      <td>54.220001</td>\n",
       "      <td>57549900</td>\n",
       "    </tr>\n",
       "    <tr>\n",
       "      <th>2021-07-02</th>\n",
       "      <td>52.770000</td>\n",
       "      <td>53.250000</td>\n",
       "      <td>47.770000</td>\n",
       "      <td>51.959999</td>\n",
       "      <td>51.959999</td>\n",
       "      <td>90271500</td>\n",
       "    </tr>\n",
       "    <tr>\n",
       "      <th>2021-07-06</th>\n",
       "      <td>53.459999</td>\n",
       "      <td>55.070000</td>\n",
       "      <td>49.700001</td>\n",
       "      <td>49.959999</td>\n",
       "      <td>49.959999</td>\n",
       "      <td>62370300</td>\n",
       "    </tr>\n",
       "  </tbody>\n",
       "</table>\n",
       "<p>633 rows × 6 columns</p>\n",
       "</div>"
      ],
      "text/plain": [
       "                 Open       High        Low      Close  Adj Close    Volume\n",
       "Date                                                                       \n",
       "2018-12-31  12.500000  12.720000  11.910000  12.280000  11.350496   1246800\n",
       "2019-01-02  12.010000  13.080000  11.900000  12.890000  11.914326   1374900\n",
       "2019-01-03  12.800000  13.540000  12.630000  13.060000  12.071457   1392400\n",
       "2019-01-04  13.220000  13.690000  13.020000  13.540000  12.515124   1025000\n",
       "2019-01-07  13.550000  14.260000  13.370000  14.120000  13.051224   1119200\n",
       "...               ...        ...        ...        ...        ...       ...\n",
       "2021-06-29  59.060001  61.000000  56.180000  56.430000  56.430000  63604100\n",
       "2021-06-30  56.000000  58.180000  54.650002  56.680000  56.680000  59020600\n",
       "2021-07-01  56.860001  57.709999  52.529999  54.220001  54.220001  57549900\n",
       "2021-07-02  52.770000  53.250000  47.770000  51.959999  51.959999  90271500\n",
       "2021-07-06  53.459999  55.070000  49.700001  49.959999  49.959999  62370300\n",
       "\n",
       "[633 rows x 6 columns]"
      ]
     },
     "execution_count": 48,
     "metadata": {},
     "output_type": "execute_result"
    }
   ],
   "source": [
    "import yfinance as yf\n",
    "import yfinance as yfin\n",
    "yfin.pdr_override()   #As of July 2021 need to imort yfinance library \n",
    "\n",
    "\n",
    "AMC = data.get_data_yahoo(\"AMC\", start=\"2018-12-31\", end=\"2021-07-07\")\n",
    "AMC"
   ]
  },
  {
   "cell_type": "code",
   "execution_count": 49,
   "metadata": {},
   "outputs": [
    {
     "data": {
      "text/plain": [
       "DatetimeIndex(['2014-12-27 20:57:00', '2014-12-30 20:57:00',\n",
       "               '2014-12-31 20:57:00', '2015-01-01 20:57:00',\n",
       "               '2015-01-02 20:57:00', '2015-01-03 20:57:00',\n",
       "               '2015-01-06 20:57:00', '2015-01-07 20:57:00',\n",
       "               '2015-01-08 20:57:00', '2015-01-09 20:57:00',\n",
       "               ...\n",
       "               '2021-06-19 20:57:00', '2021-06-22 20:57:00',\n",
       "               '2021-06-23 20:57:00', '2021-06-24 20:57:00',\n",
       "               '2021-06-25 20:57:00', '2021-06-26 20:57:00',\n",
       "               '2021-06-30 20:57:00', '2021-07-01 20:57:00',\n",
       "               '2021-07-02 20:57:00', '2021-07-03 20:57:00'],\n",
       "              dtype='datetime64[ns]', name='Date', length=1641, freq=None)"
      ]
     },
     "execution_count": 49,
     "metadata": {},
     "output_type": "execute_result"
    }
   ],
   "source": [
    "#if want to increase each date by 5 days in DatetimeIndex \n",
    "#cant just do stocks.index +5\n",
    "stocks.index + pd.DateOffset(days=5,hours=3,minutes=4) #adds 5 days,3 hours,and 4 minutes to each DatetimeIndex\n",
    "stocks.index - pd.DateOffset(days=5,hours=3,minutes=3)#subtracts 5 days, 3 hours, and 4 minutes to each DatetimeIndex"
   ]
  },
  {
   "cell_type": "markdown",
   "metadata": {},
   "source": [
    "# Timeseries Offsets"
   ]
  },
  {
   "cell_type": "code",
   "execution_count": 50,
   "metadata": {},
   "outputs": [
    {
     "name": "stdout",
     "output_type": "stream",
     "text": [
      "[*********************100%***********************]  1 of 1 completed\n"
     ]
    }
   ],
   "source": [
    "stocks=data.DataReader(tickers='AMC',start=\"2019-01-01\",end=\"2021-07-08\")"
   ]
  },
  {
   "cell_type": "code",
   "execution_count": 51,
   "metadata": {},
   "outputs": [
    {
     "data": {
      "text/html": [
       "<div>\n",
       "<style scoped>\n",
       "    .dataframe tbody tr th:only-of-type {\n",
       "        vertical-align: middle;\n",
       "    }\n",
       "\n",
       "    .dataframe tbody tr th {\n",
       "        vertical-align: top;\n",
       "    }\n",
       "\n",
       "    .dataframe thead th {\n",
       "        text-align: right;\n",
       "    }\n",
       "</style>\n",
       "<table border=\"1\" class=\"dataframe\">\n",
       "  <thead>\n",
       "    <tr style=\"text-align: right;\">\n",
       "      <th></th>\n",
       "      <th>Open</th>\n",
       "      <th>High</th>\n",
       "      <th>Low</th>\n",
       "      <th>Close</th>\n",
       "      <th>Adj Close</th>\n",
       "      <th>Volume</th>\n",
       "    </tr>\n",
       "    <tr>\n",
       "      <th>Date</th>\n",
       "      <th></th>\n",
       "      <th></th>\n",
       "      <th></th>\n",
       "      <th></th>\n",
       "      <th></th>\n",
       "      <th></th>\n",
       "    </tr>\n",
       "  </thead>\n",
       "  <tbody>\n",
       "    <tr>\n",
       "      <th>2019-01-02</th>\n",
       "      <td>12.01</td>\n",
       "      <td>13.08</td>\n",
       "      <td>11.90</td>\n",
       "      <td>12.89</td>\n",
       "      <td>11.914326</td>\n",
       "      <td>1374900</td>\n",
       "    </tr>\n",
       "    <tr>\n",
       "      <th>2019-01-03</th>\n",
       "      <td>12.80</td>\n",
       "      <td>13.54</td>\n",
       "      <td>12.63</td>\n",
       "      <td>13.06</td>\n",
       "      <td>12.071457</td>\n",
       "      <td>1392400</td>\n",
       "    </tr>\n",
       "    <tr>\n",
       "      <th>2019-01-04</th>\n",
       "      <td>13.22</td>\n",
       "      <td>13.69</td>\n",
       "      <td>13.02</td>\n",
       "      <td>13.54</td>\n",
       "      <td>12.515124</td>\n",
       "      <td>1025000</td>\n",
       "    </tr>\n",
       "  </tbody>\n",
       "</table>\n",
       "</div>"
      ],
      "text/plain": [
       "             Open   High    Low  Close  Adj Close   Volume\n",
       "Date                                                      \n",
       "2019-01-02  12.01  13.08  11.90  12.89  11.914326  1374900\n",
       "2019-01-03  12.80  13.54  12.63  13.06  12.071457  1392400\n",
       "2019-01-04  13.22  13.69  13.02  13.54  12.515124  1025000"
      ]
     },
     "execution_count": 51,
     "metadata": {},
     "output_type": "execute_result"
    }
   ],
   "source": [
    "stocks.head(3)"
   ]
  },
  {
   "cell_type": "code",
   "execution_count": 61,
   "metadata": {},
   "outputs": [
    {
     "data": {
      "text/plain": [
       "DatetimeIndex(['2019-01-02', '2019-01-03', '2019-01-04', '2019-01-07',\n",
       "               '2019-01-08', '2019-01-09', '2019-01-10', '2019-01-11',\n",
       "               '2019-01-14', '2019-01-15',\n",
       "               ...\n",
       "               '2021-06-23', '2021-06-24', '2021-06-25', '2021-06-28',\n",
       "               '2021-06-29', '2021-06-30', '2021-07-01', '2021-07-02',\n",
       "               '2021-07-06', '2021-07-07'],\n",
       "              dtype='datetime64[ns]', name='Date', length=633, freq=None)"
      ]
     },
     "execution_count": 61,
     "metadata": {},
     "output_type": "execute_result"
    }
   ],
   "source": [
    "stocks.index"
   ]
  },
  {
   "cell_type": "code",
   "execution_count": 52,
   "metadata": {},
   "outputs": [
    {
     "data": {
      "text/html": [
       "<div>\n",
       "<style scoped>\n",
       "    .dataframe tbody tr th:only-of-type {\n",
       "        vertical-align: middle;\n",
       "    }\n",
       "\n",
       "    .dataframe tbody tr th {\n",
       "        vertical-align: top;\n",
       "    }\n",
       "\n",
       "    .dataframe thead th {\n",
       "        text-align: right;\n",
       "    }\n",
       "</style>\n",
       "<table border=\"1\" class=\"dataframe\">\n",
       "  <thead>\n",
       "    <tr style=\"text-align: right;\">\n",
       "      <th></th>\n",
       "      <th>Open</th>\n",
       "      <th>High</th>\n",
       "      <th>Low</th>\n",
       "      <th>Close</th>\n",
       "      <th>Adj Close</th>\n",
       "      <th>Volume</th>\n",
       "    </tr>\n",
       "    <tr>\n",
       "      <th>Date</th>\n",
       "      <th></th>\n",
       "      <th></th>\n",
       "      <th></th>\n",
       "      <th></th>\n",
       "      <th></th>\n",
       "      <th></th>\n",
       "    </tr>\n",
       "  </thead>\n",
       "  <tbody>\n",
       "    <tr>\n",
       "      <th>2019-01-02</th>\n",
       "      <td>12.01</td>\n",
       "      <td>13.08</td>\n",
       "      <td>11.90</td>\n",
       "      <td>12.89</td>\n",
       "      <td>11.914326</td>\n",
       "      <td>1374900</td>\n",
       "    </tr>\n",
       "    <tr>\n",
       "      <th>2019-01-03</th>\n",
       "      <td>12.80</td>\n",
       "      <td>13.54</td>\n",
       "      <td>12.63</td>\n",
       "      <td>13.06</td>\n",
       "      <td>12.071457</td>\n",
       "      <td>1392400</td>\n",
       "    </tr>\n",
       "    <tr>\n",
       "      <th>2019-01-04</th>\n",
       "      <td>13.22</td>\n",
       "      <td>13.69</td>\n",
       "      <td>13.02</td>\n",
       "      <td>13.54</td>\n",
       "      <td>12.515124</td>\n",
       "      <td>1025000</td>\n",
       "    </tr>\n",
       "    <tr>\n",
       "      <th>2019-01-07</th>\n",
       "      <td>13.55</td>\n",
       "      <td>14.26</td>\n",
       "      <td>13.37</td>\n",
       "      <td>14.12</td>\n",
       "      <td>13.051224</td>\n",
       "      <td>1119200</td>\n",
       "    </tr>\n",
       "    <tr>\n",
       "      <th>2019-01-08</th>\n",
       "      <td>14.21</td>\n",
       "      <td>14.70</td>\n",
       "      <td>14.09</td>\n",
       "      <td>14.57</td>\n",
       "      <td>13.467159</td>\n",
       "      <td>1122700</td>\n",
       "    </tr>\n",
       "  </tbody>\n",
       "</table>\n",
       "</div>"
      ],
      "text/plain": [
       "             Open   High    Low  Close  Adj Close   Volume\n",
       "Date                                                      \n",
       "2019-01-02  12.01  13.08  11.90  12.89  11.914326  1374900\n",
       "2019-01-03  12.80  13.54  12.63  13.06  12.071457  1392400\n",
       "2019-01-04  13.22  13.69  13.02  13.54  12.515124  1025000\n",
       "2019-01-07  13.55  14.26  13.37  14.12  13.051224  1119200\n",
       "2019-01-08  14.21  14.70  14.09  14.57  13.467159  1122700"
      ]
     },
     "execution_count": 52,
     "metadata": {},
     "output_type": "execute_result"
    }
   ],
   "source": [
    "stocks.head()"
   ]
  },
  {
   "cell_type": "markdown",
   "metadata": {},
   "source": [
    "# Time Series Offsets"
   ]
  },
  {
   "cell_type": "code",
   "execution_count": 57,
   "metadata": {},
   "outputs": [
    {
     "data": {
      "text/plain": [
       "DatetimeIndex(['2019-01-31', '2019-01-31', '2019-01-31', '2019-01-31',\n",
       "               '2019-01-31', '2019-01-31', '2019-01-31', '2019-01-31',\n",
       "               '2019-01-31', '2019-01-31',\n",
       "               ...\n",
       "               '2021-06-30', '2021-06-30', '2021-06-30', '2021-06-30',\n",
       "               '2021-06-30', '2021-07-31', '2021-07-31', '2021-07-31',\n",
       "               '2021-07-31', '2021-07-31'],\n",
       "              dtype='datetime64[ns]', name='Date', length=633, freq=None)"
      ]
     },
     "execution_count": 57,
     "metadata": {},
     "output_type": "execute_result"
    }
   ],
   "source": [
    "stocks.index + pd.tseries.offsets.MonthEnd() #MonthEnd is a class -> used if want to add dynamic amount of time for each datetime(e.g- want to round date to end of the month)"
   ]
  },
  {
   "cell_type": "code",
   "execution_count": 68,
   "metadata": {},
   "outputs": [],
   "source": [
    "#if you have a datetime that is actually at the end of a month, pandas does not consider it to meet the treshhold, for the code above it will take next month last day of month as DatetimeIndex "
   ]
  },
  {
   "cell_type": "code",
   "execution_count": 69,
   "metadata": {},
   "outputs": [
    {
     "data": {
      "text/plain": [
       "DatetimeIndex(['2018-12-31', '2018-12-31', '2018-12-31', '2018-12-31',\n",
       "               '2018-12-31', '2018-12-31', '2018-12-31', '2018-12-31',\n",
       "               '2018-12-31', '2018-12-31',\n",
       "               ...\n",
       "               '2021-05-31', '2021-05-31', '2021-05-31', '2021-05-31',\n",
       "               '2021-05-31', '2021-05-31', '2021-06-30', '2021-06-30',\n",
       "               '2021-06-30', '2021-06-30'],\n",
       "              dtype='datetime64[ns]', name='Date', length=633, freq=None)"
      ]
     },
     "execution_count": 69,
     "metadata": {},
     "output_type": "execute_result"
    }
   ],
   "source": [
    "stocks.index - pd.tseries.offsets.MonthEnd() #->previous month end going backwards, so will take last day of month as DatetimeIndex"
   ]
  },
  {
   "cell_type": "code",
   "execution_count": 70,
   "metadata": {},
   "outputs": [
    {
     "data": {
      "text/plain": [
       "DatetimeIndex(['2019-02-01', '2019-02-01', '2019-02-01', '2019-02-01',\n",
       "               '2019-02-01', '2019-02-01', '2019-02-01', '2019-02-01',\n",
       "               '2019-02-01', '2019-02-01',\n",
       "               ...\n",
       "               '2021-07-01', '2021-07-01', '2021-07-01', '2021-07-01',\n",
       "               '2021-07-01', '2021-07-01', '2021-08-01', '2021-08-01',\n",
       "               '2021-08-01', '2021-08-01'],\n",
       "              dtype='datetime64[ns]', name='Date', length=633, freq=None)"
      ]
     },
     "execution_count": 70,
     "metadata": {},
     "output_type": "execute_result"
    }
   ],
   "source": [
    "stocks.index + pd.tseries.offsets.MonthBegin() #beginnning of month moving foward "
   ]
  },
  {
   "cell_type": "code",
   "execution_count": 71,
   "metadata": {},
   "outputs": [
    {
     "data": {
      "text/plain": [
       "DatetimeIndex(['2019-01-01', '2019-01-01', '2019-01-01', '2019-01-01',\n",
       "               '2019-01-01', '2019-01-01', '2019-01-01', '2019-01-01',\n",
       "               '2019-01-01', '2019-01-01',\n",
       "               ...\n",
       "               '2021-06-01', '2021-06-01', '2021-06-01', '2021-06-01',\n",
       "               '2021-06-01', '2021-06-01', '2021-06-01', '2021-07-01',\n",
       "               '2021-07-01', '2021-07-01'],\n",
       "              dtype='datetime64[ns]', name='Date', length=633, freq=None)"
      ]
     },
     "execution_count": 71,
     "metadata": {},
     "output_type": "execute_result"
    }
   ],
   "source": [
    "stocks.index - pd.tseries.offsets.MonthBegin() #beginning of month moving backwards "
   ]
  },
  {
   "cell_type": "code",
   "execution_count": 72,
   "metadata": {},
   "outputs": [],
   "source": [
    "#can do this in a simplier way. \n",
    "from pandas.tseries import offsets #allows us to avoid long previx when refferincing offsets"
   ]
  },
  {
   "cell_type": "code",
   "execution_count": 73,
   "metadata": {},
   "outputs": [
    {
     "data": {
      "text/plain": [
       "DatetimeIndex(['2019-01-31', '2019-01-31', '2019-01-31', '2019-01-31',\n",
       "               '2019-01-31', '2019-01-31', '2019-01-31', '2019-01-31',\n",
       "               '2019-01-31', '2019-01-31',\n",
       "               ...\n",
       "               '2021-06-30', '2021-06-30', '2021-06-30', '2021-06-30',\n",
       "               '2021-06-30', '2021-07-31', '2021-07-31', '2021-07-31',\n",
       "               '2021-07-31', '2021-07-31'],\n",
       "              dtype='datetime64[ns]', name='Date', length=633, freq=None)"
      ]
     },
     "execution_count": 73,
     "metadata": {},
     "output_type": "execute_result"
    }
   ],
   "source": [
    "stocks.index + offsets.MonthEnd() #simple, reduces name collisions and no need for long reference "
   ]
  },
  {
   "cell_type": "code",
   "execution_count": 75,
   "metadata": {},
   "outputs": [
    {
     "data": {
      "text/plain": [
       "DatetimeIndex(['2019-01-31', '2019-01-31', '2019-01-31', '2019-01-31',\n",
       "               '2019-01-31', '2019-01-31', '2019-01-31', '2019-01-31',\n",
       "               '2019-01-31', '2019-01-31',\n",
       "               ...\n",
       "               '2021-06-30', '2021-06-30', '2021-06-30', '2021-06-30',\n",
       "               '2021-06-30', '2021-07-30', '2021-07-30', '2021-07-30',\n",
       "               '2021-07-30', '2021-07-30'],\n",
       "              dtype='datetime64[ns]', name='Date', length=633, freq=None)"
      ]
     },
     "execution_count": 75,
     "metadata": {},
     "output_type": "execute_result"
    }
   ],
   "source": [
    "stocks.index + offsets.BMonthEnd() #gets you the business month end (last friday or last weekday) -> for every offset there is a business version of it "
   ]
  },
  {
   "cell_type": "code",
   "execution_count": 76,
   "metadata": {},
   "outputs": [
    {
     "data": {
      "text/plain": [
       "DatetimeIndex(['2018-12-31', '2018-12-31', '2018-12-31', '2018-12-31',\n",
       "               '2018-12-31', '2018-12-31', '2018-12-31', '2018-12-31',\n",
       "               '2018-12-31', '2018-12-31',\n",
       "               ...\n",
       "               '2021-05-31', '2021-05-31', '2021-05-31', '2021-05-31',\n",
       "               '2021-05-31', '2021-05-31', '2021-06-30', '2021-06-30',\n",
       "               '2021-06-30', '2021-06-30'],\n",
       "              dtype='datetime64[ns]', name='Date', length=633, freq=None)"
      ]
     },
     "execution_count": 76,
     "metadata": {},
     "output_type": "execute_result"
    }
   ],
   "source": [
    "stocks.index - offsets.BMonthEnd()"
   ]
  },
  {
   "cell_type": "markdown",
   "metadata": {},
   "source": [
    "# The Timedelta Object"
   ]
  },
  {
   "cell_type": "code",
   "execution_count": 88,
   "metadata": {},
   "outputs": [],
   "source": [
    "time_a=pd.Timestamp(\"2020-03-31 04:35:16\")\n",
    "time_b=pd.Timestamp(\"2020-03-20 02:15:49\")\n",
    "#a Timestamp is a given moment in time(something we can plot on a calender), in comparison the time delta represents a time span(a duration of time or span of time) it is not connected to a specific date, simply a measurment of time. Time delta translates to distance between two times"
   ]
  },
  {
   "cell_type": "code",
   "execution_count": 89,
   "metadata": {},
   "outputs": [
    {
     "data": {
      "text/plain": [
       "Timedelta('11 days 02:19:27')"
      ]
     },
     "execution_count": 89,
     "metadata": {},
     "output_type": "execute_result"
    }
   ],
   "source": [
    "time_a - time_b #subtracting the two time stamps gives us a Timedelta object automatically created from pandas library  -> indepedent of certain time or date, only a distance"
   ]
  },
  {
   "cell_type": "code",
   "execution_count": 90,
   "metadata": {},
   "outputs": [
    {
     "data": {
      "text/plain": [
       "Timedelta('-12 days +21:40:33')"
      ]
     },
     "execution_count": 90,
     "metadata": {},
     "output_type": "execute_result"
    }
   ],
   "source": [
    "time_b - time_a #can have negative time delta (12 days in the future) vs 11 days in the past "
   ]
  },
  {
   "cell_type": "code",
   "execution_count": 92,
   "metadata": {},
   "outputs": [
    {
     "data": {
      "text/plain": [
       "Timestamp('2020-05-29 17:20:36')"
      ]
     },
     "execution_count": 92,
     "metadata": {},
     "output_type": "execute_result"
    }
   ],
   "source": [
    "time_a + pd.Timedelta(weeks=8, days=3, hours=12, minutes=45, seconds=20 ) #Years parameter doesnt work but can add a period of time to original timestamp -> returns 3 days after the timestamp 2020-03-31 04:35:16"
   ]
  },
  {
   "cell_type": "code",
   "execution_count": 95,
   "metadata": {},
   "outputs": [
    {
     "data": {
      "text/plain": [
       "Timedelta('10 days 05:02:30')"
      ]
     },
     "execution_count": 95,
     "metadata": {},
     "output_type": "execute_result"
    }
   ],
   "source": [
    "pd.Timedelta(\"5 minutes\") \n",
    "pd.Timedelta (\"6 hours 5 minutes 2 seconds\")\n",
    "pd.Timedelta(\"10 days 5 hours 2 minutes 30 seconds\")#can also feed strings into Timedelta "
   ]
  }
 ],
 "metadata": {
  "kernelspec": {
   "display_name": "Python 3",
   "language": "python",
   "name": "python3"
  },
  "language_info": {
   "codemirror_mode": {
    "name": "ipython",
    "version": 3
   },
   "file_extension": ".py",
   "mimetype": "text/x-python",
   "name": "python",
   "nbconvert_exporter": "python",
   "pygments_lexer": "ipython3",
   "version": "3.8.3"
  }
 },
 "nbformat": 4,
 "nbformat_minor": 4
}
