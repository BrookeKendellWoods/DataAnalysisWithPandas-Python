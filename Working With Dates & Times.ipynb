{
 "cells": [
  {
   "cell_type": "code",
   "execution_count": 1,
   "metadata": {},
   "outputs": [],
   "source": [
    "import pandas as pd\n",
    "import datetime as dt #import datetime library with alias dt "
   ]
  },
  {
   "cell_type": "code",
   "execution_count": 2,
   "metadata": {},
   "outputs": [],
   "source": [
    "#date time is part of the python language while pandas is not. "
   ]
  },
  {
   "cell_type": "markdown",
   "metadata": {},
   "source": [
    "# Review of Python datetime object"
   ]
  },
  {
   "cell_type": "code",
   "execution_count": 3,
   "metadata": {},
   "outputs": [],
   "source": [
    "#there is a datatime method we can call on the date time library, both a datetimemodule and within it a datetime method. date is an object used to store a date(included a year month a day) while a datetime will include a year month day minutes and seconds. More specific for timestamp"
   ]
  },
  {
   "cell_type": "code",
   "execution_count": 4,
   "metadata": {},
   "outputs": [],
   "source": [
    "birthday=dt.date(1997, 2, 20)  #(year, month, day)"
   ]
  },
  {
   "cell_type": "code",
   "execution_count": 5,
   "metadata": {},
   "outputs": [
    {
     "data": {
      "text/plain": [
       "1997"
      ]
     },
     "execution_count": 5,
     "metadata": {},
     "output_type": "execute_result"
    }
   ],
   "source": [
    "birthday.year #returns year "
   ]
  },
  {
   "cell_type": "code",
   "execution_count": 6,
   "metadata": {},
   "outputs": [
    {
     "data": {
      "text/plain": [
       "2"
      ]
     },
     "execution_count": 6,
     "metadata": {},
     "output_type": "execute_result"
    }
   ],
   "source": [
    "birthday.month #returns month"
   ]
  },
  {
   "cell_type": "code",
   "execution_count": 7,
   "metadata": {},
   "outputs": [
    {
     "data": {
      "text/plain": [
       "20"
      ]
     },
     "execution_count": 7,
     "metadata": {},
     "output_type": "execute_result"
    }
   ],
   "source": [
    "birthday.day #returns day "
   ]
  },
  {
   "cell_type": "code",
   "execution_count": 8,
   "metadata": {},
   "outputs": [
    {
     "data": {
      "text/plain": [
       "datetime.datetime(2010, 1, 20, 8, 0)"
      ]
     },
     "execution_count": 8,
     "metadata": {},
     "output_type": "execute_result"
    }
   ],
   "source": [
    "dt.datetime(2010,1,20,8)  # 8 am on Jan 20 2010  dt.datetime(year,month,day,hour,minute,second)"
   ]
  },
  {
   "cell_type": "code",
   "execution_count": 9,
   "metadata": {},
   "outputs": [
    {
     "data": {
      "text/plain": [
       "datetime.datetime(2010, 1, 20, 8, 13, 57)"
      ]
     },
     "execution_count": 9,
     "metadata": {},
     "output_type": "execute_result"
    }
   ],
   "source": [
    "dt.datetime(2010,1,20,8,13,57)"
   ]
  },
  {
   "cell_type": "code",
   "execution_count": 10,
   "metadata": {},
   "outputs": [
    {
     "data": {
      "text/plain": [
       "'2010-01-20 17:13:57'"
      ]
     },
     "execution_count": 10,
     "metadata": {},
     "output_type": "execute_result"
    }
   ],
   "source": [
    "str(dt.datetime(2010,1,20,17,13,57)) #in afternoon must do military time for 5 pm 5:13:57 pm on Jan 20 2010"
   ]
  },
  {
   "cell_type": "code",
   "execution_count": 11,
   "metadata": {},
   "outputs": [
    {
     "data": {
      "text/plain": [
       "'1997-02-20'"
      ]
     },
     "execution_count": 11,
     "metadata": {},
     "output_type": "execute_result"
    }
   ],
   "source": [
    "str(birthday)"
   ]
  },
  {
   "cell_type": "code",
   "execution_count": 12,
   "metadata": {},
   "outputs": [],
   "source": [
    "boyfriend_birthday=dt.datetime(1994,4,1,17,13,24)"
   ]
  },
  {
   "cell_type": "code",
   "execution_count": 13,
   "metadata": {},
   "outputs": [
    {
     "data": {
      "text/plain": [
       "'1994-04-01 17:13:24'"
      ]
     },
     "execution_count": 13,
     "metadata": {},
     "output_type": "execute_result"
    }
   ],
   "source": [
    "str(boyfriend_birthday)"
   ]
  },
  {
   "cell_type": "code",
   "execution_count": 14,
   "metadata": {},
   "outputs": [
    {
     "data": {
      "text/plain": [
       "13"
      ]
     },
     "execution_count": 14,
     "metadata": {},
     "output_type": "execute_result"
    }
   ],
   "source": [
    "boyfriend_birthday.year\n",
    "boyfriend_birthday.month\n",
    "boyfriend_birthday.day\n",
    "boyfriend_birthday.hour\n",
    "boyfriend_birthday.minute"
   ]
  },
  {
   "cell_type": "markdown",
   "metadata": {},
   "source": [
    "# The pandas Timestamp object"
   ]
  },
  {
   "cell_type": "code",
   "execution_count": 15,
   "metadata": {},
   "outputs": [],
   "source": [
    "import pandas as pd\n",
    "import datetime as dt"
   ]
  },
  {
   "cell_type": "code",
   "execution_count": 16,
   "metadata": {},
   "outputs": [
    {
     "data": {
      "text/plain": [
       "Timestamp('2021-06-21 00:00:00')"
      ]
     },
     "execution_count": 16,
     "metadata": {},
     "output_type": "execute_result"
    }
   ],
   "source": [
    "pd.Timestamp(\"2021-06-21\")  #can use either format of date"
   ]
  },
  {
   "cell_type": "code",
   "execution_count": 17,
   "metadata": {},
   "outputs": [
    {
     "data": {
      "text/plain": [
       "Timestamp('2012-06-03 00:00:00')"
      ]
     },
     "execution_count": 17,
     "metadata": {},
     "output_type": "execute_result"
    }
   ],
   "source": [
    "pd.Timestamp(\"2012/06/03\")"
   ]
  },
  {
   "cell_type": "code",
   "execution_count": 18,
   "metadata": {},
   "outputs": [
    {
     "data": {
      "text/plain": [
       "Timestamp('2015-01-02 00:00:00')"
      ]
     },
     "execution_count": 18,
     "metadata": {},
     "output_type": "execute_result"
    }
   ],
   "source": [
    "pd.Timestamp(\"1/2/2015\")"
   ]
  },
  {
   "cell_type": "code",
   "execution_count": 19,
   "metadata": {},
   "outputs": [
    {
     "data": {
      "text/plain": [
       "Timestamp('1997-02-20 21:07:01')"
      ]
     },
     "execution_count": 19,
     "metadata": {},
     "output_type": "execute_result"
    }
   ],
   "source": [
    "pd.Timestamp(\"02-20-1997 21:07:01\") #can reverse and do month-day-year however pandas would not know day-month-year unless first number is > 12 "
   ]
  },
  {
   "cell_type": "code",
   "execution_count": 20,
   "metadata": {},
   "outputs": [
    {
     "data": {
      "text/plain": [
       "Timestamp('2015-04-02 00:00:00')"
      ]
     },
     "execution_count": 20,
     "metadata": {},
     "output_type": "execute_result"
    }
   ],
   "source": [
    "pd.Timestamp(dt.datetime(2015,4,2))"
   ]
  },
  {
   "cell_type": "markdown",
   "metadata": {},
   "source": [
    "# Pandas DatetimeIndex Object"
   ]
  },
  {
   "cell_type": "code",
   "execution_count": 21,
   "metadata": {},
   "outputs": [],
   "source": [
    "#basically a container for multiple pandas timestamps "
   ]
  },
  {
   "cell_type": "code",
   "execution_count": 22,
   "metadata": {},
   "outputs": [],
   "source": [
    "dates=[\"01-02-2016\",\"02-20-1997\",\"04-01-1994\"]"
   ]
  },
  {
   "cell_type": "code",
   "execution_count": 23,
   "metadata": {},
   "outputs": [
    {
     "data": {
      "text/plain": [
       "DatetimeIndex(['2016-01-02', '1997-02-20', '1994-04-01'], dtype='datetime64[ns]', freq=None)"
      ]
     },
     "execution_count": 23,
     "metadata": {},
     "output_type": "execute_result"
    }
   ],
   "source": [
    "pd.DatetimeIndex(dates) #converts strings to timestamps, easy to work w/multiple timestamps  "
   ]
  },
  {
   "cell_type": "code",
   "execution_count": 24,
   "metadata": {},
   "outputs": [],
   "source": [
    "dates=[dt.datetime(1994,4,1),dt.datetime(1997,2,20),dt.datetime(2000,2,24)]#converts date objects into pandas timestamp objects and bundles into DatetimeIndex to store them all as one. Ideal usage is for DatetimeIndex to serve as the index for one of our objects \n",
    "dtindex=pd.DatetimeIndex(dates)"
   ]
  },
  {
   "cell_type": "code",
   "execution_count": 25,
   "metadata": {},
   "outputs": [],
   "source": [
    "values=[100,200,300]"
   ]
  },
  {
   "cell_type": "code",
   "execution_count": 26,
   "metadata": {},
   "outputs": [
    {
     "data": {
      "text/plain": [
       "1994-04-01    100\n",
       "1997-02-20    200\n",
       "2000-02-24    300\n",
       "dtype: int64"
      ]
     },
     "execution_count": 26,
     "metadata": {},
     "output_type": "execute_result"
    }
   ],
   "source": [
    "pd.Series(data=values,index=dtindex) #DatetimeIndex now is the Index for series "
   ]
  },
  {
   "cell_type": "markdown",
   "metadata": {},
   "source": [
    "# The pd.to_datetime() method"
   ]
  },
  {
   "cell_type": "code",
   "execution_count": 27,
   "metadata": {},
   "outputs": [
    {
     "data": {
      "text/plain": [
       "DatetimeIndex(['1997-02-20', '1994-04-01', '2018-01-01', '1997-07-04'], dtype='datetime64[ns]', freq=None)"
      ]
     },
     "execution_count": 27,
     "metadata": {},
     "output_type": "execute_result"
    }
   ],
   "source": [
    "#most common reason is converting a pandas existing series into a datetime object \n",
    "pd.to_datetime(\"04-01-1994\")  \n",
    "pd.to_datetime(dt.datetime(1994,4,1,9,3,1))\n",
    "pd.to_datetime(dt.date(1997,2,20)) \n",
    "pd.to_datetime(['02-20-1997','1994/4/1','2018','July 4,1997']) #can also pass a list \n",
    "#can use any format of date, regardless of how fed in, pandas is smart enough to figure out what we are talking about. If give single year pandas assumes jan 1"
   ]
  },
  {
   "cell_type": "code",
   "execution_count": 28,
   "metadata": {},
   "outputs": [
    {
     "data": {
      "text/plain": [
       "0    03-04-1960\n",
       "1      2021/2/4\n",
       "2      2019/4/2\n",
       "dtype: object"
      ]
     },
     "execution_count": 28,
     "metadata": {},
     "output_type": "execute_result"
    }
   ],
   "source": [
    "times=pd.Series([\"03-04-1960\",\"2021/2/4\",\"2019/4/2\"]) #creating series and naming it times \n",
    "times"
   ]
  },
  {
   "cell_type": "code",
   "execution_count": 29,
   "metadata": {},
   "outputs": [
    {
     "data": {
      "text/plain": [
       "0   1960-03-04\n",
       "1   2021-02-04\n",
       "2   2019-04-02\n",
       "dtype: datetime64[ns]"
      ]
     },
     "execution_count": 29,
     "metadata": {},
     "output_type": "execute_result"
    }
   ],
   "source": [
    "pd.to_datetime(times) #can also gives pandas series, goes in all values in series and converts them all into timestamps and also converts container into for them into a DatetimeIndex object "
   ]
  },
  {
   "cell_type": "code",
   "execution_count": 30,
   "metadata": {},
   "outputs": [],
   "source": [
    "date=pd.Series([\"july 4, 2021\", \"2-31-2014\",\"1-1-10\",\"hello\"])"
   ]
  },
  {
   "cell_type": "code",
   "execution_count": 31,
   "metadata": {},
   "outputs": [],
   "source": [
    "#pd.to_datetime(date)  <- ERROR - cant convert with a string value , error parameter set to 'raise' & means if an error is encountered it raises a red flag, but can change errors perameter to 'coerce' "
   ]
  },
  {
   "cell_type": "code",
   "execution_count": 32,
   "metadata": {},
   "outputs": [
    {
     "data": {
      "text/plain": [
       "0   2021-07-04\n",
       "1          NaT\n",
       "2   2010-01-01\n",
       "3          NaT\n",
       "dtype: datetime64[ns]"
      ]
     },
     "execution_count": 32,
     "metadata": {},
     "output_type": "execute_result"
    }
   ],
   "source": [
    "pd.to_datetime(date,errors='coerce') "
   ]
  },
  {
   "cell_type": "code",
   "execution_count": 33,
   "metadata": {},
   "outputs": [],
   "source": [
    "#a unix is a way to store time in seconds. So by storing datetime as number of seconds it is easy to store as a date in time."
   ]
  },
  {
   "cell_type": "code",
   "execution_count": 34,
   "metadata": {},
   "outputs": [
    {
     "data": {
      "text/plain": [
       "DatetimeIndex(['2012-10-08 18:15:05', '2012-10-09 18:15:05',\n",
       "               '2012-10-10 18:15:05', '2012-10-10 18:15:05',\n",
       "               '2012-10-11 18:15:05'],\n",
       "              dtype='datetime64[ns]', freq=None)"
      ]
     },
     "execution_count": 34,
     "metadata": {},
     "output_type": "execute_result"
    }
   ],
   "source": [
    "pd.to_datetime([1349720105, 1349806505, 1349892905, 1349892905, #python list of unix times -> number of seconds since 1/1/1970\n",
    "               1349979305,], unit='s')                     #to unit parameter give arguement of 's' so pandas knows talking about unix time "
   ]
  },
  {
   "cell_type": "markdown",
   "metadata": {},
   "source": [
    "# Create Range of Dates with the pd.date_range() method"
   ]
  },
  {
   "cell_type": "code",
   "execution_count": 35,
   "metadata": {},
   "outputs": [],
   "source": [
    "times=pd.date_range(start=\"01/01/2015\",end=\"02/20/2020\",freq=\"D\")#date is inclusives -specific the date and that day & the interval (freq parameter) specifies the interval, E.g- set at \"D\" will increment over start and end date each day, if set at \"2D\" will proceed in increments of 2 days,\"B\" means business days only, \"W\" is short for weekly, \"H\" is hourly, could do \"6H\" for every 6 hours, \"M\" is month ends,\"MS\" first of every month,\"A\" stores last day of each year  )"
   ]
  },
  {
   "cell_type": "code",
   "execution_count": 36,
   "metadata": {},
   "outputs": [
    {
     "data": {
      "text/plain": [
       "pandas.core.indexes.datetimes.DatetimeIndex"
      ]
     },
     "execution_count": 36,
     "metadata": {},
     "output_type": "execute_result"
    }
   ],
   "source": [
    "type(times) #pandas generated DatetimeIndex "
   ]
  },
  {
   "cell_type": "code",
   "execution_count": 37,
   "metadata": {},
   "outputs": [
    {
     "data": {
      "text/plain": [
       "DatetimeIndex(['2018-03-01', '2018-03-02', '2018-03-03', '2018-03-04',\n",
       "               '2018-03-05', '2018-03-06', '2018-03-07', '2018-03-08',\n",
       "               '2018-03-09', '2018-03-10', '2018-03-11', '2018-03-12',\n",
       "               '2018-03-13', '2018-03-14', '2018-03-15', '2018-03-16',\n",
       "               '2018-03-17', '2018-03-18', '2018-03-19', '2018-03-20',\n",
       "               '2018-03-21', '2018-03-22', '2018-03-23', '2018-03-24',\n",
       "               '2018-03-25'],\n",
       "              dtype='datetime64[ns]', freq='D')"
      ]
     },
     "execution_count": 37,
     "metadata": {},
     "output_type": "execute_result"
    }
   ],
   "source": [
    "pd.date_range(start=\"03-01-2018\",periods=25, freq=\"D\") #generates datetime index with 25 values since we specified we wanted 25 in our periods parameter "
   ]
  },
  {
   "cell_type": "code",
   "execution_count": 38,
   "metadata": {},
   "outputs": [
    {
     "data": {
      "text/plain": [
       "DatetimeIndex(['2012-09-10', '2012-09-11', '2012-09-12', '2012-09-13',\n",
       "               '2012-09-14', '2012-09-17', '2012-09-18', '2012-09-19',\n",
       "               '2012-09-20', '2012-09-21', '2012-09-24', '2012-09-25',\n",
       "               '2012-09-26', '2012-09-27', '2012-09-28', '2012-10-01',\n",
       "               '2012-10-02', '2012-10-03', '2012-10-04', '2012-10-05',\n",
       "               '2012-10-08', '2012-10-09', '2012-10-10', '2012-10-11',\n",
       "               '2012-10-12'],\n",
       "              dtype='datetime64[ns]', freq='B')"
      ]
     },
     "execution_count": 38,
     "metadata": {},
     "output_type": "execute_result"
    }
   ],
   "source": [
    "pd.date_range(start=\"2012-09-09\",periods=25, freq=\"B\") #2012-09-09 would not be included because it is not a business day"
   ]
  },
  {
   "cell_type": "code",
   "execution_count": 39,
   "metadata": {},
   "outputs": [
    {
     "data": {
      "text/plain": [
       "DatetimeIndex(['1999-03-28', '1999-04-04', '1999-04-11', '1999-04-18',\n",
       "               '1999-04-25', '1999-05-02', '1999-05-09', '1999-05-16',\n",
       "               '1999-05-23', '1999-05-30', '1999-06-06', '1999-06-13',\n",
       "               '1999-06-20', '1999-06-27', '1999-07-04', '1999-07-11',\n",
       "               '1999-07-18', '1999-07-25', '1999-08-01', '1999-08-08',\n",
       "               '1999-08-15', '1999-08-22', '1999-08-29', '1999-09-05',\n",
       "               '1999-09-12', '1999-09-19', '1999-09-26', '1999-10-03',\n",
       "               '1999-10-10', '1999-10-17', '1999-10-24', '1999-10-31',\n",
       "               '1999-11-07', '1999-11-14', '1999-11-21', '1999-11-28',\n",
       "               '1999-12-05', '1999-12-12', '1999-12-19', '1999-12-26'],\n",
       "              dtype='datetime64[ns]', freq='W-SUN')"
      ]
     },
     "execution_count": 39,
     "metadata": {},
     "output_type": "execute_result"
    }
   ],
   "source": [
    "pd.date_range(end=\"1999-12-31\",periods=40, freq=\"W-SUN\") #starts at the end points and moves back one day at a time until it has 20 total values "
   ]
  },
  {
   "cell_type": "markdown",
   "metadata": {},
   "source": [
    "# The .dt Accessor "
   ]
  },
  {
   "cell_type": "code",
   "execution_count": 40,
   "metadata": {},
   "outputs": [],
   "source": [
    "a_bunch_of_dates=pd.date_range(start=\"02/20/1997\",end=\"02/20/2010\",freq=\"24D\")"
   ]
  },
  {
   "cell_type": "code",
   "execution_count": 41,
   "metadata": {},
   "outputs": [],
   "source": [
    "s=pd.Series(a_bunch_of_dates)"
   ]
  },
  {
   "cell_type": "code",
   "execution_count": 42,
   "metadata": {},
   "outputs": [
    {
     "data": {
      "text/plain": [
       "0   1997-02-20\n",
       "1   1997-03-16\n",
       "2   1997-04-09\n",
       "dtype: datetime64[ns]"
      ]
     },
     "execution_count": 42,
     "metadata": {},
     "output_type": "execute_result"
    }
   ],
   "source": [
    "s.head(3)   #used the daterange method to create a date range index and passed it as our data source for pandas series constructor, each reprsented as a pandas timestamp "
   ]
  },
  {
   "cell_type": "code",
   "execution_count": 43,
   "metadata": {},
   "outputs": [
    {
     "data": {
      "text/plain": [
       "0      20\n",
       "1      16\n",
       "2       9\n",
       "3       3\n",
       "4      27\n",
       "       ..\n",
       "193    27\n",
       "194    20\n",
       "195    14\n",
       "196     7\n",
       "197    31\n",
       "Length: 198, dtype: int64"
      ]
     },
     "execution_count": 43,
     "metadata": {},
     "output_type": "execute_result"
    }
   ],
   "source": [
    "s.dt.day   #think of using .dt like .str "
   ]
  },
  {
   "cell_type": "code",
   "execution_count": 44,
   "metadata": {},
   "outputs": [
    {
     "data": {
      "text/plain": [
       "0       2\n",
       "1       3\n",
       "2       4\n",
       "3       5\n",
       "4       5\n",
       "       ..\n",
       "193    10\n",
       "194    11\n",
       "195    12\n",
       "196     1\n",
       "197     1\n",
       "Length: 198, dtype: int64"
      ]
     },
     "execution_count": 44,
     "metadata": {},
     "output_type": "execute_result"
    }
   ],
   "source": [
    "s.dt.month  #if wanted to see what day of month most common "
   ]
  },
  {
   "cell_type": "code",
   "execution_count": 45,
   "metadata": {},
   "outputs": [
    {
     "data": {
      "text/plain": [
       "0       Thursday\n",
       "1         Sunday\n",
       "2      Wednesday\n",
       "3       Saturday\n",
       "4        Tuesday\n",
       "         ...    \n",
       "193      Tuesday\n",
       "194       Friday\n",
       "195       Monday\n",
       "196     Thursday\n",
       "197       Sunday\n",
       "Length: 198, dtype: object"
      ]
     },
     "execution_count": 45,
     "metadata": {},
     "output_type": "execute_result"
    }
   ],
   "source": [
    "s.dt.day_name() #would be useful for finding day of work week in financial data "
   ]
  },
  {
   "cell_type": "code",
   "execution_count": 46,
   "metadata": {},
   "outputs": [],
   "source": [
    "mask=s.dt.is_quarter_start"
   ]
  },
  {
   "cell_type": "code",
   "execution_count": 47,
   "metadata": {},
   "outputs": [
    {
     "data": {
      "text/plain": [
       "74    2002-01-01\n",
       "112   2004-07-01\n",
       "dtype: datetime64[ns]"
      ]
     },
     "execution_count": 47,
     "metadata": {},
     "output_type": "execute_result"
    }
   ],
   "source": [
    "s[mask] #pulls only dates from the start of a quarter, could also do s.dt.is_month_start or s.dt.is_month_end "
   ]
  },
  {
   "cell_type": "markdown",
   "metadata": {},
   "source": [
    "# Import finanical dataset with pandas_datareader Library"
   ]
  },
  {
   "cell_type": "code",
   "execution_count": 48,
   "metadata": {},
   "outputs": [],
   "source": [
    "import datetime as dt\n",
    "from pandas_datareader import data"
   ]
  },
  {
   "cell_type": "code",
   "execution_count": 49,
   "metadata": {},
   "outputs": [],
   "source": [
    "import requests"
   ]
  },
  {
   "cell_type": "code",
   "execution_count": 50,
   "metadata": {},
   "outputs": [
    {
     "name": "stdout",
     "output_type": "stream",
     "text": [
      "[*********************100%***********************]  1 of 1 completed\n",
      "                  Open        High         Low       Close   Adj Close  \\\n",
      "Date                                                                     \n",
      "2018-01-02   62.400002   64.421997   62.200001   64.106003   64.106003   \n",
      "2018-01-03   64.199997   65.050003   63.110001   63.450001   63.450001   \n",
      "2018-01-04   62.574001   63.709999   61.136002   62.924000   62.924000   \n",
      "2018-01-05   63.324001   63.448002   62.400002   63.316002   63.316002   \n",
      "2018-01-08   63.200001   67.403999   63.099998   67.281998   67.281998   \n",
      "...                ...         ...         ...         ...         ...   \n",
      "2020-12-23  632.200012  651.500000  622.570007  645.979980  645.979980   \n",
      "2020-12-24  642.989990  666.090027  641.000000  661.770020  661.770020   \n",
      "2020-12-28  674.510010  681.400024  660.799988  663.690002  663.690002   \n",
      "2020-12-29  661.000000  669.900024  655.000000  665.989990  665.989990   \n",
      "2020-12-30  672.000000  696.599976  668.359985  694.780029  694.780029   \n",
      "\n",
      "              Volume  \n",
      "Date                  \n",
      "2018-01-02  21761000  \n",
      "2018-01-03  22607500  \n",
      "2018-01-04  49731500  \n",
      "2018-01-05  22956000  \n",
      "2018-01-08  49297000  \n",
      "...              ...  \n",
      "2020-12-23  33173000  \n",
      "2020-12-24  22865600  \n",
      "2020-12-28  32278600  \n",
      "2020-12-29  22910800  \n",
      "2020-12-30  42846000  \n",
      "\n",
      "[755 rows x 6 columns]\n"
     ]
    }
   ],
   "source": [
    "import yfinance as yf\n",
    "import yfinance as yfin\n",
    "yfin.pdr_override()\n",
    "\n",
    "\n",
    "df = data.get_data_yahoo(\"TSLA\", start=\"2018-01-01\", end=\"2020-12-31\")\n",
    "print(df)"
   ]
  },
  {
   "cell_type": "code",
   "execution_count": 51,
   "metadata": {},
   "outputs": [
    {
     "data": {
      "text/html": [
       "<div>\n",
       "<style scoped>\n",
       "    .dataframe tbody tr th:only-of-type {\n",
       "        vertical-align: middle;\n",
       "    }\n",
       "\n",
       "    .dataframe tbody tr th {\n",
       "        vertical-align: top;\n",
       "    }\n",
       "\n",
       "    .dataframe thead th {\n",
       "        text-align: right;\n",
       "    }\n",
       "</style>\n",
       "<table border=\"1\" class=\"dataframe\">\n",
       "  <thead>\n",
       "    <tr style=\"text-align: right;\">\n",
       "      <th></th>\n",
       "      <th>Open</th>\n",
       "      <th>High</th>\n",
       "      <th>Low</th>\n",
       "      <th>Close</th>\n",
       "      <th>Adj Close</th>\n",
       "      <th>Volume</th>\n",
       "    </tr>\n",
       "    <tr>\n",
       "      <th>Date</th>\n",
       "      <th></th>\n",
       "      <th></th>\n",
       "      <th></th>\n",
       "      <th></th>\n",
       "      <th></th>\n",
       "      <th></th>\n",
       "    </tr>\n",
       "  </thead>\n",
       "  <tbody>\n",
       "    <tr>\n",
       "      <th>2018-01-02</th>\n",
       "      <td>62.400002</td>\n",
       "      <td>64.421997</td>\n",
       "      <td>62.200001</td>\n",
       "      <td>64.106003</td>\n",
       "      <td>64.106003</td>\n",
       "      <td>21761000</td>\n",
       "    </tr>\n",
       "    <tr>\n",
       "      <th>2018-01-03</th>\n",
       "      <td>64.199997</td>\n",
       "      <td>65.050003</td>\n",
       "      <td>63.110001</td>\n",
       "      <td>63.450001</td>\n",
       "      <td>63.450001</td>\n",
       "      <td>22607500</td>\n",
       "    </tr>\n",
       "    <tr>\n",
       "      <th>2018-01-04</th>\n",
       "      <td>62.574001</td>\n",
       "      <td>63.709999</td>\n",
       "      <td>61.136002</td>\n",
       "      <td>62.924000</td>\n",
       "      <td>62.924000</td>\n",
       "      <td>49731500</td>\n",
       "    </tr>\n",
       "    <tr>\n",
       "      <th>2018-01-05</th>\n",
       "      <td>63.324001</td>\n",
       "      <td>63.448002</td>\n",
       "      <td>62.400002</td>\n",
       "      <td>63.316002</td>\n",
       "      <td>63.316002</td>\n",
       "      <td>22956000</td>\n",
       "    </tr>\n",
       "    <tr>\n",
       "      <th>2018-01-08</th>\n",
       "      <td>63.200001</td>\n",
       "      <td>67.403999</td>\n",
       "      <td>63.099998</td>\n",
       "      <td>67.281998</td>\n",
       "      <td>67.281998</td>\n",
       "      <td>49297000</td>\n",
       "    </tr>\n",
       "    <tr>\n",
       "      <th>...</th>\n",
       "      <td>...</td>\n",
       "      <td>...</td>\n",
       "      <td>...</td>\n",
       "      <td>...</td>\n",
       "      <td>...</td>\n",
       "      <td>...</td>\n",
       "    </tr>\n",
       "    <tr>\n",
       "      <th>2020-12-23</th>\n",
       "      <td>632.200012</td>\n",
       "      <td>651.500000</td>\n",
       "      <td>622.570007</td>\n",
       "      <td>645.979980</td>\n",
       "      <td>645.979980</td>\n",
       "      <td>33173000</td>\n",
       "    </tr>\n",
       "    <tr>\n",
       "      <th>2020-12-24</th>\n",
       "      <td>642.989990</td>\n",
       "      <td>666.090027</td>\n",
       "      <td>641.000000</td>\n",
       "      <td>661.770020</td>\n",
       "      <td>661.770020</td>\n",
       "      <td>22865600</td>\n",
       "    </tr>\n",
       "    <tr>\n",
       "      <th>2020-12-28</th>\n",
       "      <td>674.510010</td>\n",
       "      <td>681.400024</td>\n",
       "      <td>660.799988</td>\n",
       "      <td>663.690002</td>\n",
       "      <td>663.690002</td>\n",
       "      <td>32278600</td>\n",
       "    </tr>\n",
       "    <tr>\n",
       "      <th>2020-12-29</th>\n",
       "      <td>661.000000</td>\n",
       "      <td>669.900024</td>\n",
       "      <td>655.000000</td>\n",
       "      <td>665.989990</td>\n",
       "      <td>665.989990</td>\n",
       "      <td>22910800</td>\n",
       "    </tr>\n",
       "    <tr>\n",
       "      <th>2020-12-30</th>\n",
       "      <td>672.000000</td>\n",
       "      <td>696.599976</td>\n",
       "      <td>668.359985</td>\n",
       "      <td>694.780029</td>\n",
       "      <td>694.780029</td>\n",
       "      <td>42846000</td>\n",
       "    </tr>\n",
       "  </tbody>\n",
       "</table>\n",
       "<p>755 rows × 6 columns</p>\n",
       "</div>"
      ],
      "text/plain": [
       "                  Open        High         Low       Close   Adj Close  \\\n",
       "Date                                                                     \n",
       "2018-01-02   62.400002   64.421997   62.200001   64.106003   64.106003   \n",
       "2018-01-03   64.199997   65.050003   63.110001   63.450001   63.450001   \n",
       "2018-01-04   62.574001   63.709999   61.136002   62.924000   62.924000   \n",
       "2018-01-05   63.324001   63.448002   62.400002   63.316002   63.316002   \n",
       "2018-01-08   63.200001   67.403999   63.099998   67.281998   67.281998   \n",
       "...                ...         ...         ...         ...         ...   \n",
       "2020-12-23  632.200012  651.500000  622.570007  645.979980  645.979980   \n",
       "2020-12-24  642.989990  666.090027  641.000000  661.770020  661.770020   \n",
       "2020-12-28  674.510010  681.400024  660.799988  663.690002  663.690002   \n",
       "2020-12-29  661.000000  669.900024  655.000000  665.989990  665.989990   \n",
       "2020-12-30  672.000000  696.599976  668.359985  694.780029  694.780029   \n",
       "\n",
       "              Volume  \n",
       "Date                  \n",
       "2018-01-02  21761000  \n",
       "2018-01-03  22607500  \n",
       "2018-01-04  49731500  \n",
       "2018-01-05  22956000  \n",
       "2018-01-08  49297000  \n",
       "...              ...  \n",
       "2020-12-23  33173000  \n",
       "2020-12-24  22865600  \n",
       "2020-12-28  32278600  \n",
       "2020-12-29  22910800  \n",
       "2020-12-30  42846000  \n",
       "\n",
       "[755 rows x 6 columns]"
      ]
     },
     "execution_count": 51,
     "metadata": {},
     "output_type": "execute_result"
    }
   ],
   "source": [
    "df"
   ]
  },
  {
   "cell_type": "code",
   "execution_count": 52,
   "metadata": {},
   "outputs": [
    {
     "name": "stdout",
     "output_type": "stream",
     "text": [
      "[*********************100%***********************]  1 of 1 completed\n"
     ]
    },
    {
     "data": {
      "text/html": [
       "<div>\n",
       "<style scoped>\n",
       "    .dataframe tbody tr th:only-of-type {\n",
       "        vertical-align: middle;\n",
       "    }\n",
       "\n",
       "    .dataframe tbody tr th {\n",
       "        vertical-align: top;\n",
       "    }\n",
       "\n",
       "    .dataframe thead th {\n",
       "        text-align: right;\n",
       "    }\n",
       "</style>\n",
       "<table border=\"1\" class=\"dataframe\">\n",
       "  <thead>\n",
       "    <tr style=\"text-align: right;\">\n",
       "      <th></th>\n",
       "      <th>Open</th>\n",
       "      <th>High</th>\n",
       "      <th>Low</th>\n",
       "      <th>Close</th>\n",
       "      <th>Adj Close</th>\n",
       "      <th>Volume</th>\n",
       "    </tr>\n",
       "    <tr>\n",
       "      <th>Date</th>\n",
       "      <th></th>\n",
       "      <th></th>\n",
       "      <th></th>\n",
       "      <th></th>\n",
       "      <th></th>\n",
       "      <th></th>\n",
       "    </tr>\n",
       "  </thead>\n",
       "  <tbody>\n",
       "    <tr>\n",
       "      <th>2015-01-02</th>\n",
       "      <td>46.660000</td>\n",
       "      <td>47.419998</td>\n",
       "      <td>46.540001</td>\n",
       "      <td>46.759998</td>\n",
       "      <td>41.348206</td>\n",
       "      <td>27913900</td>\n",
       "    </tr>\n",
       "    <tr>\n",
       "      <th>2015-01-05</th>\n",
       "      <td>46.369999</td>\n",
       "      <td>46.730000</td>\n",
       "      <td>46.250000</td>\n",
       "      <td>46.330002</td>\n",
       "      <td>40.967976</td>\n",
       "      <td>39673900</td>\n",
       "    </tr>\n",
       "    <tr>\n",
       "      <th>2015-01-06</th>\n",
       "      <td>46.380001</td>\n",
       "      <td>46.750000</td>\n",
       "      <td>45.540001</td>\n",
       "      <td>45.650002</td>\n",
       "      <td>40.366688</td>\n",
       "      <td>36447900</td>\n",
       "    </tr>\n",
       "    <tr>\n",
       "      <th>2015-01-07</th>\n",
       "      <td>45.980000</td>\n",
       "      <td>46.459999</td>\n",
       "      <td>45.490002</td>\n",
       "      <td>46.230000</td>\n",
       "      <td>40.879539</td>\n",
       "      <td>29114100</td>\n",
       "    </tr>\n",
       "    <tr>\n",
       "      <th>2015-01-08</th>\n",
       "      <td>46.750000</td>\n",
       "      <td>47.750000</td>\n",
       "      <td>46.720001</td>\n",
       "      <td>47.590000</td>\n",
       "      <td>42.082142</td>\n",
       "      <td>29645200</td>\n",
       "    </tr>\n",
       "    <tr>\n",
       "      <th>...</th>\n",
       "      <td>...</td>\n",
       "      <td>...</td>\n",
       "      <td>...</td>\n",
       "      <td>...</td>\n",
       "      <td>...</td>\n",
       "      <td>...</td>\n",
       "    </tr>\n",
       "    <tr>\n",
       "      <th>2018-12-24</th>\n",
       "      <td>97.680000</td>\n",
       "      <td>97.970001</td>\n",
       "      <td>93.980003</td>\n",
       "      <td>94.129997</td>\n",
       "      <td>91.364243</td>\n",
       "      <td>43935200</td>\n",
       "    </tr>\n",
       "    <tr>\n",
       "      <th>2018-12-26</th>\n",
       "      <td>95.139999</td>\n",
       "      <td>100.690002</td>\n",
       "      <td>93.959999</td>\n",
       "      <td>100.559998</td>\n",
       "      <td>97.605309</td>\n",
       "      <td>51634800</td>\n",
       "    </tr>\n",
       "    <tr>\n",
       "      <th>2018-12-27</th>\n",
       "      <td>99.300003</td>\n",
       "      <td>101.190002</td>\n",
       "      <td>96.400002</td>\n",
       "      <td>101.180000</td>\n",
       "      <td>98.207108</td>\n",
       "      <td>49498500</td>\n",
       "    </tr>\n",
       "    <tr>\n",
       "      <th>2018-12-28</th>\n",
       "      <td>102.089996</td>\n",
       "      <td>102.410004</td>\n",
       "      <td>99.519997</td>\n",
       "      <td>100.389999</td>\n",
       "      <td>97.440315</td>\n",
       "      <td>38196300</td>\n",
       "    </tr>\n",
       "    <tr>\n",
       "      <th>2018-12-31</th>\n",
       "      <td>101.290001</td>\n",
       "      <td>102.400002</td>\n",
       "      <td>100.440002</td>\n",
       "      <td>101.570000</td>\n",
       "      <td>98.585632</td>\n",
       "      <td>33173800</td>\n",
       "    </tr>\n",
       "  </tbody>\n",
       "</table>\n",
       "<p>1006 rows × 6 columns</p>\n",
       "</div>"
      ],
      "text/plain": [
       "                  Open        High         Low       Close  Adj Close  \\\n",
       "Date                                                                    \n",
       "2015-01-02   46.660000   47.419998   46.540001   46.759998  41.348206   \n",
       "2015-01-05   46.369999   46.730000   46.250000   46.330002  40.967976   \n",
       "2015-01-06   46.380001   46.750000   45.540001   45.650002  40.366688   \n",
       "2015-01-07   45.980000   46.459999   45.490002   46.230000  40.879539   \n",
       "2015-01-08   46.750000   47.750000   46.720001   47.590000  42.082142   \n",
       "...                ...         ...         ...         ...        ...   \n",
       "2018-12-24   97.680000   97.970001   93.980003   94.129997  91.364243   \n",
       "2018-12-26   95.139999  100.690002   93.959999  100.559998  97.605309   \n",
       "2018-12-27   99.300003  101.190002   96.400002  101.180000  98.207108   \n",
       "2018-12-28  102.089996  102.410004   99.519997  100.389999  97.440315   \n",
       "2018-12-31  101.290001  102.400002  100.440002  101.570000  98.585632   \n",
       "\n",
       "              Volume  \n",
       "Date                  \n",
       "2015-01-02  27913900  \n",
       "2015-01-05  39673900  \n",
       "2015-01-06  36447900  \n",
       "2015-01-07  29114100  \n",
       "2015-01-08  29645200  \n",
       "...              ...  \n",
       "2018-12-24  43935200  \n",
       "2018-12-26  51634800  \n",
       "2018-12-27  49498500  \n",
       "2018-12-28  38196300  \n",
       "2018-12-31  33173800  \n",
       "\n",
       "[1006 rows x 6 columns]"
      ]
     },
     "execution_count": 52,
     "metadata": {},
     "output_type": "execute_result"
    }
   ],
   "source": [
    "data.DataReader(tickers='MSFT',data_source='yahoo',start='2015-01-01',end='2019-01-01')"
   ]
  },
  {
   "cell_type": "code",
   "execution_count": null,
   "metadata": {},
   "outputs": [],
   "source": []
  }
 ],
 "metadata": {
  "kernelspec": {
   "display_name": "Python 3",
   "language": "python",
   "name": "python3"
  },
  "language_info": {
   "codemirror_mode": {
    "name": "ipython",
    "version": 3
   },
   "file_extension": ".py",
   "mimetype": "text/x-python",
   "name": "python",
   "nbconvert_exporter": "python",
   "pygments_lexer": "ipython3",
   "version": "3.8.3"
  }
 },
 "nbformat": 4,
 "nbformat_minor": 4
}
