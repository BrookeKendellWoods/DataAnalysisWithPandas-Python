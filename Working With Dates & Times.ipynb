{
 "cells": [
  {
   "cell_type": "code",
   "execution_count": 1,
   "metadata": {},
   "outputs": [],
   "source": [
    "import pandas as pd\n",
    "import datetime as dt #import datetime library with alias dt "
   ]
  },
  {
   "cell_type": "code",
   "execution_count": 2,
   "metadata": {},
   "outputs": [],
   "source": [
    "#date time is part of the python language while pandas is not. "
   ]
  },
  {
   "cell_type": "markdown",
   "metadata": {},
   "source": [
    "# Review of Python datetime object"
   ]
  },
  {
   "cell_type": "code",
   "execution_count": 3,
   "metadata": {},
   "outputs": [],
   "source": [
    "#there is a datetime method we can call on the date time library.Within the datetime module there is a datetime method. date is an object used to store a date(included a year month a day) while a datetime will include a year month day minutes and seconds. More specific for timestamp"
   ]
  },
  {
   "cell_type": "code",
   "execution_count": 4,
   "metadata": {},
   "outputs": [],
   "source": [
    "birthday=dt.date(1997, 2, 20)  #(year, month, day)"
   ]
  },
  {
   "cell_type": "code",
   "execution_count": 5,
   "metadata": {},
   "outputs": [
    {
     "data": {
      "text/plain": [
       "1997"
      ]
     },
     "execution_count": 5,
     "metadata": {},
     "output_type": "execute_result"
    }
   ],
   "source": [
    "birthday.year #returns year "
   ]
  },
  {
   "cell_type": "code",
   "execution_count": 6,
   "metadata": {},
   "outputs": [
    {
     "data": {
      "text/plain": [
       "2"
      ]
     },
     "execution_count": 6,
     "metadata": {},
     "output_type": "execute_result"
    }
   ],
   "source": [
    "birthday.month #returns month"
   ]
  },
  {
   "cell_type": "code",
   "execution_count": 7,
   "metadata": {},
   "outputs": [
    {
     "data": {
      "text/plain": [
       "20"
      ]
     },
     "execution_count": 7,
     "metadata": {},
     "output_type": "execute_result"
    }
   ],
   "source": [
    "birthday.day #returns day "
   ]
  },
  {
   "cell_type": "code",
   "execution_count": 8,
   "metadata": {},
   "outputs": [
    {
     "data": {
      "text/plain": [
       "datetime.datetime(2010, 1, 20, 8, 0)"
      ]
     },
     "execution_count": 8,
     "metadata": {},
     "output_type": "execute_result"
    }
   ],
   "source": [
    "dt.datetime(2010,1,20,8)  # 8 am on Jan 20 2010  dt.datetime(year,month,day,hour,minute,second)"
   ]
  },
  {
   "cell_type": "code",
   "execution_count": 9,
   "metadata": {},
   "outputs": [
    {
     "data": {
      "text/plain": [
       "datetime.datetime(2010, 1, 20, 8, 13, 57)"
      ]
     },
     "execution_count": 9,
     "metadata": {},
     "output_type": "execute_result"
    }
   ],
   "source": [
    "dt.datetime(2010,1,20,8,13,57)"
   ]
  },
  {
   "cell_type": "code",
   "execution_count": 10,
   "metadata": {},
   "outputs": [
    {
     "data": {
      "text/plain": [
       "'2010-01-20 17:13:57'"
      ]
     },
     "execution_count": 10,
     "metadata": {},
     "output_type": "execute_result"
    }
   ],
   "source": [
    "str(dt.datetime(2010,1,20,17,13,57))# must use military time "
   ]
  },
  {
   "cell_type": "code",
   "execution_count": 11,
   "metadata": {},
   "outputs": [
    {
     "data": {
      "text/plain": [
       "'1997-02-20'"
      ]
     },
     "execution_count": 11,
     "metadata": {},
     "output_type": "execute_result"
    }
   ],
   "source": [
    "str(birthday)"
   ]
  },
  {
   "cell_type": "code",
   "execution_count": 12,
   "metadata": {},
   "outputs": [],
   "source": [
    "boyfriend_birthday=dt.datetime(1994,4,1,17,13,24)"
   ]
  },
  {
   "cell_type": "code",
   "execution_count": 13,
   "metadata": {},
   "outputs": [
    {
     "data": {
      "text/plain": [
       "'1994-04-01 17:13:24'"
      ]
     },
     "execution_count": 13,
     "metadata": {},
     "output_type": "execute_result"
    }
   ],
   "source": [
    "str(boyfriend_birthday)"
   ]
  },
  {
   "cell_type": "code",
   "execution_count": 14,
   "metadata": {},
   "outputs": [
    {
     "data": {
      "text/plain": [
       "13"
      ]
     },
     "execution_count": 14,
     "metadata": {},
     "output_type": "execute_result"
    }
   ],
   "source": [
    "boyfriend_birthday.year\n",
    "boyfriend_birthday.month\n",
    "boyfriend_birthday.day\n",
    "boyfriend_birthday.hour\n",
    "boyfriend_birthday.minute"
   ]
  },
  {
   "cell_type": "markdown",
   "metadata": {},
   "source": [
    "# The pandas Timestamp object"
   ]
  },
  {
   "cell_type": "code",
   "execution_count": 15,
   "metadata": {},
   "outputs": [],
   "source": [
    "import pandas as pd\n",
    "import datetime as dt"
   ]
  },
  {
   "cell_type": "code",
   "execution_count": 16,
   "metadata": {},
   "outputs": [
    {
     "data": {
      "text/plain": [
       "Timestamp('2021-06-21 00:00:00')"
      ]
     },
     "execution_count": 16,
     "metadata": {},
     "output_type": "execute_result"
    }
   ],
   "source": [
    "pd.Timestamp(\"2021-06-21\")  #can use either format of date"
   ]
  },
  {
   "cell_type": "code",
   "execution_count": 17,
   "metadata": {},
   "outputs": [
    {
     "data": {
      "text/plain": [
       "Timestamp('2012-06-03 00:00:00')"
      ]
     },
     "execution_count": 17,
     "metadata": {},
     "output_type": "execute_result"
    }
   ],
   "source": [
    "pd.Timestamp(\"2012/06/03\")"
   ]
  },
  {
   "cell_type": "code",
   "execution_count": 18,
   "metadata": {},
   "outputs": [
    {
     "data": {
      "text/plain": [
       "Timestamp('2015-01-02 00:00:00')"
      ]
     },
     "execution_count": 18,
     "metadata": {},
     "output_type": "execute_result"
    }
   ],
   "source": [
    "pd.Timestamp(\"1/2/2015\")"
   ]
  },
  {
   "cell_type": "code",
   "execution_count": 19,
   "metadata": {},
   "outputs": [
    {
     "data": {
      "text/plain": [
       "Timestamp('1997-02-20 21:07:01')"
      ]
     },
     "execution_count": 19,
     "metadata": {},
     "output_type": "execute_result"
    }
   ],
   "source": [
    "pd.Timestamp(\"02-20-1997 21:07:01\") #can reverse and do month-day-year however pandas would not know day-month-year unless first number is > 12 "
   ]
  },
  {
   "cell_type": "code",
   "execution_count": 20,
   "metadata": {},
   "outputs": [
    {
     "data": {
      "text/plain": [
       "Timestamp('2015-04-02 00:00:00')"
      ]
     },
     "execution_count": 20,
     "metadata": {},
     "output_type": "execute_result"
    }
   ],
   "source": [
    "pd.Timestamp(dt.datetime(2015,4,2))"
   ]
  },
  {
   "cell_type": "markdown",
   "metadata": {},
   "source": [
    "# Pandas DatetimeIndex Object"
   ]
  },
  {
   "cell_type": "code",
   "execution_count": 21,
   "metadata": {},
   "outputs": [],
   "source": [
    "#basically a container for multiple pandas timestamps "
   ]
  },
  {
   "cell_type": "code",
   "execution_count": 22,
   "metadata": {},
   "outputs": [],
   "source": [
    "dates=[\"01-02-2016\",\"02-20-1997\",\"04-01-1994\"]"
   ]
  },
  {
   "cell_type": "code",
   "execution_count": 23,
   "metadata": {},
   "outputs": [
    {
     "data": {
      "text/plain": [
       "DatetimeIndex(['2016-01-02', '1997-02-20', '1994-04-01'], dtype='datetime64[ns]', freq=None)"
      ]
     },
     "execution_count": 23,
     "metadata": {},
     "output_type": "execute_result"
    }
   ],
   "source": [
    "pd.DatetimeIndex(dates) #converts strings to timestamps, easy to work w/multiple timestamps  "
   ]
  },
  {
   "cell_type": "code",
   "execution_count": 24,
   "metadata": {},
   "outputs": [],
   "source": [
    "dates=[dt.datetime(1994,4,1),dt.datetime(1997,2,20),dt.datetime(2000,2,24)]#converts date objects into pandas timestamp objects and bundles into DatetimeIndex to store them all as one. Ideal usage is for DatetimeIndex to serve as the index for one of our objects \n",
    "dtindex=pd.DatetimeIndex(dates)"
   ]
  },
  {
   "cell_type": "code",
   "execution_count": 25,
   "metadata": {},
   "outputs": [],
   "source": [
    "values=[100,200,300]"
   ]
  },
  {
   "cell_type": "code",
   "execution_count": 26,
   "metadata": {},
   "outputs": [
    {
     "data": {
      "text/plain": [
       "1994-04-01    100\n",
       "1997-02-20    200\n",
       "2000-02-24    300\n",
       "dtype: int64"
      ]
     },
     "execution_count": 26,
     "metadata": {},
     "output_type": "execute_result"
    }
   ],
   "source": [
    "pd.Series(data=values,index=dtindex) #DatetimeIndex now is the Index for series "
   ]
  },
  {
   "cell_type": "markdown",
   "metadata": {},
   "source": [
    "# The pd.to_datetime() method"
   ]
  },
  {
   "cell_type": "code",
   "execution_count": 27,
   "metadata": {},
   "outputs": [
    {
     "data": {
      "text/plain": [
       "DatetimeIndex(['1997-02-20', '1994-04-01', '2018-01-01', '1997-07-04'], dtype='datetime64[ns]', freq=None)"
      ]
     },
     "execution_count": 27,
     "metadata": {},
     "output_type": "execute_result"
    }
   ],
   "source": [
    "#most common reason is converting a pandas existing series into a datetime object \n",
    "pd.to_datetime(\"04-01-1994\")  \n",
    "pd.to_datetime(dt.datetime(1994,4,1,9,3,1))\n",
    "pd.to_datetime(dt.date(1997,2,20)) \n",
    "pd.to_datetime(['02-20-1997','1994/4/1','2018','July 4,1997']) #can also pass a list \n",
    "#can use any format of date, regardless of how fed in, pandas is smart enough to figure out what we are talking about. If give single year pandas assumes jan 1"
   ]
  },
  {
   "cell_type": "code",
   "execution_count": 28,
   "metadata": {},
   "outputs": [
    {
     "data": {
      "text/plain": [
       "0    03-04-1960\n",
       "1      2021/2/4\n",
       "2      2019/4/2\n",
       "dtype: object"
      ]
     },
     "execution_count": 28,
     "metadata": {},
     "output_type": "execute_result"
    }
   ],
   "source": [
    "times=pd.Series([\"03-04-1960\",\"2021/2/4\",\"2019/4/2\"]) #creating series and naming it times \n",
    "times"
   ]
  },
  {
   "cell_type": "code",
   "execution_count": 29,
   "metadata": {},
   "outputs": [
    {
     "data": {
      "text/plain": [
       "0   1960-03-04\n",
       "1   2021-02-04\n",
       "2   2019-04-02\n",
       "dtype: datetime64[ns]"
      ]
     },
     "execution_count": 29,
     "metadata": {},
     "output_type": "execute_result"
    }
   ],
   "source": [
    "pd.to_datetime(times) #can also gives pandas series, goes in all values in series and converts them all into timestamps and also converts container into for them into a DatetimeIndex object "
   ]
  },
  {
   "cell_type": "code",
   "execution_count": 30,
   "metadata": {},
   "outputs": [],
   "source": [
    "date=pd.Series([\"july 4, 2021\", \"2-31-2014\",\"1-1-10\",\"hello\"])"
   ]
  },
  {
   "cell_type": "code",
   "execution_count": 31,
   "metadata": {},
   "outputs": [],
   "source": [
    "#pd.to_datetime(date)  <- ERROR - cant convert with a string value , error parameter set to 'raise' & means if an error is encountered it raises a red flag, but can change errors perameter to 'coerce' "
   ]
  },
  {
   "cell_type": "code",
   "execution_count": 32,
   "metadata": {},
   "outputs": [
    {
     "data": {
      "text/plain": [
       "0   2021-07-04\n",
       "1          NaT\n",
       "2   2010-01-01\n",
       "3          NaT\n",
       "dtype: datetime64[ns]"
      ]
     },
     "execution_count": 32,
     "metadata": {},
     "output_type": "execute_result"
    }
   ],
   "source": [
    "pd.to_datetime(date,errors='coerce') "
   ]
  },
  {
   "cell_type": "code",
   "execution_count": 33,
   "metadata": {},
   "outputs": [],
   "source": [
    "#a unix is a way to store time in seconds. So by storing datetime as number of seconds it is easy to store as a date in time."
   ]
  },
  {
   "cell_type": "code",
   "execution_count": 34,
   "metadata": {},
   "outputs": [
    {
     "data": {
      "text/plain": [
       "DatetimeIndex(['2012-10-08 18:15:05', '2012-10-09 18:15:05',\n",
       "               '2012-10-10 18:15:05', '2012-10-10 18:15:05',\n",
       "               '2012-10-11 18:15:05'],\n",
       "              dtype='datetime64[ns]', freq=None)"
      ]
     },
     "execution_count": 34,
     "metadata": {},
     "output_type": "execute_result"
    }
   ],
   "source": [
    "pd.to_datetime([1349720105, 1349806505, 1349892905, 1349892905, #python list of unix times -> number of seconds since 1/1/1970\n",
    "               1349979305,], unit='s')                     #to unit parameter give arguement of 's' so pandas knows talking about unix time "
   ]
  },
  {
   "cell_type": "markdown",
   "metadata": {},
   "source": [
    "# Create Range of Dates with the pd.date_range() method"
   ]
  },
  {
   "cell_type": "code",
   "execution_count": 35,
   "metadata": {},
   "outputs": [],
   "source": [
    "times=pd.date_range(start=\"01/01/2015\",end=\"02/20/2020\",freq=\"D\")#date is inclusives -specific the date and that day & the interval (freq parameter) specifies the interval, E.g- set at \"D\" will increment over start and end date each day, if set at \"2D\" will proceed in increments of 2 days,\"B\" means business days only, \"W\" is short for weekly, \"H\" is hourly, could do \"6H\" for every 6 hours, \"M\" is month ends,\"MS\" first of every month,\"A\" stores last day of each year  )"
   ]
  },
  {
   "cell_type": "code",
   "execution_count": 36,
   "metadata": {},
   "outputs": [
    {
     "data": {
      "text/plain": [
       "pandas.core.indexes.datetimes.DatetimeIndex"
      ]
     },
     "execution_count": 36,
     "metadata": {},
     "output_type": "execute_result"
    }
   ],
   "source": [
    "type(times) #pandas generated DatetimeIndex "
   ]
  },
  {
   "cell_type": "code",
   "execution_count": 37,
   "metadata": {},
   "outputs": [
    {
     "data": {
      "text/plain": [
       "DatetimeIndex(['2018-03-01', '2018-03-02', '2018-03-03', '2018-03-04',\n",
       "               '2018-03-05', '2018-03-06', '2018-03-07', '2018-03-08',\n",
       "               '2018-03-09', '2018-03-10', '2018-03-11', '2018-03-12',\n",
       "               '2018-03-13', '2018-03-14', '2018-03-15', '2018-03-16',\n",
       "               '2018-03-17', '2018-03-18', '2018-03-19', '2018-03-20',\n",
       "               '2018-03-21', '2018-03-22', '2018-03-23', '2018-03-24',\n",
       "               '2018-03-25'],\n",
       "              dtype='datetime64[ns]', freq='D')"
      ]
     },
     "execution_count": 37,
     "metadata": {},
     "output_type": "execute_result"
    }
   ],
   "source": [
    "pd.date_range(start=\"03-01-2018\",periods=25, freq=\"D\") #generates datetime index with 25 values since we specified we wanted 25 in our periods parameter "
   ]
  },
  {
   "cell_type": "code",
   "execution_count": 38,
   "metadata": {},
   "outputs": [
    {
     "data": {
      "text/plain": [
       "DatetimeIndex(['2012-09-10', '2012-09-11', '2012-09-12', '2012-09-13',\n",
       "               '2012-09-14', '2012-09-17', '2012-09-18', '2012-09-19',\n",
       "               '2012-09-20', '2012-09-21', '2012-09-24', '2012-09-25',\n",
       "               '2012-09-26', '2012-09-27', '2012-09-28', '2012-10-01',\n",
       "               '2012-10-02', '2012-10-03', '2012-10-04', '2012-10-05',\n",
       "               '2012-10-08', '2012-10-09', '2012-10-10', '2012-10-11',\n",
       "               '2012-10-12'],\n",
       "              dtype='datetime64[ns]', freq='B')"
      ]
     },
     "execution_count": 38,
     "metadata": {},
     "output_type": "execute_result"
    }
   ],
   "source": [
    "pd.date_range(start=\"2012-09-09\",periods=25, freq=\"B\") #2012-09-09 would not be included because it is not a business day"
   ]
  },
  {
   "cell_type": "code",
   "execution_count": 39,
   "metadata": {},
   "outputs": [
    {
     "data": {
      "text/plain": [
       "DatetimeIndex(['1999-03-28', '1999-04-04', '1999-04-11', '1999-04-18',\n",
       "               '1999-04-25', '1999-05-02', '1999-05-09', '1999-05-16',\n",
       "               '1999-05-23', '1999-05-30', '1999-06-06', '1999-06-13',\n",
       "               '1999-06-20', '1999-06-27', '1999-07-04', '1999-07-11',\n",
       "               '1999-07-18', '1999-07-25', '1999-08-01', '1999-08-08',\n",
       "               '1999-08-15', '1999-08-22', '1999-08-29', '1999-09-05',\n",
       "               '1999-09-12', '1999-09-19', '1999-09-26', '1999-10-03',\n",
       "               '1999-10-10', '1999-10-17', '1999-10-24', '1999-10-31',\n",
       "               '1999-11-07', '1999-11-14', '1999-11-21', '1999-11-28',\n",
       "               '1999-12-05', '1999-12-12', '1999-12-19', '1999-12-26'],\n",
       "              dtype='datetime64[ns]', freq='W-SUN')"
      ]
     },
     "execution_count": 39,
     "metadata": {},
     "output_type": "execute_result"
    }
   ],
   "source": [
    "pd.date_range(end=\"1999-12-31\",periods=40, freq=\"W-SUN\") #starts at the end points and moves back one day at a time until it has 20 total values "
   ]
  },
  {
   "cell_type": "markdown",
   "metadata": {},
   "source": [
    "# The .dt Accessor "
   ]
  },
  {
   "cell_type": "code",
   "execution_count": 40,
   "metadata": {},
   "outputs": [],
   "source": [
    "a_bunch_of_dates=pd.date_range(start=\"02/20/1997\",end=\"02/20/2010\",freq=\"24D\")"
   ]
  },
  {
   "cell_type": "code",
   "execution_count": 41,
   "metadata": {},
   "outputs": [],
   "source": [
    "s=pd.Series(a_bunch_of_dates)"
   ]
  },
  {
   "cell_type": "code",
   "execution_count": 42,
   "metadata": {},
   "outputs": [
    {
     "data": {
      "text/plain": [
       "0   1997-02-20\n",
       "1   1997-03-16\n",
       "2   1997-04-09\n",
       "dtype: datetime64[ns]"
      ]
     },
     "execution_count": 42,
     "metadata": {},
     "output_type": "execute_result"
    }
   ],
   "source": [
    "s.head(3)   #used the daterange method to create a date range index and passed it as our data source for pandas series constructor, each reprsented as a pandas timestamp "
   ]
  },
  {
   "cell_type": "code",
   "execution_count": 43,
   "metadata": {},
   "outputs": [
    {
     "data": {
      "text/plain": [
       "0      20\n",
       "1      16\n",
       "2       9\n",
       "3       3\n",
       "4      27\n",
       "       ..\n",
       "193    27\n",
       "194    20\n",
       "195    14\n",
       "196     7\n",
       "197    31\n",
       "Length: 198, dtype: int64"
      ]
     },
     "execution_count": 43,
     "metadata": {},
     "output_type": "execute_result"
    }
   ],
   "source": [
    "s.dt.day   #think of using .dt like .str "
   ]
  },
  {
   "cell_type": "code",
   "execution_count": 44,
   "metadata": {},
   "outputs": [
    {
     "data": {
      "text/plain": [
       "0       2\n",
       "1       3\n",
       "2       4\n",
       "3       5\n",
       "4       5\n",
       "       ..\n",
       "193    10\n",
       "194    11\n",
       "195    12\n",
       "196     1\n",
       "197     1\n",
       "Length: 198, dtype: int64"
      ]
     },
     "execution_count": 44,
     "metadata": {},
     "output_type": "execute_result"
    }
   ],
   "source": [
    "s.dt.month  #if wanted to see what day of month most common "
   ]
  },
  {
   "cell_type": "code",
   "execution_count": 45,
   "metadata": {},
   "outputs": [
    {
     "data": {
      "text/plain": [
       "0       Thursday\n",
       "1         Sunday\n",
       "2      Wednesday\n",
       "3       Saturday\n",
       "4        Tuesday\n",
       "         ...    \n",
       "193      Tuesday\n",
       "194       Friday\n",
       "195       Monday\n",
       "196     Thursday\n",
       "197       Sunday\n",
       "Length: 198, dtype: object"
      ]
     },
     "execution_count": 45,
     "metadata": {},
     "output_type": "execute_result"
    }
   ],
   "source": [
    "s.dt.day_name() #would be useful for finding day of work week in financial data "
   ]
  },
  {
   "cell_type": "code",
   "execution_count": 46,
   "metadata": {},
   "outputs": [],
   "source": [
    "mask=s.dt.is_quarter_start"
   ]
  },
  {
   "cell_type": "code",
   "execution_count": 47,
   "metadata": {},
   "outputs": [
    {
     "data": {
      "text/plain": [
       "74    2002-01-01\n",
       "112   2004-07-01\n",
       "dtype: datetime64[ns]"
      ]
     },
     "execution_count": 47,
     "metadata": {},
     "output_type": "execute_result"
    }
   ],
   "source": [
    "s[mask] #pulls only dates from the start of a quarter, could also do s.dt.is_month_start or s.dt.is_month_end "
   ]
  },
  {
   "cell_type": "markdown",
   "metadata": {},
   "source": [
    "# Import finanical dataset with pandas_datareader Library"
   ]
  },
  {
   "cell_type": "code",
   "execution_count": 48,
   "metadata": {},
   "outputs": [],
   "source": [
    "import datetime as dt\n",
    "from pandas_datareader import data"
   ]
  },
  {
   "cell_type": "code",
   "execution_count": 49,
   "metadata": {},
   "outputs": [],
   "source": [
    "import requests"
   ]
  },
  {
   "cell_type": "code",
   "execution_count": 50,
   "metadata": {},
   "outputs": [],
   "source": [
    "import yfinance as yf\n",
    "import yfinance as yfin\n",
    "yfin.pdr_override()   #As of July 2021 need to imort yfinance library \n",
    "\n"
   ]
  },
  {
   "cell_type": "code",
   "execution_count": 51,
   "metadata": {},
   "outputs": [
    {
     "name": "stdout",
     "output_type": "stream",
     "text": [
      "[*********************100%***********************]  1 of 1 completed\n"
     ]
    }
   ],
   "source": [
    "stocks=data.DataReader(tickers='AMC',data_source='yahoo',start='2015-01-01',end='2019-01-01')"
   ]
  },
  {
   "cell_type": "code",
   "execution_count": 52,
   "metadata": {},
   "outputs": [
    {
     "data": {
      "text/plain": [
       "array([[2.62600002e+01, 2.62999992e+01, 2.49300003e+01, 2.56299992e+01,\n",
       "        1.89002666e+01, 4.20900000e+05],\n",
       "       [2.54899998e+01, 2.55599995e+01, 2.49300003e+01, 2.49699993e+01,\n",
       "        1.84135685e+01, 2.46500000e+05],\n",
       "       [2.49899998e+01, 2.56000004e+01, 2.42700005e+01, 2.51700001e+01,\n",
       "        1.85610523e+01, 2.71500000e+05],\n",
       "       ...,\n",
       "       [1.24300003e+01, 1.25000000e+01, 1.16599998e+01, 1.21999998e+01,\n",
       "        1.12765522e+01, 1.77770000e+06],\n",
       "       [1.22500000e+01, 1.26499996e+01, 1.20200005e+01, 1.24200001e+01,\n",
       "        1.14799004e+01, 1.66810000e+06],\n",
       "       [1.25000000e+01, 1.27200003e+01, 1.19099998e+01, 1.22799997e+01,\n",
       "        1.13504963e+01, 1.24680000e+06]])"
      ]
     },
     "execution_count": 52,
     "metadata": {},
     "output_type": "execute_result"
    }
   ],
   "source": [
    "stocks.values"
   ]
  },
  {
   "cell_type": "code",
   "execution_count": 53,
   "metadata": {},
   "outputs": [
    {
     "data": {
      "text/plain": [
       "Index(['Open', 'High', 'Low', 'Close', 'Adj Close', 'Volume'], dtype='object')"
      ]
     },
     "execution_count": 53,
     "metadata": {},
     "output_type": "execute_result"
    }
   ],
   "source": [
    "stocks.columns"
   ]
  },
  {
   "cell_type": "code",
   "execution_count": 54,
   "metadata": {},
   "outputs": [
    {
     "data": {
      "text/plain": [
       "DatetimeIndex(['2015-01-02', '2015-01-05', '2015-01-06', '2015-01-07',\n",
       "               '2015-01-08', '2015-01-09', '2015-01-12', '2015-01-13',\n",
       "               '2015-01-14', '2015-01-15',\n",
       "               ...\n",
       "               '2018-12-17', '2018-12-18', '2018-12-19', '2018-12-20',\n",
       "               '2018-12-21', '2018-12-24', '2018-12-26', '2018-12-27',\n",
       "               '2018-12-28', '2018-12-31'],\n",
       "              dtype='datetime64[ns]', name='Date', length=1006, freq=None)"
      ]
     },
     "execution_count": 54,
     "metadata": {},
     "output_type": "execute_result"
    }
   ],
   "source": [
    "stocks.index"
   ]
  },
  {
   "cell_type": "code",
   "execution_count": 55,
   "metadata": {},
   "outputs": [
    {
     "data": {
      "text/plain": [
       "[DatetimeIndex(['2015-01-02', '2015-01-05', '2015-01-06', '2015-01-07',\n",
       "                '2015-01-08', '2015-01-09', '2015-01-12', '2015-01-13',\n",
       "                '2015-01-14', '2015-01-15',\n",
       "                ...\n",
       "                '2018-12-17', '2018-12-18', '2018-12-19', '2018-12-20',\n",
       "                '2018-12-21', '2018-12-24', '2018-12-26', '2018-12-27',\n",
       "                '2018-12-28', '2018-12-31'],\n",
       "               dtype='datetime64[ns]', name='Date', length=1006, freq=None),\n",
       " Index(['Open', 'High', 'Low', 'Close', 'Adj Close', 'Volume'], dtype='object')]"
      ]
     },
     "execution_count": 55,
     "metadata": {},
     "output_type": "execute_result"
    }
   ],
   "source": [
    "stocks.axes"
   ]
  },
  {
   "cell_type": "markdown",
   "metadata": {},
   "source": [
    "# Selecting Rows from a DataFrame with a DatetimeIndex"
   ]
  },
  {
   "cell_type": "code",
   "execution_count": 56,
   "metadata": {},
   "outputs": [
    {
     "name": "stdout",
     "output_type": "stream",
     "text": [
      "[*********************100%***********************]  1 of 1 completed\n"
     ]
    },
    {
     "data": {
      "text/html": [
       "<div>\n",
       "<style scoped>\n",
       "    .dataframe tbody tr th:only-of-type {\n",
       "        vertical-align: middle;\n",
       "    }\n",
       "\n",
       "    .dataframe tbody tr th {\n",
       "        vertical-align: top;\n",
       "    }\n",
       "\n",
       "    .dataframe thead th {\n",
       "        text-align: right;\n",
       "    }\n",
       "</style>\n",
       "<table border=\"1\" class=\"dataframe\">\n",
       "  <thead>\n",
       "    <tr style=\"text-align: right;\">\n",
       "      <th></th>\n",
       "      <th>Open</th>\n",
       "      <th>High</th>\n",
       "      <th>Low</th>\n",
       "      <th>Close</th>\n",
       "      <th>Adj Close</th>\n",
       "      <th>Volume</th>\n",
       "    </tr>\n",
       "    <tr>\n",
       "      <th>Date</th>\n",
       "      <th></th>\n",
       "      <th></th>\n",
       "      <th></th>\n",
       "      <th></th>\n",
       "      <th></th>\n",
       "      <th></th>\n",
       "    </tr>\n",
       "  </thead>\n",
       "  <tbody>\n",
       "    <tr>\n",
       "      <th>2018-01-02</th>\n",
       "      <td>15.20</td>\n",
       "      <td>15.65</td>\n",
       "      <td>14.90</td>\n",
       "      <td>15.40</td>\n",
       "      <td>12.549152</td>\n",
       "      <td>2257200</td>\n",
       "    </tr>\n",
       "    <tr>\n",
       "      <th>2018-01-03</th>\n",
       "      <td>15.45</td>\n",
       "      <td>15.50</td>\n",
       "      <td>14.90</td>\n",
       "      <td>15.00</td>\n",
       "      <td>12.223200</td>\n",
       "      <td>1631000</td>\n",
       "    </tr>\n",
       "    <tr>\n",
       "      <th>2018-01-04</th>\n",
       "      <td>15.00</td>\n",
       "      <td>15.10</td>\n",
       "      <td>14.35</td>\n",
       "      <td>14.45</td>\n",
       "      <td>11.775017</td>\n",
       "      <td>2141000</td>\n",
       "    </tr>\n",
       "    <tr>\n",
       "      <th>2018-01-05</th>\n",
       "      <td>14.50</td>\n",
       "      <td>14.56</td>\n",
       "      <td>14.05</td>\n",
       "      <td>14.10</td>\n",
       "      <td>11.489808</td>\n",
       "      <td>2009000</td>\n",
       "    </tr>\n",
       "    <tr>\n",
       "      <th>2018-01-08</th>\n",
       "      <td>14.30</td>\n",
       "      <td>14.35</td>\n",
       "      <td>13.65</td>\n",
       "      <td>13.80</td>\n",
       "      <td>11.245345</td>\n",
       "      <td>2347400</td>\n",
       "    </tr>\n",
       "    <tr>\n",
       "      <th>...</th>\n",
       "      <td>...</td>\n",
       "      <td>...</td>\n",
       "      <td>...</td>\n",
       "      <td>...</td>\n",
       "      <td>...</td>\n",
       "      <td>...</td>\n",
       "    </tr>\n",
       "    <tr>\n",
       "      <th>2020-12-23</th>\n",
       "      <td>2.58</td>\n",
       "      <td>2.65</td>\n",
       "      <td>2.54</td>\n",
       "      <td>2.56</td>\n",
       "      <td>2.560000</td>\n",
       "      <td>15724800</td>\n",
       "    </tr>\n",
       "    <tr>\n",
       "      <th>2020-12-24</th>\n",
       "      <td>2.59</td>\n",
       "      <td>2.60</td>\n",
       "      <td>2.48</td>\n",
       "      <td>2.51</td>\n",
       "      <td>2.510000</td>\n",
       "      <td>11094200</td>\n",
       "    </tr>\n",
       "    <tr>\n",
       "      <th>2020-12-28</th>\n",
       "      <td>2.63</td>\n",
       "      <td>2.63</td>\n",
       "      <td>2.36</td>\n",
       "      <td>2.39</td>\n",
       "      <td>2.390000</td>\n",
       "      <td>23942700</td>\n",
       "    </tr>\n",
       "    <tr>\n",
       "      <th>2020-12-29</th>\n",
       "      <td>2.44</td>\n",
       "      <td>2.46</td>\n",
       "      <td>2.28</td>\n",
       "      <td>2.29</td>\n",
       "      <td>2.290000</td>\n",
       "      <td>21086100</td>\n",
       "    </tr>\n",
       "    <tr>\n",
       "      <th>2020-12-30</th>\n",
       "      <td>2.30</td>\n",
       "      <td>2.30</td>\n",
       "      <td>2.13</td>\n",
       "      <td>2.16</td>\n",
       "      <td>2.160000</td>\n",
       "      <td>40278400</td>\n",
       "    </tr>\n",
       "  </tbody>\n",
       "</table>\n",
       "<p>755 rows × 6 columns</p>\n",
       "</div>"
      ],
      "text/plain": [
       "             Open   High    Low  Close  Adj Close    Volume\n",
       "Date                                                       \n",
       "2018-01-02  15.20  15.65  14.90  15.40  12.549152   2257200\n",
       "2018-01-03  15.45  15.50  14.90  15.00  12.223200   1631000\n",
       "2018-01-04  15.00  15.10  14.35  14.45  11.775017   2141000\n",
       "2018-01-05  14.50  14.56  14.05  14.10  11.489808   2009000\n",
       "2018-01-08  14.30  14.35  13.65  13.80  11.245345   2347400\n",
       "...           ...    ...    ...    ...        ...       ...\n",
       "2020-12-23   2.58   2.65   2.54   2.56   2.560000  15724800\n",
       "2020-12-24   2.59   2.60   2.48   2.51   2.510000  11094200\n",
       "2020-12-28   2.63   2.63   2.36   2.39   2.390000  23942700\n",
       "2020-12-29   2.44   2.46   2.28   2.29   2.290000  21086100\n",
       "2020-12-30   2.30   2.30   2.13   2.16   2.160000  40278400\n",
       "\n",
       "[755 rows x 6 columns]"
      ]
     },
     "execution_count": 56,
     "metadata": {},
     "output_type": "execute_result"
    }
   ],
   "source": [
    "import yfinance as yf\n",
    "import yfinance as yfin\n",
    "yfin.pdr_override()   #As of July 2021 need to imort yfinance library \n",
    "\n",
    "\n",
    "df = data.get_data_yahoo(\"AMC\", start=\"2018-01-01\", end=\"2020-12-31\")\n",
    "df"
   ]
  },
  {
   "cell_type": "code",
   "execution_count": 57,
   "metadata": {},
   "outputs": [
    {
     "data": {
      "text/plain": [
       "Open         1.520000e+01\n",
       "High         1.565000e+01\n",
       "Low          1.490000e+01\n",
       "Close        1.540000e+01\n",
       "Adj Close    1.254915e+01\n",
       "Volume       2.257200e+06\n",
       "Name: 2018-01-02 00:00:00, dtype: float64"
      ]
     },
     "execution_count": 57,
     "metadata": {},
     "output_type": "execute_result"
    }
   ],
   "source": [
    "df.loc['2018-01-02'] #can work but code below is more efficient "
   ]
  },
  {
   "cell_type": "code",
   "execution_count": 58,
   "metadata": {},
   "outputs": [
    {
     "data": {
      "text/plain": [
       "Open                2.58\n",
       "High                2.65\n",
       "Low                 2.54\n",
       "Close               2.56\n",
       "Adj Close           2.56\n",
       "Volume       15724800.00\n",
       "Name: 2020-12-23 00:00:00, dtype: float64"
      ]
     },
     "execution_count": 58,
     "metadata": {},
     "output_type": "execute_result"
    }
   ],
   "source": [
    "df.loc[pd.Timestamp(\"2020-12-23\")]#generally a good idea to wrap the date inside a pandas timestamp object, so create a timestamp object & use that to index "
   ]
  },
  {
   "cell_type": "code",
   "execution_count": 59,
   "metadata": {},
   "outputs": [
    {
     "data": {
      "text/html": [
       "<div>\n",
       "<style scoped>\n",
       "    .dataframe tbody tr th:only-of-type {\n",
       "        vertical-align: middle;\n",
       "    }\n",
       "\n",
       "    .dataframe tbody tr th {\n",
       "        vertical-align: top;\n",
       "    }\n",
       "\n",
       "    .dataframe thead th {\n",
       "        text-align: right;\n",
       "    }\n",
       "</style>\n",
       "<table border=\"1\" class=\"dataframe\">\n",
       "  <thead>\n",
       "    <tr style=\"text-align: right;\">\n",
       "      <th></th>\n",
       "      <th>Open</th>\n",
       "      <th>High</th>\n",
       "      <th>Low</th>\n",
       "      <th>Close</th>\n",
       "      <th>Adj Close</th>\n",
       "      <th>Volume</th>\n",
       "    </tr>\n",
       "    <tr>\n",
       "      <th>Date</th>\n",
       "      <th></th>\n",
       "      <th></th>\n",
       "      <th></th>\n",
       "      <th></th>\n",
       "      <th></th>\n",
       "      <th></th>\n",
       "    </tr>\n",
       "  </thead>\n",
       "  <tbody>\n",
       "    <tr>\n",
       "      <th>2018-01-02</th>\n",
       "      <td>15.20</td>\n",
       "      <td>15.65</td>\n",
       "      <td>14.90</td>\n",
       "      <td>15.40</td>\n",
       "      <td>12.549152</td>\n",
       "      <td>2257200</td>\n",
       "    </tr>\n",
       "    <tr>\n",
       "      <th>2018-01-03</th>\n",
       "      <td>15.45</td>\n",
       "      <td>15.50</td>\n",
       "      <td>14.90</td>\n",
       "      <td>15.00</td>\n",
       "      <td>12.223200</td>\n",
       "      <td>1631000</td>\n",
       "    </tr>\n",
       "    <tr>\n",
       "      <th>2018-01-04</th>\n",
       "      <td>15.00</td>\n",
       "      <td>15.10</td>\n",
       "      <td>14.35</td>\n",
       "      <td>14.45</td>\n",
       "      <td>11.775017</td>\n",
       "      <td>2141000</td>\n",
       "    </tr>\n",
       "    <tr>\n",
       "      <th>2018-01-05</th>\n",
       "      <td>14.50</td>\n",
       "      <td>14.56</td>\n",
       "      <td>14.05</td>\n",
       "      <td>14.10</td>\n",
       "      <td>11.489808</td>\n",
       "      <td>2009000</td>\n",
       "    </tr>\n",
       "  </tbody>\n",
       "</table>\n",
       "</div>"
      ],
      "text/plain": [
       "             Open   High    Low  Close  Adj Close   Volume\n",
       "Date                                                      \n",
       "2018-01-02  15.20  15.65  14.90  15.40  12.549152  2257200\n",
       "2018-01-03  15.45  15.50  14.90  15.00  12.223200  1631000\n",
       "2018-01-04  15.00  15.10  14.35  14.45  11.775017  2141000\n",
       "2018-01-05  14.50  14.56  14.05  14.10  11.489808  2009000"
      ]
     },
     "execution_count": 59,
     "metadata": {},
     "output_type": "execute_result"
    }
   ],
   "source": [
    "df.loc[\"2018-01-02\":\"2018-01-05\"] #.loc is inclusive "
   ]
  },
  {
   "cell_type": "code",
   "execution_count": 60,
   "metadata": {},
   "outputs": [
    {
     "data": {
      "text/plain": [
       "Open         1.520000e+01\n",
       "High         1.565000e+01\n",
       "Low          1.490000e+01\n",
       "Close        1.540000e+01\n",
       "Adj Close    1.254915e+01\n",
       "Volume       2.257200e+06\n",
       "Name: 2018-01-02 00:00:00, dtype: float64"
      ]
     },
     "execution_count": 60,
     "metadata": {},
     "output_type": "execute_result"
    }
   ],
   "source": [
    "df.iloc[0] #can also iloc with index postion "
   ]
  },
  {
   "cell_type": "code",
   "execution_count": 61,
   "metadata": {},
   "outputs": [
    {
     "data": {
      "text/plain": [
       "Open         7.300000e+00\n",
       "High         7.400000e+00\n",
       "Low          7.200000e+00\n",
       "Close        7.300000e+00\n",
       "Adj Close    7.255488e+00\n",
       "Volume       3.910500e+06\n",
       "Name: 2019-12-27 00:00:00, dtype: float64"
      ]
     },
     "execution_count": 61,
     "metadata": {},
     "output_type": "execute_result"
    }
   ],
   "source": [
    "df.iloc[500]"
   ]
  },
  {
   "cell_type": "code",
   "execution_count": 62,
   "metadata": {},
   "outputs": [
    {
     "data": {
      "text/html": [
       "<div>\n",
       "<style scoped>\n",
       "    .dataframe tbody tr th:only-of-type {\n",
       "        vertical-align: middle;\n",
       "    }\n",
       "\n",
       "    .dataframe tbody tr th {\n",
       "        vertical-align: top;\n",
       "    }\n",
       "\n",
       "    .dataframe thead th {\n",
       "        text-align: right;\n",
       "    }\n",
       "</style>\n",
       "<table border=\"1\" class=\"dataframe\">\n",
       "  <thead>\n",
       "    <tr style=\"text-align: right;\">\n",
       "      <th></th>\n",
       "      <th>Open</th>\n",
       "      <th>High</th>\n",
       "      <th>Low</th>\n",
       "      <th>Close</th>\n",
       "      <th>Adj Close</th>\n",
       "      <th>Volume</th>\n",
       "    </tr>\n",
       "    <tr>\n",
       "      <th>Date</th>\n",
       "      <th></th>\n",
       "      <th></th>\n",
       "      <th></th>\n",
       "      <th></th>\n",
       "      <th></th>\n",
       "      <th></th>\n",
       "    </tr>\n",
       "  </thead>\n",
       "  <tbody>\n",
       "    <tr>\n",
       "      <th>2020-12-23</th>\n",
       "      <td>2.58</td>\n",
       "      <td>2.65</td>\n",
       "      <td>2.54</td>\n",
       "      <td>2.56</td>\n",
       "      <td>2.56</td>\n",
       "      <td>15724800</td>\n",
       "    </tr>\n",
       "    <tr>\n",
       "      <th>2020-12-30</th>\n",
       "      <td>2.30</td>\n",
       "      <td>2.30</td>\n",
       "      <td>2.13</td>\n",
       "      <td>2.16</td>\n",
       "      <td>2.16</td>\n",
       "      <td>40278400</td>\n",
       "    </tr>\n",
       "  </tbody>\n",
       "</table>\n",
       "</div>"
      ],
      "text/plain": [
       "            Open  High   Low  Close  Adj Close    Volume\n",
       "Date                                                    \n",
       "2020-12-23  2.58  2.65  2.54   2.56       2.56  15724800\n",
       "2020-12-30  2.30  2.30  2.13   2.16       2.16  40278400"
      ]
     },
     "execution_count": 62,
     "metadata": {},
     "output_type": "execute_result"
    }
   ],
   "source": [
    "#pull out multiple rows\n",
    "df.loc[[pd.Timestamp(\"2020-12-23\"),pd.Timestamp(\"2020-12-30\")]] "
   ]
  },
  {
   "cell_type": "code",
   "execution_count": 63,
   "metadata": {},
   "outputs": [
    {
     "data": {
      "text/plain": [
       "Open         251\n",
       "High         251\n",
       "Low          251\n",
       "Close        251\n",
       "Adj Close    251\n",
       "Volume       251\n",
       "dtype: int64"
      ]
     },
     "execution_count": 63,
     "metadata": {},
     "output_type": "execute_result"
    }
   ],
   "source": [
    "#slicing \n",
    "df.loc[\"2018-01-01\":\"2019-01-01\"].count()"
   ]
  },
  {
   "cell_type": "code",
   "execution_count": 64,
   "metadata": {},
   "outputs": [
    {
     "data": {
      "text/html": [
       "<div>\n",
       "<style scoped>\n",
       "    .dataframe tbody tr th:only-of-type {\n",
       "        vertical-align: middle;\n",
       "    }\n",
       "\n",
       "    .dataframe tbody tr th {\n",
       "        vertical-align: top;\n",
       "    }\n",
       "\n",
       "    .dataframe thead th {\n",
       "        text-align: right;\n",
       "    }\n",
       "</style>\n",
       "<table border=\"1\" class=\"dataframe\">\n",
       "  <thead>\n",
       "    <tr style=\"text-align: right;\">\n",
       "      <th></th>\n",
       "      <th>Open</th>\n",
       "      <th>High</th>\n",
       "      <th>Low</th>\n",
       "      <th>Close</th>\n",
       "      <th>Adj Close</th>\n",
       "      <th>Volume</th>\n",
       "    </tr>\n",
       "    <tr>\n",
       "      <th>Date</th>\n",
       "      <th></th>\n",
       "      <th></th>\n",
       "      <th></th>\n",
       "      <th></th>\n",
       "      <th></th>\n",
       "      <th></th>\n",
       "    </tr>\n",
       "  </thead>\n",
       "  <tbody>\n",
       "    <tr>\n",
       "      <th>2018-01-02</th>\n",
       "      <td>15.20</td>\n",
       "      <td>15.65</td>\n",
       "      <td>14.90</td>\n",
       "      <td>15.40</td>\n",
       "      <td>12.549152</td>\n",
       "      <td>2257200</td>\n",
       "    </tr>\n",
       "    <tr>\n",
       "      <th>2018-01-03</th>\n",
       "      <td>15.45</td>\n",
       "      <td>15.50</td>\n",
       "      <td>14.90</td>\n",
       "      <td>15.00</td>\n",
       "      <td>12.223200</td>\n",
       "      <td>1631000</td>\n",
       "    </tr>\n",
       "    <tr>\n",
       "      <th>2018-01-04</th>\n",
       "      <td>15.00</td>\n",
       "      <td>15.10</td>\n",
       "      <td>14.35</td>\n",
       "      <td>14.45</td>\n",
       "      <td>11.775017</td>\n",
       "      <td>2141000</td>\n",
       "    </tr>\n",
       "    <tr>\n",
       "      <th>2018-01-05</th>\n",
       "      <td>14.50</td>\n",
       "      <td>14.56</td>\n",
       "      <td>14.05</td>\n",
       "      <td>14.10</td>\n",
       "      <td>11.489808</td>\n",
       "      <td>2009000</td>\n",
       "    </tr>\n",
       "    <tr>\n",
       "      <th>2018-01-08</th>\n",
       "      <td>14.30</td>\n",
       "      <td>14.35</td>\n",
       "      <td>13.65</td>\n",
       "      <td>13.80</td>\n",
       "      <td>11.245345</td>\n",
       "      <td>2347400</td>\n",
       "    </tr>\n",
       "  </tbody>\n",
       "</table>\n",
       "</div>"
      ],
      "text/plain": [
       "             Open   High    Low  Close  Adj Close   Volume\n",
       "Date                                                      \n",
       "2018-01-02  15.20  15.65  14.90  15.40  12.549152  2257200\n",
       "2018-01-03  15.45  15.50  14.90  15.00  12.223200  1631000\n",
       "2018-01-04  15.00  15.10  14.35  14.45  11.775017  2141000\n",
       "2018-01-05  14.50  14.56  14.05  14.10  11.489808  2009000\n",
       "2018-01-08  14.30  14.35  13.65  13.80  11.245345  2347400"
      ]
     },
     "execution_count": 64,
     "metadata": {},
     "output_type": "execute_result"
    }
   ],
   "source": [
    "df.iloc[0:5]"
   ]
  },
  {
   "cell_type": "code",
   "execution_count": 65,
   "metadata": {},
   "outputs": [
    {
     "data": {
      "text/html": [
       "<div>\n",
       "<style scoped>\n",
       "    .dataframe tbody tr th:only-of-type {\n",
       "        vertical-align: middle;\n",
       "    }\n",
       "\n",
       "    .dataframe tbody tr th {\n",
       "        vertical-align: top;\n",
       "    }\n",
       "\n",
       "    .dataframe thead th {\n",
       "        text-align: right;\n",
       "    }\n",
       "</style>\n",
       "<table border=\"1\" class=\"dataframe\">\n",
       "  <thead>\n",
       "    <tr style=\"text-align: right;\">\n",
       "      <th></th>\n",
       "      <th>Open</th>\n",
       "      <th>High</th>\n",
       "      <th>Low</th>\n",
       "      <th>Close</th>\n",
       "      <th>Adj Close</th>\n",
       "      <th>Volume</th>\n",
       "    </tr>\n",
       "    <tr>\n",
       "      <th>Date</th>\n",
       "      <th></th>\n",
       "      <th></th>\n",
       "      <th></th>\n",
       "      <th></th>\n",
       "      <th></th>\n",
       "      <th></th>\n",
       "    </tr>\n",
       "  </thead>\n",
       "  <tbody>\n",
       "    <tr>\n",
       "      <th>2018-01-17</th>\n",
       "      <td>13.7</td>\n",
       "      <td>13.95</td>\n",
       "      <td>13.66</td>\n",
       "      <td>13.75</td>\n",
       "      <td>11.204602</td>\n",
       "      <td>1023800</td>\n",
       "    </tr>\n",
       "    <tr>\n",
       "      <th>2018-01-24</th>\n",
       "      <td>13.4</td>\n",
       "      <td>13.65</td>\n",
       "      <td>13.10</td>\n",
       "      <td>13.20</td>\n",
       "      <td>10.756416</td>\n",
       "      <td>1724800</td>\n",
       "    </tr>\n",
       "    <tr>\n",
       "      <th>2018-02-14</th>\n",
       "      <td>13.7</td>\n",
       "      <td>14.50</td>\n",
       "      <td>13.70</td>\n",
       "      <td>14.25</td>\n",
       "      <td>11.612041</td>\n",
       "      <td>1981000</td>\n",
       "    </tr>\n",
       "  </tbody>\n",
       "</table>\n",
       "</div>"
      ],
      "text/plain": [
       "            Open   High    Low  Close  Adj Close   Volume\n",
       "Date                                                     \n",
       "2018-01-17  13.7  13.95  13.66  13.75  11.204602  1023800\n",
       "2018-01-24  13.4  13.65  13.10  13.20  10.756416  1724800\n",
       "2018-02-14  13.7  14.50  13.70  14.25  11.612041  1981000"
      ]
     },
     "execution_count": 65,
     "metadata": {},
     "output_type": "execute_result"
    }
   ],
   "source": [
    "df.iloc[[10,15,30]] #iloc is exclusive "
   ]
  },
  {
   "cell_type": "code",
   "execution_count": 66,
   "metadata": {},
   "outputs": [
    {
     "name": "stdout",
     "output_type": "stream",
     "text": [
      "[*********************100%***********************]  1 of 1 completed\n"
     ]
    },
    {
     "data": {
      "text/html": [
       "<div>\n",
       "<style scoped>\n",
       "    .dataframe tbody tr th:only-of-type {\n",
       "        vertical-align: middle;\n",
       "    }\n",
       "\n",
       "    .dataframe tbody tr th {\n",
       "        vertical-align: top;\n",
       "    }\n",
       "\n",
       "    .dataframe thead th {\n",
       "        text-align: right;\n",
       "    }\n",
       "</style>\n",
       "<table border=\"1\" class=\"dataframe\">\n",
       "  <thead>\n",
       "    <tr style=\"text-align: right;\">\n",
       "      <th></th>\n",
       "      <th>Open</th>\n",
       "      <th>High</th>\n",
       "      <th>Low</th>\n",
       "      <th>Close</th>\n",
       "      <th>Adj Close</th>\n",
       "      <th>Volume</th>\n",
       "    </tr>\n",
       "    <tr>\n",
       "      <th>Date</th>\n",
       "      <th></th>\n",
       "      <th></th>\n",
       "      <th></th>\n",
       "      <th></th>\n",
       "      <th></th>\n",
       "      <th></th>\n",
       "    </tr>\n",
       "  </thead>\n",
       "  <tbody>\n",
       "    <tr>\n",
       "      <th>2018-12-31</th>\n",
       "      <td>12.500000</td>\n",
       "      <td>12.720000</td>\n",
       "      <td>11.910000</td>\n",
       "      <td>12.280000</td>\n",
       "      <td>11.350496</td>\n",
       "      <td>1246800</td>\n",
       "    </tr>\n",
       "    <tr>\n",
       "      <th>2019-01-02</th>\n",
       "      <td>12.010000</td>\n",
       "      <td>13.080000</td>\n",
       "      <td>11.900000</td>\n",
       "      <td>12.890000</td>\n",
       "      <td>11.914326</td>\n",
       "      <td>1374900</td>\n",
       "    </tr>\n",
       "    <tr>\n",
       "      <th>2019-01-03</th>\n",
       "      <td>12.800000</td>\n",
       "      <td>13.540000</td>\n",
       "      <td>12.630000</td>\n",
       "      <td>13.060000</td>\n",
       "      <td>12.071457</td>\n",
       "      <td>1392400</td>\n",
       "    </tr>\n",
       "    <tr>\n",
       "      <th>2019-01-04</th>\n",
       "      <td>13.220000</td>\n",
       "      <td>13.690000</td>\n",
       "      <td>13.020000</td>\n",
       "      <td>13.540000</td>\n",
       "      <td>12.515124</td>\n",
       "      <td>1025000</td>\n",
       "    </tr>\n",
       "    <tr>\n",
       "      <th>2019-01-07</th>\n",
       "      <td>13.550000</td>\n",
       "      <td>14.260000</td>\n",
       "      <td>13.370000</td>\n",
       "      <td>14.120000</td>\n",
       "      <td>13.051224</td>\n",
       "      <td>1119200</td>\n",
       "    </tr>\n",
       "    <tr>\n",
       "      <th>...</th>\n",
       "      <td>...</td>\n",
       "      <td>...</td>\n",
       "      <td>...</td>\n",
       "      <td>...</td>\n",
       "      <td>...</td>\n",
       "      <td>...</td>\n",
       "    </tr>\n",
       "    <tr>\n",
       "      <th>2021-06-29</th>\n",
       "      <td>59.060001</td>\n",
       "      <td>61.000000</td>\n",
       "      <td>56.180000</td>\n",
       "      <td>56.430000</td>\n",
       "      <td>56.430000</td>\n",
       "      <td>63604100</td>\n",
       "    </tr>\n",
       "    <tr>\n",
       "      <th>2021-06-30</th>\n",
       "      <td>56.000000</td>\n",
       "      <td>58.180000</td>\n",
       "      <td>54.650002</td>\n",
       "      <td>56.680000</td>\n",
       "      <td>56.680000</td>\n",
       "      <td>59020600</td>\n",
       "    </tr>\n",
       "    <tr>\n",
       "      <th>2021-07-01</th>\n",
       "      <td>56.860001</td>\n",
       "      <td>57.709999</td>\n",
       "      <td>52.529999</td>\n",
       "      <td>54.220001</td>\n",
       "      <td>54.220001</td>\n",
       "      <td>57549900</td>\n",
       "    </tr>\n",
       "    <tr>\n",
       "      <th>2021-07-02</th>\n",
       "      <td>52.770000</td>\n",
       "      <td>53.250000</td>\n",
       "      <td>47.770000</td>\n",
       "      <td>51.959999</td>\n",
       "      <td>51.959999</td>\n",
       "      <td>90271500</td>\n",
       "    </tr>\n",
       "    <tr>\n",
       "      <th>2021-07-06</th>\n",
       "      <td>53.459999</td>\n",
       "      <td>55.070000</td>\n",
       "      <td>49.700001</td>\n",
       "      <td>49.959999</td>\n",
       "      <td>49.959999</td>\n",
       "      <td>62131100</td>\n",
       "    </tr>\n",
       "  </tbody>\n",
       "</table>\n",
       "<p>633 rows × 6 columns</p>\n",
       "</div>"
      ],
      "text/plain": [
       "                 Open       High        Low      Close  Adj Close    Volume\n",
       "Date                                                                       \n",
       "2018-12-31  12.500000  12.720000  11.910000  12.280000  11.350496   1246800\n",
       "2019-01-02  12.010000  13.080000  11.900000  12.890000  11.914326   1374900\n",
       "2019-01-03  12.800000  13.540000  12.630000  13.060000  12.071457   1392400\n",
       "2019-01-04  13.220000  13.690000  13.020000  13.540000  12.515124   1025000\n",
       "2019-01-07  13.550000  14.260000  13.370000  14.120000  13.051224   1119200\n",
       "...               ...        ...        ...        ...        ...       ...\n",
       "2021-06-29  59.060001  61.000000  56.180000  56.430000  56.430000  63604100\n",
       "2021-06-30  56.000000  58.180000  54.650002  56.680000  56.680000  59020600\n",
       "2021-07-01  56.860001  57.709999  52.529999  54.220001  54.220001  57549900\n",
       "2021-07-02  52.770000  53.250000  47.770000  51.959999  51.959999  90271500\n",
       "2021-07-06  53.459999  55.070000  49.700001  49.959999  49.959999  62131100\n",
       "\n",
       "[633 rows x 6 columns]"
      ]
     },
     "execution_count": 66,
     "metadata": {},
     "output_type": "execute_result"
    }
   ],
   "source": [
    "import yfinance as yf\n",
    "import yfinance as yfin\n",
    "yfin.pdr_override()   #As of July 2021 need to imort yfinance library \n",
    "\n",
    "\n",
    "AMC = data.get_data_yahoo(\"AMC\", start=\"2018-12-31\", end=\"2021-07-07\")\n",
    "AMC"
   ]
  },
  {
   "cell_type": "code",
   "execution_count": 67,
   "metadata": {},
   "outputs": [],
   "source": [
    "higher_than_62=AMC[\"High\"]>62"
   ]
  },
  {
   "cell_type": "code",
   "execution_count": 68,
   "metadata": {},
   "outputs": [
    {
     "data": {
      "text/html": [
       "<div>\n",
       "<style scoped>\n",
       "    .dataframe tbody tr th:only-of-type {\n",
       "        vertical-align: middle;\n",
       "    }\n",
       "\n",
       "    .dataframe tbody tr th {\n",
       "        vertical-align: top;\n",
       "    }\n",
       "\n",
       "    .dataframe thead th {\n",
       "        text-align: right;\n",
       "    }\n",
       "</style>\n",
       "<table border=\"1\" class=\"dataframe\">\n",
       "  <thead>\n",
       "    <tr style=\"text-align: right;\">\n",
       "      <th></th>\n",
       "      <th>Open</th>\n",
       "      <th>High</th>\n",
       "      <th>Low</th>\n",
       "      <th>Close</th>\n",
       "      <th>Adj Close</th>\n",
       "      <th>Volume</th>\n",
       "    </tr>\n",
       "    <tr>\n",
       "      <th>Date</th>\n",
       "      <th></th>\n",
       "      <th></th>\n",
       "      <th></th>\n",
       "      <th></th>\n",
       "      <th></th>\n",
       "      <th></th>\n",
       "    </tr>\n",
       "  </thead>\n",
       "  <tbody>\n",
       "    <tr>\n",
       "      <th>2021-06-02</th>\n",
       "      <td>37.520000</td>\n",
       "      <td>72.620003</td>\n",
       "      <td>35.590000</td>\n",
       "      <td>62.549999</td>\n",
       "      <td>62.549999</td>\n",
       "      <td>766462500</td>\n",
       "    </tr>\n",
       "    <tr>\n",
       "      <th>2021-06-03</th>\n",
       "      <td>58.099998</td>\n",
       "      <td>68.800003</td>\n",
       "      <td>37.660000</td>\n",
       "      <td>51.340000</td>\n",
       "      <td>51.340000</td>\n",
       "      <td>598142200</td>\n",
       "    </tr>\n",
       "    <tr>\n",
       "      <th>2021-06-15</th>\n",
       "      <td>58.389999</td>\n",
       "      <td>64.709999</td>\n",
       "      <td>56.730000</td>\n",
       "      <td>59.040001</td>\n",
       "      <td>59.040001</td>\n",
       "      <td>285582100</td>\n",
       "    </tr>\n",
       "    <tr>\n",
       "      <th>2021-06-17</th>\n",
       "      <td>54.000000</td>\n",
       "      <td>63.830002</td>\n",
       "      <td>52.980000</td>\n",
       "      <td>60.730000</td>\n",
       "      <td>60.730000</td>\n",
       "      <td>303576000</td>\n",
       "    </tr>\n",
       "    <tr>\n",
       "      <th>2021-06-18</th>\n",
       "      <td>61.259998</td>\n",
       "      <td>64.959999</td>\n",
       "      <td>56.849998</td>\n",
       "      <td>59.259998</td>\n",
       "      <td>59.259998</td>\n",
       "      <td>243645900</td>\n",
       "    </tr>\n",
       "    <tr>\n",
       "      <th>2021-06-21</th>\n",
       "      <td>61.340000</td>\n",
       "      <td>63.009998</td>\n",
       "      <td>53.430000</td>\n",
       "      <td>55.689999</td>\n",
       "      <td>55.689999</td>\n",
       "      <td>185876100</td>\n",
       "    </tr>\n",
       "  </tbody>\n",
       "</table>\n",
       "</div>"
      ],
      "text/plain": [
       "                 Open       High        Low      Close  Adj Close     Volume\n",
       "Date                                                                        \n",
       "2021-06-02  37.520000  72.620003  35.590000  62.549999  62.549999  766462500\n",
       "2021-06-03  58.099998  68.800003  37.660000  51.340000  51.340000  598142200\n",
       "2021-06-15  58.389999  64.709999  56.730000  59.040001  59.040001  285582100\n",
       "2021-06-17  54.000000  63.830002  52.980000  60.730000  60.730000  303576000\n",
       "2021-06-18  61.259998  64.959999  56.849998  59.259998  59.259998  243645900\n",
       "2021-06-21  61.340000  63.009998  53.430000  55.689999  55.689999  185876100"
      ]
     },
     "execution_count": 68,
     "metadata": {},
     "output_type": "execute_result"
    }
   ],
   "source": [
    "AMC[higher_than_62] #AMC stock vlaues from end of year 2018 to present day with a High greater than 62"
   ]
  },
  {
   "cell_type": "code",
   "execution_count": 69,
   "metadata": {},
   "outputs": [
    {
     "data": {
      "text/html": [
       "<div>\n",
       "<style scoped>\n",
       "    .dataframe tbody tr th:only-of-type {\n",
       "        vertical-align: middle;\n",
       "    }\n",
       "\n",
       "    .dataframe tbody tr th {\n",
       "        vertical-align: top;\n",
       "    }\n",
       "\n",
       "    .dataframe thead th {\n",
       "        text-align: right;\n",
       "    }\n",
       "</style>\n",
       "<table border=\"1\" class=\"dataframe\">\n",
       "  <thead>\n",
       "    <tr style=\"text-align: right;\">\n",
       "      <th></th>\n",
       "      <th>Open</th>\n",
       "      <th>High</th>\n",
       "      <th>Low</th>\n",
       "      <th>Close</th>\n",
       "      <th>Adj Close</th>\n",
       "      <th>Volume</th>\n",
       "    </tr>\n",
       "    <tr>\n",
       "      <th>Date</th>\n",
       "      <th></th>\n",
       "      <th></th>\n",
       "      <th></th>\n",
       "      <th></th>\n",
       "      <th></th>\n",
       "      <th></th>\n",
       "    </tr>\n",
       "  </thead>\n",
       "  <tbody>\n",
       "    <tr>\n",
       "      <th>2021-06-01</th>\n",
       "      <td>31.889999</td>\n",
       "      <td>33.529999</td>\n",
       "      <td>28.530001</td>\n",
       "      <td>32.040001</td>\n",
       "      <td>32.040001</td>\n",
       "      <td>508694600</td>\n",
       "    </tr>\n",
       "    <tr>\n",
       "      <th>2021-06-02</th>\n",
       "      <td>37.520000</td>\n",
       "      <td>72.620003</td>\n",
       "      <td>35.590000</td>\n",
       "      <td>62.549999</td>\n",
       "      <td>62.549999</td>\n",
       "      <td>766462500</td>\n",
       "    </tr>\n",
       "    <tr>\n",
       "      <th>2021-06-03</th>\n",
       "      <td>58.099998</td>\n",
       "      <td>68.800003</td>\n",
       "      <td>37.660000</td>\n",
       "      <td>51.340000</td>\n",
       "      <td>51.340000</td>\n",
       "      <td>598142200</td>\n",
       "    </tr>\n",
       "    <tr>\n",
       "      <th>2021-06-04</th>\n",
       "      <td>48.790001</td>\n",
       "      <td>57.480000</td>\n",
       "      <td>46.040001</td>\n",
       "      <td>47.910000</td>\n",
       "      <td>47.910000</td>\n",
       "      <td>337710100</td>\n",
       "    </tr>\n",
       "    <tr>\n",
       "      <th>2021-06-07</th>\n",
       "      <td>52.380001</td>\n",
       "      <td>59.680000</td>\n",
       "      <td>51.500000</td>\n",
       "      <td>55.000000</td>\n",
       "      <td>55.000000</td>\n",
       "      <td>349094900</td>\n",
       "    </tr>\n",
       "    <tr>\n",
       "      <th>2021-06-08</th>\n",
       "      <td>57.160000</td>\n",
       "      <td>60.619999</td>\n",
       "      <td>52.770000</td>\n",
       "      <td>55.049999</td>\n",
       "      <td>55.049999</td>\n",
       "      <td>214490300</td>\n",
       "    </tr>\n",
       "    <tr>\n",
       "      <th>2021-06-09</th>\n",
       "      <td>52.200001</td>\n",
       "      <td>53.389999</td>\n",
       "      <td>48.119999</td>\n",
       "      <td>49.340000</td>\n",
       "      <td>49.340000</td>\n",
       "      <td>150361300</td>\n",
       "    </tr>\n",
       "    <tr>\n",
       "      <th>2021-06-10</th>\n",
       "      <td>47.930000</td>\n",
       "      <td>51.500000</td>\n",
       "      <td>39.709999</td>\n",
       "      <td>42.810001</td>\n",
       "      <td>42.810001</td>\n",
       "      <td>224860600</td>\n",
       "    </tr>\n",
       "    <tr>\n",
       "      <th>2021-06-11</th>\n",
       "      <td>44.680000</td>\n",
       "      <td>49.599998</td>\n",
       "      <td>42.009998</td>\n",
       "      <td>49.400002</td>\n",
       "      <td>49.400002</td>\n",
       "      <td>218006600</td>\n",
       "    </tr>\n",
       "    <tr>\n",
       "      <th>2021-06-14</th>\n",
       "      <td>51.830002</td>\n",
       "      <td>60.549999</td>\n",
       "      <td>51.520000</td>\n",
       "      <td>57.000000</td>\n",
       "      <td>57.000000</td>\n",
       "      <td>301467300</td>\n",
       "    </tr>\n",
       "    <tr>\n",
       "      <th>2021-06-15</th>\n",
       "      <td>58.389999</td>\n",
       "      <td>64.709999</td>\n",
       "      <td>56.730000</td>\n",
       "      <td>59.040001</td>\n",
       "      <td>59.040001</td>\n",
       "      <td>285582100</td>\n",
       "    </tr>\n",
       "    <tr>\n",
       "      <th>2021-06-16</th>\n",
       "      <td>56.139999</td>\n",
       "      <td>57.340000</td>\n",
       "      <td>51.860001</td>\n",
       "      <td>55.180000</td>\n",
       "      <td>55.180000</td>\n",
       "      <td>166450700</td>\n",
       "    </tr>\n",
       "    <tr>\n",
       "      <th>2021-06-17</th>\n",
       "      <td>54.000000</td>\n",
       "      <td>63.830002</td>\n",
       "      <td>52.980000</td>\n",
       "      <td>60.730000</td>\n",
       "      <td>60.730000</td>\n",
       "      <td>303576000</td>\n",
       "    </tr>\n",
       "    <tr>\n",
       "      <th>2021-06-18</th>\n",
       "      <td>61.259998</td>\n",
       "      <td>64.959999</td>\n",
       "      <td>56.849998</td>\n",
       "      <td>59.259998</td>\n",
       "      <td>59.259998</td>\n",
       "      <td>243645900</td>\n",
       "    </tr>\n",
       "    <tr>\n",
       "      <th>2021-06-21</th>\n",
       "      <td>61.340000</td>\n",
       "      <td>63.009998</td>\n",
       "      <td>53.430000</td>\n",
       "      <td>55.689999</td>\n",
       "      <td>55.689999</td>\n",
       "      <td>185876100</td>\n",
       "    </tr>\n",
       "    <tr>\n",
       "      <th>2021-06-22</th>\n",
       "      <td>54.099998</td>\n",
       "      <td>58.740002</td>\n",
       "      <td>51.049999</td>\n",
       "      <td>58.270000</td>\n",
       "      <td>58.270000</td>\n",
       "      <td>169494100</td>\n",
       "    </tr>\n",
       "    <tr>\n",
       "      <th>2021-06-23</th>\n",
       "      <td>57.040001</td>\n",
       "      <td>61.099998</td>\n",
       "      <td>56.799999</td>\n",
       "      <td>58.299999</td>\n",
       "      <td>58.299999</td>\n",
       "      <td>116291800</td>\n",
       "    </tr>\n",
       "    <tr>\n",
       "      <th>2021-06-24</th>\n",
       "      <td>57.980000</td>\n",
       "      <td>58.759998</td>\n",
       "      <td>55.660000</td>\n",
       "      <td>56.700001</td>\n",
       "      <td>56.700001</td>\n",
       "      <td>80351200</td>\n",
       "    </tr>\n",
       "    <tr>\n",
       "      <th>2021-06-25</th>\n",
       "      <td>55.750000</td>\n",
       "      <td>56.290001</td>\n",
       "      <td>52.970001</td>\n",
       "      <td>54.060001</td>\n",
       "      <td>54.060001</td>\n",
       "      <td>77596900</td>\n",
       "    </tr>\n",
       "    <tr>\n",
       "      <th>2021-06-28</th>\n",
       "      <td>55.099998</td>\n",
       "      <td>59.360001</td>\n",
       "      <td>54.330002</td>\n",
       "      <td>58.110001</td>\n",
       "      <td>58.110001</td>\n",
       "      <td>99310200</td>\n",
       "    </tr>\n",
       "    <tr>\n",
       "      <th>2021-06-29</th>\n",
       "      <td>59.060001</td>\n",
       "      <td>61.000000</td>\n",
       "      <td>56.180000</td>\n",
       "      <td>56.430000</td>\n",
       "      <td>56.430000</td>\n",
       "      <td>63604100</td>\n",
       "    </tr>\n",
       "    <tr>\n",
       "      <th>2021-06-30</th>\n",
       "      <td>56.000000</td>\n",
       "      <td>58.180000</td>\n",
       "      <td>54.650002</td>\n",
       "      <td>56.680000</td>\n",
       "      <td>56.680000</td>\n",
       "      <td>59020600</td>\n",
       "    </tr>\n",
       "    <tr>\n",
       "      <th>2021-07-01</th>\n",
       "      <td>56.860001</td>\n",
       "      <td>57.709999</td>\n",
       "      <td>52.529999</td>\n",
       "      <td>54.220001</td>\n",
       "      <td>54.220001</td>\n",
       "      <td>57549900</td>\n",
       "    </tr>\n",
       "    <tr>\n",
       "      <th>2021-07-02</th>\n",
       "      <td>52.770000</td>\n",
       "      <td>53.250000</td>\n",
       "      <td>47.770000</td>\n",
       "      <td>51.959999</td>\n",
       "      <td>51.959999</td>\n",
       "      <td>90271500</td>\n",
       "    </tr>\n",
       "    <tr>\n",
       "      <th>2021-07-06</th>\n",
       "      <td>53.459999</td>\n",
       "      <td>55.070000</td>\n",
       "      <td>49.700001</td>\n",
       "      <td>49.959999</td>\n",
       "      <td>49.959999</td>\n",
       "      <td>62131100</td>\n",
       "    </tr>\n",
       "  </tbody>\n",
       "</table>\n",
       "</div>"
      ],
      "text/plain": [
       "                 Open       High        Low      Close  Adj Close     Volume\n",
       "Date                                                                        \n",
       "2021-06-01  31.889999  33.529999  28.530001  32.040001  32.040001  508694600\n",
       "2021-06-02  37.520000  72.620003  35.590000  62.549999  62.549999  766462500\n",
       "2021-06-03  58.099998  68.800003  37.660000  51.340000  51.340000  598142200\n",
       "2021-06-04  48.790001  57.480000  46.040001  47.910000  47.910000  337710100\n",
       "2021-06-07  52.380001  59.680000  51.500000  55.000000  55.000000  349094900\n",
       "2021-06-08  57.160000  60.619999  52.770000  55.049999  55.049999  214490300\n",
       "2021-06-09  52.200001  53.389999  48.119999  49.340000  49.340000  150361300\n",
       "2021-06-10  47.930000  51.500000  39.709999  42.810001  42.810001  224860600\n",
       "2021-06-11  44.680000  49.599998  42.009998  49.400002  49.400002  218006600\n",
       "2021-06-14  51.830002  60.549999  51.520000  57.000000  57.000000  301467300\n",
       "2021-06-15  58.389999  64.709999  56.730000  59.040001  59.040001  285582100\n",
       "2021-06-16  56.139999  57.340000  51.860001  55.180000  55.180000  166450700\n",
       "2021-06-17  54.000000  63.830002  52.980000  60.730000  60.730000  303576000\n",
       "2021-06-18  61.259998  64.959999  56.849998  59.259998  59.259998  243645900\n",
       "2021-06-21  61.340000  63.009998  53.430000  55.689999  55.689999  185876100\n",
       "2021-06-22  54.099998  58.740002  51.049999  58.270000  58.270000  169494100\n",
       "2021-06-23  57.040001  61.099998  56.799999  58.299999  58.299999  116291800\n",
       "2021-06-24  57.980000  58.759998  55.660000  56.700001  56.700001   80351200\n",
       "2021-06-25  55.750000  56.290001  52.970001  54.060001  54.060001   77596900\n",
       "2021-06-28  55.099998  59.360001  54.330002  58.110001  58.110001   99310200\n",
       "2021-06-29  59.060001  61.000000  56.180000  56.430000  56.430000   63604100\n",
       "2021-06-30  56.000000  58.180000  54.650002  56.680000  56.680000   59020600\n",
       "2021-07-01  56.860001  57.709999  52.529999  54.220001  54.220001   57549900\n",
       "2021-07-02  52.770000  53.250000  47.770000  51.959999  51.959999   90271500\n",
       "2021-07-06  53.459999  55.070000  49.700001  49.959999  49.959999   62131100"
      ]
     },
     "execution_count": 69,
     "metadata": {},
     "output_type": "execute_result"
    }
   ],
   "source": [
    "twomonths=AMC.loc[\"2021-06-01\":\"2021-07-07\"]\n",
    "twomonths"
   ]
  },
  {
   "cell_type": "code",
   "execution_count": 70,
   "metadata": {},
   "outputs": [],
   "source": [
    "higher_than_60=twomonths[\"High\"]>=60"
   ]
  },
  {
   "cell_type": "code",
   "execution_count": 71,
   "metadata": {},
   "outputs": [],
   "source": [
    "good_day=twomonths[higher_than_60] #AMC High >= 60"
   ]
  },
  {
   "cell_type": "code",
   "execution_count": 72,
   "metadata": {},
   "outputs": [],
   "source": [
    "birthdays=pd.date_range(start=\"02/20/1997\",end=\"12/31/2021\",freq=pd.DateOffset(years=1)) #will look at same date each year "
   ]
  },
  {
   "cell_type": "code",
   "execution_count": 73,
   "metadata": {},
   "outputs": [],
   "source": [
    "bday_stocks=stocks.index.isin(birthdays)"
   ]
  },
  {
   "cell_type": "code",
   "execution_count": 74,
   "metadata": {},
   "outputs": [
    {
     "data": {
      "text/html": [
       "<div>\n",
       "<style scoped>\n",
       "    .dataframe tbody tr th:only-of-type {\n",
       "        vertical-align: middle;\n",
       "    }\n",
       "\n",
       "    .dataframe tbody tr th {\n",
       "        vertical-align: top;\n",
       "    }\n",
       "\n",
       "    .dataframe thead th {\n",
       "        text-align: right;\n",
       "    }\n",
       "</style>\n",
       "<table border=\"1\" class=\"dataframe\">\n",
       "  <thead>\n",
       "    <tr style=\"text-align: right;\">\n",
       "      <th></th>\n",
       "      <th>Open</th>\n",
       "      <th>High</th>\n",
       "      <th>Low</th>\n",
       "      <th>Close</th>\n",
       "      <th>Adj Close</th>\n",
       "      <th>Volume</th>\n",
       "    </tr>\n",
       "    <tr>\n",
       "      <th>Date</th>\n",
       "      <th></th>\n",
       "      <th></th>\n",
       "      <th></th>\n",
       "      <th></th>\n",
       "      <th></th>\n",
       "      <th></th>\n",
       "    </tr>\n",
       "  </thead>\n",
       "  <tbody>\n",
       "    <tr>\n",
       "      <th>2015-02-20</th>\n",
       "      <td>32.580002</td>\n",
       "      <td>32.66</td>\n",
       "      <td>32.040001</td>\n",
       "      <td>32.610001</td>\n",
       "      <td>24.047518</td>\n",
       "      <td>314700</td>\n",
       "    </tr>\n",
       "    <tr>\n",
       "      <th>2018-02-20</th>\n",
       "      <td>14.650000</td>\n",
       "      <td>15.00</td>\n",
       "      <td>14.310000</td>\n",
       "      <td>14.500000</td>\n",
       "      <td>11.815761</td>\n",
       "      <td>2002300</td>\n",
       "    </tr>\n",
       "  </tbody>\n",
       "</table>\n",
       "</div>"
      ],
      "text/plain": [
       "                 Open   High        Low      Close  Adj Close   Volume\n",
       "Date                                                                  \n",
       "2015-02-20  32.580002  32.66  32.040001  32.610001  24.047518   314700\n",
       "2018-02-20  14.650000  15.00  14.310000  14.500000  11.815761  2002300"
      ]
     },
     "execution_count": 74,
     "metadata": {},
     "output_type": "execute_result"
    }
   ],
   "source": [
    "stocks[bday_stocks] #AMC stocks that fall on my birthday "
   ]
  },
  {
   "cell_type": "code",
   "execution_count": 75,
   "metadata": {},
   "outputs": [],
   "source": [
    "someday=stocks.index[500] #datetime index is bundle of timestamp object-> each timestamp object represents a date time ( a given momemnt in time) "
   ]
  },
  {
   "cell_type": "code",
   "execution_count": 76,
   "metadata": {},
   "outputs": [
    {
     "data": {
      "text/plain": [
       "Timestamp('2016-12-27 00:00:00')"
      ]
     },
     "execution_count": 76,
     "metadata": {},
     "output_type": "execute_result"
    }
   ],
   "source": [
    "someday "
   ]
  },
  {
   "cell_type": "code",
   "execution_count": 77,
   "metadata": {},
   "outputs": [
    {
     "data": {
      "text/plain": [
       "27"
      ]
     },
     "execution_count": 77,
     "metadata": {},
     "output_type": "execute_result"
    }
   ],
   "source": [
    "#some available methods to use to get information on this timestamp object\n",
    "someday.month\n",
    "someday.year  #can invoke any of these on a datetime index\n",
    "someday.is_month_start\n",
    "someday.is_month_end\n",
    "someday.is_quarter_end\n",
    "someday.is_quarter_start\n",
    "someday.day"
   ]
  },
  {
   "cell_type": "code",
   "execution_count": 78,
   "metadata": {},
   "outputs": [
    {
     "data": {
      "text/plain": [
       "'December'"
      ]
     },
     "execution_count": 78,
     "metadata": {},
     "output_type": "execute_result"
    }
   ],
   "source": [
    "someday.month_name()"
   ]
  },
  {
   "cell_type": "code",
   "execution_count": 79,
   "metadata": {},
   "outputs": [
    {
     "data": {
      "text/plain": [
       "Index(['Friday', 'Monday', 'Tuesday', 'Wednesday', 'Thursday', 'Friday',\n",
       "       'Monday', 'Tuesday', 'Wednesday', 'Thursday',\n",
       "       ...\n",
       "       'Monday', 'Tuesday', 'Wednesday', 'Thursday', 'Friday', 'Monday',\n",
       "       'Wednesday', 'Thursday', 'Friday', 'Monday'],\n",
       "      dtype='object', name='Date', length=1006)"
      ]
     },
     "execution_count": 79,
     "metadata": {},
     "output_type": "execute_result"
    }
   ],
   "source": [
    "stocks.index.day_name()"
   ]
  },
  {
   "cell_type": "code",
   "execution_count": 80,
   "metadata": {},
   "outputs": [],
   "source": [
    "stocks.insert(0, \"Day of Week\", stocks.index.day_name()) #add day of week column at index 0 "
   ]
  },
  {
   "cell_type": "code",
   "execution_count": 81,
   "metadata": {},
   "outputs": [
    {
     "data": {
      "text/html": [
       "<div>\n",
       "<style scoped>\n",
       "    .dataframe tbody tr th:only-of-type {\n",
       "        vertical-align: middle;\n",
       "    }\n",
       "\n",
       "    .dataframe tbody tr th {\n",
       "        vertical-align: top;\n",
       "    }\n",
       "\n",
       "    .dataframe thead th {\n",
       "        text-align: right;\n",
       "    }\n",
       "</style>\n",
       "<table border=\"1\" class=\"dataframe\">\n",
       "  <thead>\n",
       "    <tr style=\"text-align: right;\">\n",
       "      <th></th>\n",
       "      <th>Day of Week</th>\n",
       "      <th>Open</th>\n",
       "      <th>High</th>\n",
       "      <th>Low</th>\n",
       "      <th>Close</th>\n",
       "      <th>Adj Close</th>\n",
       "      <th>Volume</th>\n",
       "    </tr>\n",
       "    <tr>\n",
       "      <th>Date</th>\n",
       "      <th></th>\n",
       "      <th></th>\n",
       "      <th></th>\n",
       "      <th></th>\n",
       "      <th></th>\n",
       "      <th></th>\n",
       "      <th></th>\n",
       "    </tr>\n",
       "  </thead>\n",
       "  <tbody>\n",
       "    <tr>\n",
       "      <th>2015-01-02</th>\n",
       "      <td>Friday</td>\n",
       "      <td>26.260000</td>\n",
       "      <td>26.299999</td>\n",
       "      <td>24.930000</td>\n",
       "      <td>25.629999</td>\n",
       "      <td>18.900267</td>\n",
       "      <td>420900</td>\n",
       "    </tr>\n",
       "    <tr>\n",
       "      <th>2015-01-05</th>\n",
       "      <td>Monday</td>\n",
       "      <td>25.490000</td>\n",
       "      <td>25.559999</td>\n",
       "      <td>24.930000</td>\n",
       "      <td>24.969999</td>\n",
       "      <td>18.413568</td>\n",
       "      <td>246500</td>\n",
       "    </tr>\n",
       "    <tr>\n",
       "      <th>2015-01-06</th>\n",
       "      <td>Tuesday</td>\n",
       "      <td>24.990000</td>\n",
       "      <td>25.600000</td>\n",
       "      <td>24.270000</td>\n",
       "      <td>25.170000</td>\n",
       "      <td>18.561052</td>\n",
       "      <td>271500</td>\n",
       "    </tr>\n",
       "    <tr>\n",
       "      <th>2015-01-07</th>\n",
       "      <td>Wednesday</td>\n",
       "      <td>25.309999</td>\n",
       "      <td>25.670000</td>\n",
       "      <td>25.010000</td>\n",
       "      <td>25.580000</td>\n",
       "      <td>18.863400</td>\n",
       "      <td>175400</td>\n",
       "    </tr>\n",
       "    <tr>\n",
       "      <th>2015-01-08</th>\n",
       "      <td>Thursday</td>\n",
       "      <td>25.760000</td>\n",
       "      <td>26.120001</td>\n",
       "      <td>25.309999</td>\n",
       "      <td>25.830000</td>\n",
       "      <td>19.047752</td>\n",
       "      <td>192800</td>\n",
       "    </tr>\n",
       "    <tr>\n",
       "      <th>...</th>\n",
       "      <td>...</td>\n",
       "      <td>...</td>\n",
       "      <td>...</td>\n",
       "      <td>...</td>\n",
       "      <td>...</td>\n",
       "      <td>...</td>\n",
       "      <td>...</td>\n",
       "    </tr>\n",
       "    <tr>\n",
       "      <th>2018-12-24</th>\n",
       "      <td>Monday</td>\n",
       "      <td>12.280000</td>\n",
       "      <td>12.540000</td>\n",
       "      <td>12.060000</td>\n",
       "      <td>12.260000</td>\n",
       "      <td>11.332010</td>\n",
       "      <td>861400</td>\n",
       "    </tr>\n",
       "    <tr>\n",
       "      <th>2018-12-26</th>\n",
       "      <td>Wednesday</td>\n",
       "      <td>12.350000</td>\n",
       "      <td>12.760000</td>\n",
       "      <td>11.940000</td>\n",
       "      <td>12.680000</td>\n",
       "      <td>11.720221</td>\n",
       "      <td>1574100</td>\n",
       "    </tr>\n",
       "    <tr>\n",
       "      <th>2018-12-27</th>\n",
       "      <td>Thursday</td>\n",
       "      <td>12.430000</td>\n",
       "      <td>12.500000</td>\n",
       "      <td>11.660000</td>\n",
       "      <td>12.200000</td>\n",
       "      <td>11.276552</td>\n",
       "      <td>1777700</td>\n",
       "    </tr>\n",
       "    <tr>\n",
       "      <th>2018-12-28</th>\n",
       "      <td>Friday</td>\n",
       "      <td>12.250000</td>\n",
       "      <td>12.650000</td>\n",
       "      <td>12.020000</td>\n",
       "      <td>12.420000</td>\n",
       "      <td>11.479900</td>\n",
       "      <td>1668100</td>\n",
       "    </tr>\n",
       "    <tr>\n",
       "      <th>2018-12-31</th>\n",
       "      <td>Monday</td>\n",
       "      <td>12.500000</td>\n",
       "      <td>12.720000</td>\n",
       "      <td>11.910000</td>\n",
       "      <td>12.280000</td>\n",
       "      <td>11.350496</td>\n",
       "      <td>1246800</td>\n",
       "    </tr>\n",
       "  </tbody>\n",
       "</table>\n",
       "<p>1006 rows × 7 columns</p>\n",
       "</div>"
      ],
      "text/plain": [
       "           Day of Week       Open       High        Low      Close  Adj Close  \\\n",
       "Date                                                                            \n",
       "2015-01-02      Friday  26.260000  26.299999  24.930000  25.629999  18.900267   \n",
       "2015-01-05      Monday  25.490000  25.559999  24.930000  24.969999  18.413568   \n",
       "2015-01-06     Tuesday  24.990000  25.600000  24.270000  25.170000  18.561052   \n",
       "2015-01-07   Wednesday  25.309999  25.670000  25.010000  25.580000  18.863400   \n",
       "2015-01-08    Thursday  25.760000  26.120001  25.309999  25.830000  19.047752   \n",
       "...                ...        ...        ...        ...        ...        ...   \n",
       "2018-12-24      Monday  12.280000  12.540000  12.060000  12.260000  11.332010   \n",
       "2018-12-26   Wednesday  12.350000  12.760000  11.940000  12.680000  11.720221   \n",
       "2018-12-27    Thursday  12.430000  12.500000  11.660000  12.200000  11.276552   \n",
       "2018-12-28      Friday  12.250000  12.650000  12.020000  12.420000  11.479900   \n",
       "2018-12-31      Monday  12.500000  12.720000  11.910000  12.280000  11.350496   \n",
       "\n",
       "             Volume  \n",
       "Date                 \n",
       "2015-01-02   420900  \n",
       "2015-01-05   246500  \n",
       "2015-01-06   271500  \n",
       "2015-01-07   175400  \n",
       "2015-01-08   192800  \n",
       "...             ...  \n",
       "2018-12-24   861400  \n",
       "2018-12-26  1574100  \n",
       "2018-12-27  1777700  \n",
       "2018-12-28  1668100  \n",
       "2018-12-31  1246800  \n",
       "\n",
       "[1006 rows x 7 columns]"
      ]
     },
     "execution_count": 81,
     "metadata": {},
     "output_type": "execute_result"
    }
   ],
   "source": [
    "stocks"
   ]
  },
  {
   "cell_type": "code",
   "execution_count": 82,
   "metadata": {},
   "outputs": [
    {
     "data": {
      "text/plain": [
       "Index(['Friday', 'Monday', 'Tuesday', 'Wednesday', 'Thursday', 'Friday',\n",
       "       'Monday', 'Tuesday', 'Wednesday', 'Thursday',\n",
       "       ...\n",
       "       'Monday', 'Tuesday', 'Wednesday', 'Thursday', 'Friday', 'Monday',\n",
       "       'Wednesday', 'Thursday', 'Friday', 'Monday'],\n",
       "      dtype='object', name='Date', length=1006)"
      ]
     },
     "execution_count": 82,
     "metadata": {},
     "output_type": "execute_result"
    }
   ],
   "source": [
    "stocks.index.day_name()"
   ]
  },
  {
   "cell_type": "code",
   "execution_count": null,
   "metadata": {},
   "outputs": [],
   "source": []
  }
 ],
 "metadata": {
  "kernelspec": {
   "display_name": "Python 3",
   "language": "python",
   "name": "python3"
  },
  "language_info": {
   "codemirror_mode": {
    "name": "ipython",
    "version": 3
   },
   "file_extension": ".py",
   "mimetype": "text/x-python",
   "name": "python",
   "nbconvert_exporter": "python",
   "pygments_lexer": "ipython3",
   "version": "3.8.3"
  }
 },
 "nbformat": 4,
 "nbformat_minor": 4
}
