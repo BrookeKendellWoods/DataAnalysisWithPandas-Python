{
 "cells": [
  {
   "cell_type": "code",
   "execution_count": 4,
   "metadata": {},
   "outputs": [],
   "source": [
    "import pandas as pd \n",
    "import os\n",
    "import numpy as np\n",
    "import matplotlib as plt"
   ]
  },
  {
   "cell_type": "code",
   "execution_count": 5,
   "metadata": {},
   "outputs": [
    {
     "data": {
      "text/plain": [
       "'C:\\\\Users\\\\18174'"
      ]
     },
     "execution_count": 5,
     "metadata": {},
     "output_type": "execute_result"
    }
   ],
   "source": [
    "os.getcwd()"
   ]
  },
  {
   "cell_type": "code",
   "execution_count": 6,
   "metadata": {},
   "outputs": [],
   "source": [
    "os.chdir(\"C:\\\\Users\\\\18174\\\\OneDrive - UNT System\\\\Documents\")"
   ]
  },
  {
   "cell_type": "code",
   "execution_count": 7,
   "metadata": {},
   "outputs": [
    {
     "data": {
      "text/html": [
       "<div>\n",
       "<style scoped>\n",
       "    .dataframe tbody tr th:only-of-type {\n",
       "        vertical-align: middle;\n",
       "    }\n",
       "\n",
       "    .dataframe tbody tr th {\n",
       "        vertical-align: top;\n",
       "    }\n",
       "\n",
       "    .dataframe thead th {\n",
       "        text-align: right;\n",
       "    }\n",
       "</style>\n",
       "<table border=\"1\" class=\"dataframe\">\n",
       "  <thead>\n",
       "    <tr style=\"text-align: right;\">\n",
       "      <th></th>\n",
       "      <th></th>\n",
       "      <th>iso_a3</th>\n",
       "      <th>currency_code</th>\n",
       "      <th>local_price</th>\n",
       "      <th>dollar_ex</th>\n",
       "      <th>GDP_dollar</th>\n",
       "    </tr>\n",
       "    <tr>\n",
       "      <th>date</th>\n",
       "      <th>name</th>\n",
       "      <th></th>\n",
       "      <th></th>\n",
       "      <th></th>\n",
       "      <th></th>\n",
       "      <th></th>\n",
       "    </tr>\n",
       "  </thead>\n",
       "  <tbody>\n",
       "    <tr>\n",
       "      <th rowspan=\"5\" valign=\"top\">2000-04-01</th>\n",
       "      <th>Argentina</th>\n",
       "      <td>ARG</td>\n",
       "      <td>ARS</td>\n",
       "      <td>2.50</td>\n",
       "      <td>1.000000</td>\n",
       "      <td>NaN</td>\n",
       "    </tr>\n",
       "    <tr>\n",
       "      <th>Australia</th>\n",
       "      <td>AUS</td>\n",
       "      <td>AUD</td>\n",
       "      <td>2.59</td>\n",
       "      <td>1.680000</td>\n",
       "      <td>NaN</td>\n",
       "    </tr>\n",
       "    <tr>\n",
       "      <th>Brazil</th>\n",
       "      <td>BRA</td>\n",
       "      <td>BRL</td>\n",
       "      <td>2.95</td>\n",
       "      <td>1.790000</td>\n",
       "      <td>NaN</td>\n",
       "    </tr>\n",
       "    <tr>\n",
       "      <th>Britain</th>\n",
       "      <td>GBR</td>\n",
       "      <td>GBP</td>\n",
       "      <td>1.90</td>\n",
       "      <td>0.632911</td>\n",
       "      <td>NaN</td>\n",
       "    </tr>\n",
       "    <tr>\n",
       "      <th>Canada</th>\n",
       "      <td>CAN</td>\n",
       "      <td>CAD</td>\n",
       "      <td>2.85</td>\n",
       "      <td>1.470000</td>\n",
       "      <td>NaN</td>\n",
       "    </tr>\n",
       "  </tbody>\n",
       "</table>\n",
       "</div>"
      ],
      "text/plain": [
       "                     iso_a3 currency_code  local_price  dollar_ex  GDP_dollar\n",
       "date       name                                                              \n",
       "2000-04-01 Argentina    ARG           ARS         2.50   1.000000         NaN\n",
       "           Australia    AUS           AUD         2.59   1.680000         NaN\n",
       "           Brazil       BRA           BRL         2.95   1.790000         NaN\n",
       "           Britain      GBR           GBP         1.90   0.632911         NaN\n",
       "           Canada       CAN           CAD         2.85   1.470000         NaN"
      ]
     },
     "execution_count": 7,
     "metadata": {},
     "output_type": "execute_result"
    }
   ],
   "source": [
    "bigmac=pd.read_csv(\"bigmac.csv\",parse_dates=[\"date\"],index_col=[\"date\",\"name\"])\n",
    "bigmac.sort_index(inplace=True)\n",
    "bigmac.head(5)"
   ]
  },
  {
   "cell_type": "code",
   "execution_count": 8,
   "metadata": {},
   "outputs": [
    {
     "data": {
      "text/html": [
       "<div>\n",
       "<style scoped>\n",
       "    .dataframe tbody tr th:only-of-type {\n",
       "        vertical-align: middle;\n",
       "    }\n",
       "\n",
       "    .dataframe tbody tr th {\n",
       "        vertical-align: top;\n",
       "    }\n",
       "\n",
       "    .dataframe thead th {\n",
       "        text-align: right;\n",
       "    }\n",
       "</style>\n",
       "<table border=\"1\" class=\"dataframe\">\n",
       "  <thead>\n",
       "    <tr style=\"text-align: right;\">\n",
       "      <th></th>\n",
       "      <th></th>\n",
       "      <th>iso_a3</th>\n",
       "      <th>currency_code</th>\n",
       "      <th>local_price</th>\n",
       "      <th>dollar_ex</th>\n",
       "      <th>GDP_dollar</th>\n",
       "    </tr>\n",
       "    <tr>\n",
       "      <th>date</th>\n",
       "      <th>name</th>\n",
       "      <th></th>\n",
       "      <th></th>\n",
       "      <th></th>\n",
       "      <th></th>\n",
       "      <th></th>\n",
       "    </tr>\n",
       "  </thead>\n",
       "  <tbody>\n",
       "    <tr>\n",
       "      <th rowspan=\"5\" valign=\"top\">2000-04-01</th>\n",
       "      <th>Argentina</th>\n",
       "      <td>ARG</td>\n",
       "      <td>ARS</td>\n",
       "      <td>2.50</td>\n",
       "      <td>1.000000</td>\n",
       "      <td>NaN</td>\n",
       "    </tr>\n",
       "    <tr>\n",
       "      <th>Australia</th>\n",
       "      <td>AUS</td>\n",
       "      <td>AUD</td>\n",
       "      <td>2.59</td>\n",
       "      <td>1.680000</td>\n",
       "      <td>NaN</td>\n",
       "    </tr>\n",
       "    <tr>\n",
       "      <th>Brazil</th>\n",
       "      <td>BRA</td>\n",
       "      <td>BRL</td>\n",
       "      <td>2.95</td>\n",
       "      <td>1.790000</td>\n",
       "      <td>NaN</td>\n",
       "    </tr>\n",
       "    <tr>\n",
       "      <th>Britain</th>\n",
       "      <td>GBR</td>\n",
       "      <td>GBP</td>\n",
       "      <td>1.90</td>\n",
       "      <td>0.632911</td>\n",
       "      <td>NaN</td>\n",
       "    </tr>\n",
       "    <tr>\n",
       "      <th>Canada</th>\n",
       "      <td>CAN</td>\n",
       "      <td>CAD</td>\n",
       "      <td>2.85</td>\n",
       "      <td>1.470000</td>\n",
       "      <td>NaN</td>\n",
       "    </tr>\n",
       "    <tr>\n",
       "      <th>...</th>\n",
       "      <th>...</th>\n",
       "      <td>...</td>\n",
       "      <td>...</td>\n",
       "      <td>...</td>\n",
       "      <td>...</td>\n",
       "      <td>...</td>\n",
       "    </tr>\n",
       "    <tr>\n",
       "      <th rowspan=\"5\" valign=\"top\">2019-07-09</th>\n",
       "      <th>Ukraine</th>\n",
       "      <td>UKR</td>\n",
       "      <td>UAH</td>\n",
       "      <td>57.00</td>\n",
       "      <td>25.647500</td>\n",
       "      <td>2655.94</td>\n",
       "    </tr>\n",
       "    <tr>\n",
       "      <th>United Arab Emirates</th>\n",
       "      <td>ARE</td>\n",
       "      <td>AED</td>\n",
       "      <td>14.75</td>\n",
       "      <td>3.673150</td>\n",
       "      <td>37732.66</td>\n",
       "    </tr>\n",
       "    <tr>\n",
       "      <th>United States</th>\n",
       "      <td>USA</td>\n",
       "      <td>USD</td>\n",
       "      <td>5.74</td>\n",
       "      <td>1.000000</td>\n",
       "      <td>59895.00</td>\n",
       "    </tr>\n",
       "    <tr>\n",
       "      <th>Uruguay</th>\n",
       "      <td>URY</td>\n",
       "      <td>UYU</td>\n",
       "      <td>164.00</td>\n",
       "      <td>35.169500</td>\n",
       "      <td>16941.56</td>\n",
       "    </tr>\n",
       "    <tr>\n",
       "      <th>Vietnam</th>\n",
       "      <td>VNM</td>\n",
       "      <td>VND</td>\n",
       "      <td>65000.00</td>\n",
       "      <td>23231.000000</td>\n",
       "      <td>2353.36</td>\n",
       "    </tr>\n",
       "  </tbody>\n",
       "</table>\n",
       "<p>1514 rows × 5 columns</p>\n",
       "</div>"
      ],
      "text/plain": [
       "                                iso_a3 currency_code  local_price  \\\n",
       "date       name                                                     \n",
       "2000-04-01 Argentina               ARG           ARS         2.50   \n",
       "           Australia               AUS           AUD         2.59   \n",
       "           Brazil                  BRA           BRL         2.95   \n",
       "           Britain                 GBR           GBP         1.90   \n",
       "           Canada                  CAN           CAD         2.85   \n",
       "...                                ...           ...          ...   \n",
       "2019-07-09 Ukraine                 UKR           UAH        57.00   \n",
       "           United Arab Emirates    ARE           AED        14.75   \n",
       "           United States           USA           USD         5.74   \n",
       "           Uruguay                 URY           UYU       164.00   \n",
       "           Vietnam                 VNM           VND     65000.00   \n",
       "\n",
       "                                    dollar_ex  GDP_dollar  \n",
       "date       name                                            \n",
       "2000-04-01 Argentina                 1.000000         NaN  \n",
       "           Australia                 1.680000         NaN  \n",
       "           Brazil                    1.790000         NaN  \n",
       "           Britain                   0.632911         NaN  \n",
       "           Canada                    1.470000         NaN  \n",
       "...                                       ...         ...  \n",
       "2019-07-09 Ukraine                  25.647500     2655.94  \n",
       "           United Arab Emirates      3.673150    37732.66  \n",
       "           United States             1.000000    59895.00  \n",
       "           Uruguay                  35.169500    16941.56  \n",
       "           Vietnam               23231.000000     2353.36  \n",
       "\n",
       "[1514 rows x 5 columns]"
      ]
     },
     "execution_count": 8,
     "metadata": {},
     "output_type": "execute_result"
    }
   ],
   "source": [
    "bigmac.sort_index(ascending=True)"
   ]
  },
  {
   "cell_type": "code",
   "execution_count": 9,
   "metadata": {},
   "outputs": [
    {
     "data": {
      "text/html": [
       "<div>\n",
       "<style scoped>\n",
       "    .dataframe tbody tr th:only-of-type {\n",
       "        vertical-align: middle;\n",
       "    }\n",
       "\n",
       "    .dataframe tbody tr th {\n",
       "        vertical-align: top;\n",
       "    }\n",
       "\n",
       "    .dataframe thead th {\n",
       "        text-align: right;\n",
       "    }\n",
       "</style>\n",
       "<table border=\"1\" class=\"dataframe\">\n",
       "  <thead>\n",
       "    <tr style=\"text-align: right;\">\n",
       "      <th></th>\n",
       "      <th></th>\n",
       "      <th>iso_a3</th>\n",
       "      <th>currency_code</th>\n",
       "      <th>local_price</th>\n",
       "      <th>dollar_ex</th>\n",
       "      <th>GDP_dollar</th>\n",
       "    </tr>\n",
       "    <tr>\n",
       "      <th>date</th>\n",
       "      <th>name</th>\n",
       "      <th></th>\n",
       "      <th></th>\n",
       "      <th></th>\n",
       "      <th></th>\n",
       "      <th></th>\n",
       "    </tr>\n",
       "  </thead>\n",
       "  <tbody>\n",
       "    <tr>\n",
       "      <th rowspan=\"5\" valign=\"top\">2019-07-09</th>\n",
       "      <th>Vietnam</th>\n",
       "      <td>VNM</td>\n",
       "      <td>VND</td>\n",
       "      <td>65000.00</td>\n",
       "      <td>23231.000000</td>\n",
       "      <td>2353.36</td>\n",
       "    </tr>\n",
       "    <tr>\n",
       "      <th>Uruguay</th>\n",
       "      <td>URY</td>\n",
       "      <td>UYU</td>\n",
       "      <td>164.00</td>\n",
       "      <td>35.169500</td>\n",
       "      <td>16941.56</td>\n",
       "    </tr>\n",
       "    <tr>\n",
       "      <th>United States</th>\n",
       "      <td>USA</td>\n",
       "      <td>USD</td>\n",
       "      <td>5.74</td>\n",
       "      <td>1.000000</td>\n",
       "      <td>59895.00</td>\n",
       "    </tr>\n",
       "    <tr>\n",
       "      <th>United Arab Emirates</th>\n",
       "      <td>ARE</td>\n",
       "      <td>AED</td>\n",
       "      <td>14.75</td>\n",
       "      <td>3.673150</td>\n",
       "      <td>37732.66</td>\n",
       "    </tr>\n",
       "    <tr>\n",
       "      <th>Ukraine</th>\n",
       "      <td>UKR</td>\n",
       "      <td>UAH</td>\n",
       "      <td>57.00</td>\n",
       "      <td>25.647500</td>\n",
       "      <td>2655.94</td>\n",
       "    </tr>\n",
       "    <tr>\n",
       "      <th>...</th>\n",
       "      <th>...</th>\n",
       "      <td>...</td>\n",
       "      <td>...</td>\n",
       "      <td>...</td>\n",
       "      <td>...</td>\n",
       "      <td>...</td>\n",
       "    </tr>\n",
       "    <tr>\n",
       "      <th rowspan=\"5\" valign=\"top\">2000-04-01</th>\n",
       "      <th>Canada</th>\n",
       "      <td>CAN</td>\n",
       "      <td>CAD</td>\n",
       "      <td>2.85</td>\n",
       "      <td>1.470000</td>\n",
       "      <td>NaN</td>\n",
       "    </tr>\n",
       "    <tr>\n",
       "      <th>Britain</th>\n",
       "      <td>GBR</td>\n",
       "      <td>GBP</td>\n",
       "      <td>1.90</td>\n",
       "      <td>0.632911</td>\n",
       "      <td>NaN</td>\n",
       "    </tr>\n",
       "    <tr>\n",
       "      <th>Brazil</th>\n",
       "      <td>BRA</td>\n",
       "      <td>BRL</td>\n",
       "      <td>2.95</td>\n",
       "      <td>1.790000</td>\n",
       "      <td>NaN</td>\n",
       "    </tr>\n",
       "    <tr>\n",
       "      <th>Australia</th>\n",
       "      <td>AUS</td>\n",
       "      <td>AUD</td>\n",
       "      <td>2.59</td>\n",
       "      <td>1.680000</td>\n",
       "      <td>NaN</td>\n",
       "    </tr>\n",
       "    <tr>\n",
       "      <th>Argentina</th>\n",
       "      <td>ARG</td>\n",
       "      <td>ARS</td>\n",
       "      <td>2.50</td>\n",
       "      <td>1.000000</td>\n",
       "      <td>NaN</td>\n",
       "    </tr>\n",
       "  </tbody>\n",
       "</table>\n",
       "<p>1514 rows × 5 columns</p>\n",
       "</div>"
      ],
      "text/plain": [
       "                                iso_a3 currency_code  local_price  \\\n",
       "date       name                                                     \n",
       "2019-07-09 Vietnam                 VNM           VND     65000.00   \n",
       "           Uruguay                 URY           UYU       164.00   \n",
       "           United States           USA           USD         5.74   \n",
       "           United Arab Emirates    ARE           AED        14.75   \n",
       "           Ukraine                 UKR           UAH        57.00   \n",
       "...                                ...           ...          ...   \n",
       "2000-04-01 Canada                  CAN           CAD         2.85   \n",
       "           Britain                 GBR           GBP         1.90   \n",
       "           Brazil                  BRA           BRL         2.95   \n",
       "           Australia               AUS           AUD         2.59   \n",
       "           Argentina               ARG           ARS         2.50   \n",
       "\n",
       "                                    dollar_ex  GDP_dollar  \n",
       "date       name                                            \n",
       "2019-07-09 Vietnam               23231.000000     2353.36  \n",
       "           Uruguay                  35.169500    16941.56  \n",
       "           United States             1.000000    59895.00  \n",
       "           United Arab Emirates      3.673150    37732.66  \n",
       "           Ukraine                  25.647500     2655.94  \n",
       "...                                       ...         ...  \n",
       "2000-04-01 Canada                    1.470000         NaN  \n",
       "           Britain                   0.632911         NaN  \n",
       "           Brazil                    1.790000         NaN  \n",
       "           Australia                 1.680000         NaN  \n",
       "           Argentina                 1.000000         NaN  \n",
       "\n",
       "[1514 rows x 5 columns]"
      ]
     },
     "execution_count": 9,
     "metadata": {},
     "output_type": "execute_result"
    }
   ],
   "source": [
    "bigmac.sort_index(ascending=False)"
   ]
  },
  {
   "cell_type": "code",
   "execution_count": 10,
   "metadata": {},
   "outputs": [],
   "source": [
    "bigmac.sort_index(ascending=[False,True],inplace=True)"
   ]
  },
  {
   "cell_type": "code",
   "execution_count": 11,
   "metadata": {},
   "outputs": [
    {
     "data": {
      "text/html": [
       "<div>\n",
       "<style scoped>\n",
       "    .dataframe tbody tr th:only-of-type {\n",
       "        vertical-align: middle;\n",
       "    }\n",
       "\n",
       "    .dataframe tbody tr th {\n",
       "        vertical-align: top;\n",
       "    }\n",
       "\n",
       "    .dataframe thead th {\n",
       "        text-align: right;\n",
       "    }\n",
       "</style>\n",
       "<table border=\"1\" class=\"dataframe\">\n",
       "  <thead>\n",
       "    <tr style=\"text-align: right;\">\n",
       "      <th></th>\n",
       "      <th></th>\n",
       "      <th>iso_a3</th>\n",
       "      <th>currency_code</th>\n",
       "      <th>local_price</th>\n",
       "      <th>dollar_ex</th>\n",
       "      <th>GDP_dollar</th>\n",
       "    </tr>\n",
       "    <tr>\n",
       "      <th>date</th>\n",
       "      <th>name</th>\n",
       "      <th></th>\n",
       "      <th></th>\n",
       "      <th></th>\n",
       "      <th></th>\n",
       "      <th></th>\n",
       "    </tr>\n",
       "  </thead>\n",
       "  <tbody>\n",
       "    <tr>\n",
       "      <th rowspan=\"5\" valign=\"top\">2000-04-01</th>\n",
       "      <th>Argentina</th>\n",
       "      <td>ARG</td>\n",
       "      <td>ARS</td>\n",
       "      <td>2.50</td>\n",
       "      <td>1.000000</td>\n",
       "      <td>NaN</td>\n",
       "    </tr>\n",
       "    <tr>\n",
       "      <th>Australia</th>\n",
       "      <td>AUS</td>\n",
       "      <td>AUD</td>\n",
       "      <td>2.59</td>\n",
       "      <td>1.680000</td>\n",
       "      <td>NaN</td>\n",
       "    </tr>\n",
       "    <tr>\n",
       "      <th>Brazil</th>\n",
       "      <td>BRA</td>\n",
       "      <td>BRL</td>\n",
       "      <td>2.95</td>\n",
       "      <td>1.790000</td>\n",
       "      <td>NaN</td>\n",
       "    </tr>\n",
       "    <tr>\n",
       "      <th>Britain</th>\n",
       "      <td>GBR</td>\n",
       "      <td>GBP</td>\n",
       "      <td>1.90</td>\n",
       "      <td>0.632911</td>\n",
       "      <td>NaN</td>\n",
       "    </tr>\n",
       "    <tr>\n",
       "      <th>Canada</th>\n",
       "      <td>CAN</td>\n",
       "      <td>CAD</td>\n",
       "      <td>2.85</td>\n",
       "      <td>1.470000</td>\n",
       "      <td>NaN</td>\n",
       "    </tr>\n",
       "    <tr>\n",
       "      <th>...</th>\n",
       "      <th>...</th>\n",
       "      <td>...</td>\n",
       "      <td>...</td>\n",
       "      <td>...</td>\n",
       "      <td>...</td>\n",
       "      <td>...</td>\n",
       "    </tr>\n",
       "    <tr>\n",
       "      <th rowspan=\"5\" valign=\"top\">2019-07-09</th>\n",
       "      <th>Ukraine</th>\n",
       "      <td>UKR</td>\n",
       "      <td>UAH</td>\n",
       "      <td>57.00</td>\n",
       "      <td>25.647500</td>\n",
       "      <td>2655.94</td>\n",
       "    </tr>\n",
       "    <tr>\n",
       "      <th>United Arab Emirates</th>\n",
       "      <td>ARE</td>\n",
       "      <td>AED</td>\n",
       "      <td>14.75</td>\n",
       "      <td>3.673150</td>\n",
       "      <td>37732.66</td>\n",
       "    </tr>\n",
       "    <tr>\n",
       "      <th>United States</th>\n",
       "      <td>USA</td>\n",
       "      <td>USD</td>\n",
       "      <td>5.74</td>\n",
       "      <td>1.000000</td>\n",
       "      <td>59895.00</td>\n",
       "    </tr>\n",
       "    <tr>\n",
       "      <th>Uruguay</th>\n",
       "      <td>URY</td>\n",
       "      <td>UYU</td>\n",
       "      <td>164.00</td>\n",
       "      <td>35.169500</td>\n",
       "      <td>16941.56</td>\n",
       "    </tr>\n",
       "    <tr>\n",
       "      <th>Vietnam</th>\n",
       "      <td>VNM</td>\n",
       "      <td>VND</td>\n",
       "      <td>65000.00</td>\n",
       "      <td>23231.000000</td>\n",
       "      <td>2353.36</td>\n",
       "    </tr>\n",
       "  </tbody>\n",
       "</table>\n",
       "<p>1514 rows × 5 columns</p>\n",
       "</div>"
      ],
      "text/plain": [
       "                                iso_a3 currency_code  local_price  \\\n",
       "date       name                                                     \n",
       "2000-04-01 Argentina               ARG           ARS         2.50   \n",
       "           Australia               AUS           AUD         2.59   \n",
       "           Brazil                  BRA           BRL         2.95   \n",
       "           Britain                 GBR           GBP         1.90   \n",
       "           Canada                  CAN           CAD         2.85   \n",
       "...                                ...           ...          ...   \n",
       "2019-07-09 Ukraine                 UKR           UAH        57.00   \n",
       "           United Arab Emirates    ARE           AED        14.75   \n",
       "           United States           USA           USD         5.74   \n",
       "           Uruguay                 URY           UYU       164.00   \n",
       "           Vietnam                 VNM           VND     65000.00   \n",
       "\n",
       "                                    dollar_ex  GDP_dollar  \n",
       "date       name                                            \n",
       "2000-04-01 Argentina                 1.000000         NaN  \n",
       "           Australia                 1.680000         NaN  \n",
       "           Brazil                    1.790000         NaN  \n",
       "           Britain                   0.632911         NaN  \n",
       "           Canada                    1.470000         NaN  \n",
       "...                                       ...         ...  \n",
       "2019-07-09 Ukraine                  25.647500     2655.94  \n",
       "           United Arab Emirates      3.673150    37732.66  \n",
       "           United States             1.000000    59895.00  \n",
       "           Uruguay                  35.169500    16941.56  \n",
       "           Vietnam               23231.000000     2353.36  \n",
       "\n",
       "[1514 rows x 5 columns]"
      ]
     },
     "execution_count": 11,
     "metadata": {},
     "output_type": "execute_result"
    }
   ],
   "source": [
    "bigmac.sort_index(level=0,ascending=True)"
   ]
  },
  {
   "cell_type": "code",
   "execution_count": 12,
   "metadata": {
    "scrolled": true
   },
   "outputs": [
    {
     "data": {
      "text/html": [
       "<div>\n",
       "<style scoped>\n",
       "    .dataframe tbody tr th:only-of-type {\n",
       "        vertical-align: middle;\n",
       "    }\n",
       "\n",
       "    .dataframe tbody tr th {\n",
       "        vertical-align: top;\n",
       "    }\n",
       "\n",
       "    .dataframe thead th {\n",
       "        text-align: right;\n",
       "    }\n",
       "</style>\n",
       "<table border=\"1\" class=\"dataframe\">\n",
       "  <thead>\n",
       "    <tr style=\"text-align: right;\">\n",
       "      <th></th>\n",
       "      <th></th>\n",
       "      <th>iso_a3</th>\n",
       "      <th>currency_code</th>\n",
       "      <th>local_price</th>\n",
       "      <th>dollar_ex</th>\n",
       "      <th>GDP_dollar</th>\n",
       "    </tr>\n",
       "    <tr>\n",
       "      <th>date</th>\n",
       "      <th>name</th>\n",
       "      <th></th>\n",
       "      <th></th>\n",
       "      <th></th>\n",
       "      <th></th>\n",
       "      <th></th>\n",
       "    </tr>\n",
       "  </thead>\n",
       "  <tbody>\n",
       "    <tr>\n",
       "      <th rowspan=\"5\" valign=\"top\">2019-07-09</th>\n",
       "      <th>Argentina</th>\n",
       "      <td>ARG</td>\n",
       "      <td>ARS</td>\n",
       "      <td>120.00</td>\n",
       "      <td>41.804500</td>\n",
       "      <td>14588.01</td>\n",
       "    </tr>\n",
       "    <tr>\n",
       "      <th>Australia</th>\n",
       "      <td>AUS</td>\n",
       "      <td>AUD</td>\n",
       "      <td>6.15</td>\n",
       "      <td>1.443626</td>\n",
       "      <td>55957.72</td>\n",
       "    </tr>\n",
       "    <tr>\n",
       "      <th>Austria</th>\n",
       "      <td>AUT</td>\n",
       "      <td>EUR</td>\n",
       "      <td>3.81</td>\n",
       "      <td>0.892339</td>\n",
       "      <td>47383.87</td>\n",
       "    </tr>\n",
       "    <tr>\n",
       "      <th>Azerbaijan</th>\n",
       "      <td>AZE</td>\n",
       "      <td>AZN</td>\n",
       "      <td>3.95</td>\n",
       "      <td>1.696500</td>\n",
       "      <td>4200.33</td>\n",
       "    </tr>\n",
       "    <tr>\n",
       "      <th>Bahrain</th>\n",
       "      <td>BHR</td>\n",
       "      <td>BHD</td>\n",
       "      <td>1.40</td>\n",
       "      <td>0.377000</td>\n",
       "      <td>24399.25</td>\n",
       "    </tr>\n",
       "    <tr>\n",
       "      <th>...</th>\n",
       "      <th>...</th>\n",
       "      <td>...</td>\n",
       "      <td>...</td>\n",
       "      <td>...</td>\n",
       "      <td>...</td>\n",
       "      <td>...</td>\n",
       "    </tr>\n",
       "    <tr>\n",
       "      <th rowspan=\"5\" valign=\"top\">2000-04-01</th>\n",
       "      <th>Sweden</th>\n",
       "      <td>SWE</td>\n",
       "      <td>SEK</td>\n",
       "      <td>24.00</td>\n",
       "      <td>8.840000</td>\n",
       "      <td>NaN</td>\n",
       "    </tr>\n",
       "    <tr>\n",
       "      <th>Switzerland</th>\n",
       "      <td>CHE</td>\n",
       "      <td>CHF</td>\n",
       "      <td>5.90</td>\n",
       "      <td>1.700000</td>\n",
       "      <td>NaN</td>\n",
       "    </tr>\n",
       "    <tr>\n",
       "      <th>Taiwan</th>\n",
       "      <td>TWN</td>\n",
       "      <td>TWD</td>\n",
       "      <td>70.00</td>\n",
       "      <td>30.600000</td>\n",
       "      <td>NaN</td>\n",
       "    </tr>\n",
       "    <tr>\n",
       "      <th>Thailand</th>\n",
       "      <td>THA</td>\n",
       "      <td>THB</td>\n",
       "      <td>55.00</td>\n",
       "      <td>38.000000</td>\n",
       "      <td>NaN</td>\n",
       "    </tr>\n",
       "    <tr>\n",
       "      <th>United States</th>\n",
       "      <td>USA</td>\n",
       "      <td>USD</td>\n",
       "      <td>2.51</td>\n",
       "      <td>1.000000</td>\n",
       "      <td>NaN</td>\n",
       "    </tr>\n",
       "  </tbody>\n",
       "</table>\n",
       "<p>1514 rows × 5 columns</p>\n",
       "</div>"
      ],
      "text/plain": [
       "                         iso_a3 currency_code  local_price  dollar_ex  \\\n",
       "date       name                                                         \n",
       "2019-07-09 Argentina        ARG           ARS       120.00  41.804500   \n",
       "           Australia        AUS           AUD         6.15   1.443626   \n",
       "           Austria          AUT           EUR         3.81   0.892339   \n",
       "           Azerbaijan       AZE           AZN         3.95   1.696500   \n",
       "           Bahrain          BHR           BHD         1.40   0.377000   \n",
       "...                         ...           ...          ...        ...   \n",
       "2000-04-01 Sweden           SWE           SEK        24.00   8.840000   \n",
       "           Switzerland      CHE           CHF         5.90   1.700000   \n",
       "           Taiwan           TWN           TWD        70.00  30.600000   \n",
       "           Thailand         THA           THB        55.00  38.000000   \n",
       "           United States    USA           USD         2.51   1.000000   \n",
       "\n",
       "                          GDP_dollar  \n",
       "date       name                       \n",
       "2019-07-09 Argentina        14588.01  \n",
       "           Australia        55957.72  \n",
       "           Austria          47383.87  \n",
       "           Azerbaijan        4200.33  \n",
       "           Bahrain          24399.25  \n",
       "...                              ...  \n",
       "2000-04-01 Sweden                NaN  \n",
       "           Switzerland           NaN  \n",
       "           Taiwan                NaN  \n",
       "           Thailand              NaN  \n",
       "           United States         NaN  \n",
       "\n",
       "[1514 rows x 5 columns]"
      ]
     },
     "execution_count": 12,
     "metadata": {},
     "output_type": "execute_result"
    }
   ],
   "source": [
    "bigmac"
   ]
  },
  {
   "cell_type": "markdown",
   "metadata": {},
   "source": [
    "# #extract rows from a multiseries index"
   ]
  },
  {
   "cell_type": "code",
   "execution_count": 13,
   "metadata": {},
   "outputs": [
    {
     "data": {
      "text/plain": [
       "iso_a3                AUT\n",
       "currency_code         EUR\n",
       "local_price          3.81\n",
       "dollar_ex        0.892339\n",
       "GDP_dollar        47383.9\n",
       "Name: (2019-07-09 00:00:00, Austria), dtype: object"
      ]
     },
     "execution_count": 13,
     "metadata": {},
     "output_type": "execute_result"
    }
   ],
   "source": [
    "bigmac.loc[(\"2019-07-09\",\"Austria\")]"
   ]
  },
  {
   "cell_type": "code",
   "execution_count": 14,
   "metadata": {},
   "outputs": [
    {
     "data": {
      "text/html": [
       "<div>\n",
       "<style scoped>\n",
       "    .dataframe tbody tr th:only-of-type {\n",
       "        vertical-align: middle;\n",
       "    }\n",
       "\n",
       "    .dataframe tbody tr th {\n",
       "        vertical-align: top;\n",
       "    }\n",
       "\n",
       "    .dataframe thead tr th {\n",
       "        text-align: left;\n",
       "    }\n",
       "</style>\n",
       "<table border=\"1\" class=\"dataframe\">\n",
       "  <thead>\n",
       "    <tr>\n",
       "      <th>date</th>\n",
       "      <th colspan=\"10\" halign=\"left\">2019-07-09</th>\n",
       "      <th>...</th>\n",
       "      <th colspan=\"10\" halign=\"left\">2000-04-01</th>\n",
       "    </tr>\n",
       "    <tr>\n",
       "      <th>name</th>\n",
       "      <th>Argentina</th>\n",
       "      <th>Australia</th>\n",
       "      <th>Austria</th>\n",
       "      <th>Azerbaijan</th>\n",
       "      <th>Bahrain</th>\n",
       "      <th>Belgium</th>\n",
       "      <th>Brazil</th>\n",
       "      <th>Britain</th>\n",
       "      <th>Canada</th>\n",
       "      <th>Chile</th>\n",
       "      <th>...</th>\n",
       "      <th>Poland</th>\n",
       "      <th>Russia</th>\n",
       "      <th>Singapore</th>\n",
       "      <th>South Africa</th>\n",
       "      <th>South Korea</th>\n",
       "      <th>Sweden</th>\n",
       "      <th>Switzerland</th>\n",
       "      <th>Taiwan</th>\n",
       "      <th>Thailand</th>\n",
       "      <th>United States</th>\n",
       "    </tr>\n",
       "  </thead>\n",
       "  <tbody>\n",
       "    <tr>\n",
       "      <th>iso_a3</th>\n",
       "      <td>ARG</td>\n",
       "      <td>AUS</td>\n",
       "      <td>AUT</td>\n",
       "      <td>AZE</td>\n",
       "      <td>BHR</td>\n",
       "      <td>BEL</td>\n",
       "      <td>BRA</td>\n",
       "      <td>GBR</td>\n",
       "      <td>CAN</td>\n",
       "      <td>CHL</td>\n",
       "      <td>...</td>\n",
       "      <td>POL</td>\n",
       "      <td>RUS</td>\n",
       "      <td>SGP</td>\n",
       "      <td>ZAF</td>\n",
       "      <td>KOR</td>\n",
       "      <td>SWE</td>\n",
       "      <td>CHE</td>\n",
       "      <td>TWN</td>\n",
       "      <td>THA</td>\n",
       "      <td>USA</td>\n",
       "    </tr>\n",
       "    <tr>\n",
       "      <th>currency_code</th>\n",
       "      <td>ARS</td>\n",
       "      <td>AUD</td>\n",
       "      <td>EUR</td>\n",
       "      <td>AZN</td>\n",
       "      <td>BHD</td>\n",
       "      <td>EUR</td>\n",
       "      <td>BRL</td>\n",
       "      <td>GBP</td>\n",
       "      <td>CAD</td>\n",
       "      <td>CLP</td>\n",
       "      <td>...</td>\n",
       "      <td>PLN</td>\n",
       "      <td>RUB</td>\n",
       "      <td>SGD</td>\n",
       "      <td>ZAR</td>\n",
       "      <td>KRW</td>\n",
       "      <td>SEK</td>\n",
       "      <td>CHF</td>\n",
       "      <td>TWD</td>\n",
       "      <td>THB</td>\n",
       "      <td>USD</td>\n",
       "    </tr>\n",
       "    <tr>\n",
       "      <th>local_price</th>\n",
       "      <td>120</td>\n",
       "      <td>6.15</td>\n",
       "      <td>3.81</td>\n",
       "      <td>3.95</td>\n",
       "      <td>1.4</td>\n",
       "      <td>4.2</td>\n",
       "      <td>17.5</td>\n",
       "      <td>3.29</td>\n",
       "      <td>6.77</td>\n",
       "      <td>2640</td>\n",
       "      <td>...</td>\n",
       "      <td>5.5</td>\n",
       "      <td>39.5</td>\n",
       "      <td>3.2</td>\n",
       "      <td>9</td>\n",
       "      <td>3000</td>\n",
       "      <td>24</td>\n",
       "      <td>5.9</td>\n",
       "      <td>70</td>\n",
       "      <td>55</td>\n",
       "      <td>2.51</td>\n",
       "    </tr>\n",
       "  </tbody>\n",
       "</table>\n",
       "<p>3 rows × 1514 columns</p>\n",
       "</div>"
      ],
      "text/plain": [
       "date          2019-07-09                                                      \\\n",
       "name           Argentina Australia Austria Azerbaijan Bahrain Belgium Brazil   \n",
       "iso_a3               ARG       AUS     AUT        AZE     BHR     BEL    BRA   \n",
       "currency_code        ARS       AUD     EUR        AZN     BHD     EUR    BRL   \n",
       "local_price          120      6.15    3.81       3.95     1.4     4.2   17.5   \n",
       "\n",
       "date                                ... 2000-04-01                   \\\n",
       "name          Britain Canada Chile  ...     Poland Russia Singapore   \n",
       "iso_a3            GBR    CAN   CHL  ...        POL    RUS       SGP   \n",
       "currency_code     GBP    CAD   CLP  ...        PLN    RUB       SGD   \n",
       "local_price      3.29   6.77  2640  ...        5.5   39.5       3.2   \n",
       "\n",
       "date                                                                       \\\n",
       "name          South Africa South Korea Sweden Switzerland Taiwan Thailand   \n",
       "iso_a3                 ZAF         KOR    SWE         CHE    TWN      THA   \n",
       "currency_code          ZAR         KRW    SEK         CHF    TWD      THB   \n",
       "local_price              9        3000     24         5.9     70       55   \n",
       "\n",
       "date                         \n",
       "name          United States  \n",
       "iso_a3                  USA  \n",
       "currency_code           USD  \n",
       "local_price            2.51  \n",
       "\n",
       "[3 rows x 1514 columns]"
      ]
     },
     "execution_count": 14,
     "metadata": {},
     "output_type": "execute_result"
    }
   ],
   "source": [
    "newbigmac=bigmac.transpose()\n",
    "newbigmac.head(3)"
   ]
  },
  {
   "cell_type": "code",
   "execution_count": 15,
   "metadata": {},
   "outputs": [],
   "source": [
    "bigmac.drop(columns=[\"iso_a3\",\"currency_code\",\"dollar_ex\",\"GDP_dollar\"],inplace=True)"
   ]
  },
  {
   "cell_type": "code",
   "execution_count": 16,
   "metadata": {},
   "outputs": [
    {
     "data": {
      "text/plain": [
       "Index(['local_price'], dtype='object')"
      ]
     },
     "execution_count": 16,
     "metadata": {},
     "output_type": "execute_result"
    }
   ],
   "source": [
    "bigmac.loc[('2000-04-01','Sweden')]\n",
    "bigmac.columns"
   ]
  },
  {
   "cell_type": "code",
   "execution_count": 17,
   "metadata": {},
   "outputs": [
    {
     "data": {
      "text/plain": [
       "Index(['local_price'], dtype='object')"
      ]
     },
     "execution_count": 17,
     "metadata": {},
     "output_type": "execute_result"
    }
   ],
   "source": [
    "bigmac=bigmac.transpose()\n",
    "bigmac.columns\n",
    "bigmac.index"
   ]
  },
  {
   "cell_type": "code",
   "execution_count": 402,
   "metadata": {},
   "outputs": [
    {
     "data": {
      "text/plain": [
       "date        name                \n",
       "2019-07-09  Argentina                 120.00\n",
       "            Australia                   6.15\n",
       "            Austria                     3.81\n",
       "            Azerbaijan                  3.95\n",
       "            Bahrain                     1.40\n",
       "                                      ...   \n",
       "            Ukraine                    57.00\n",
       "            United Arab Emirates       14.75\n",
       "            United States               5.74\n",
       "            Uruguay                   164.00\n",
       "            Vietnam                 65000.00\n",
       "Name: local_price, Length: 72, dtype: float64"
      ]
     },
     "execution_count": 402,
     "metadata": {},
     "output_type": "execute_result"
    }
   ],
   "source": [
    "bigmac.loc[('local_price'),['2019-07-09','Argentina']]"
   ]
  },
  {
   "cell_type": "code",
   "execution_count": 18,
   "metadata": {},
   "outputs": [],
   "source": [
    "arrays = [\n",
    "    [\"bar\", \"bar\", \"baz\", \"baz\", \"foo\", \"foo\", \"qux\", \"qux\"],\n",
    "       [\"one\", \"two\", \"one\", \"two\", \"one\", \"two\", \"one\", \"two\"],\n",
    "]\n",
    "  "
   ]
  },
  {
   "cell_type": "code",
   "execution_count": 19,
   "metadata": {},
   "outputs": [],
   "source": [
    "tuples=list(zip(*arrays))"
   ]
  },
  {
   "cell_type": "code",
   "execution_count": 20,
   "metadata": {},
   "outputs": [
    {
     "data": {
      "text/plain": [
       "[('bar', 'one'),\n",
       " ('bar', 'two'),\n",
       " ('baz', 'one'),\n",
       " ('baz', 'two'),\n",
       " ('foo', 'one'),\n",
       " ('foo', 'two'),\n",
       " ('qux', 'one'),\n",
       " ('qux', 'two')]"
      ]
     },
     "execution_count": 20,
     "metadata": {},
     "output_type": "execute_result"
    }
   ],
   "source": [
    "tuples"
   ]
  },
  {
   "cell_type": "code",
   "execution_count": 21,
   "metadata": {},
   "outputs": [],
   "source": [
    "index=pd.MultiIndex.from_tuples(tuples,names=['first','second'])"
   ]
  },
  {
   "cell_type": "code",
   "execution_count": 22,
   "metadata": {},
   "outputs": [
    {
     "data": {
      "text/plain": [
       "MultiIndex([('bar', 'one'),\n",
       "            ('bar', 'two'),\n",
       "            ('baz', 'one'),\n",
       "            ('baz', 'two'),\n",
       "            ('foo', 'one'),\n",
       "            ('foo', 'two'),\n",
       "            ('qux', 'one'),\n",
       "            ('qux', 'two')],\n",
       "           names=['first', 'second'])"
      ]
     },
     "execution_count": 22,
     "metadata": {},
     "output_type": "execute_result"
    }
   ],
   "source": [
    "index"
   ]
  },
  {
   "cell_type": "code",
   "execution_count": 23,
   "metadata": {},
   "outputs": [],
   "source": [
    "s=pd.Series(np.random.randn(8), index=index)"
   ]
  },
  {
   "cell_type": "code",
   "execution_count": 24,
   "metadata": {},
   "outputs": [
    {
     "data": {
      "text/plain": [
       "a    [1, 2]\n",
       "b    [3, 4]\n",
       "c    [4, 5]\n",
       "d    [6, 7]\n",
       "e    [8, 9]\n",
       "dtype: object"
      ]
     },
     "execution_count": 24,
     "metadata": {},
     "output_type": "execute_result"
    }
   ],
   "source": [
    "d={\"a\":[1,2],\"b\":[3,4],\"c\":[4,5],\"d\":[6,7],\"e\":[8,9]}\n",
    "pd.Series(d)"
   ]
  },
  {
   "cell_type": "code",
   "execution_count": 25,
   "metadata": {},
   "outputs": [
    {
     "data": {
      "text/html": [
       "<div>\n",
       "<style scoped>\n",
       "    .dataframe tbody tr th:only-of-type {\n",
       "        vertical-align: middle;\n",
       "    }\n",
       "\n",
       "    .dataframe tbody tr th {\n",
       "        vertical-align: top;\n",
       "    }\n",
       "\n",
       "    .dataframe thead th {\n",
       "        text-align: right;\n",
       "    }\n",
       "</style>\n",
       "<table border=\"1\" class=\"dataframe\">\n",
       "  <thead>\n",
       "    <tr style=\"text-align: right;\">\n",
       "      <th></th>\n",
       "      <th>a</th>\n",
       "      <th>b</th>\n",
       "      <th>c</th>\n",
       "      <th>d</th>\n",
       "      <th>e</th>\n",
       "    </tr>\n",
       "  </thead>\n",
       "  <tbody>\n",
       "    <tr>\n",
       "      <th>0</th>\n",
       "      <td>1</td>\n",
       "      <td>3</td>\n",
       "      <td>4</td>\n",
       "      <td>6</td>\n",
       "      <td>8</td>\n",
       "    </tr>\n",
       "    <tr>\n",
       "      <th>1</th>\n",
       "      <td>2</td>\n",
       "      <td>4</td>\n",
       "      <td>5</td>\n",
       "      <td>7</td>\n",
       "      <td>9</td>\n",
       "    </tr>\n",
       "  </tbody>\n",
       "</table>\n",
       "</div>"
      ],
      "text/plain": [
       "   a  b  c  d  e\n",
       "0  1  3  4  6  8\n",
       "1  2  4  5  7  9"
      ]
     },
     "execution_count": 25,
     "metadata": {},
     "output_type": "execute_result"
    }
   ],
   "source": [
    "df=pd.DataFrame(data=d)\n",
    "df"
   ]
  },
  {
   "cell_type": "code",
   "execution_count": null,
   "metadata": {},
   "outputs": [],
   "source": []
  },
  {
   "cell_type": "code",
   "execution_count": null,
   "metadata": {},
   "outputs": [],
   "source": []
  },
  {
   "cell_type": "code",
   "execution_count": 26,
   "metadata": {},
   "outputs": [
    {
     "data": {
      "text/html": [
       "<div>\n",
       "<style scoped>\n",
       "    .dataframe tbody tr th:only-of-type {\n",
       "        vertical-align: middle;\n",
       "    }\n",
       "\n",
       "    .dataframe tbody tr th {\n",
       "        vertical-align: top;\n",
       "    }\n",
       "\n",
       "    .dataframe thead th {\n",
       "        text-align: right;\n",
       "    }\n",
       "</style>\n",
       "<table border=\"1\" class=\"dataframe\">\n",
       "  <thead>\n",
       "    <tr style=\"text-align: right;\">\n",
       "      <th></th>\n",
       "      <th></th>\n",
       "      <th>local_price</th>\n",
       "    </tr>\n",
       "    <tr>\n",
       "      <th>date</th>\n",
       "      <th>name</th>\n",
       "      <th></th>\n",
       "    </tr>\n",
       "  </thead>\n",
       "  <tbody>\n",
       "    <tr>\n",
       "      <th rowspan=\"5\" valign=\"top\">2019-07-09</th>\n",
       "      <th>Argentina</th>\n",
       "      <td>120.00</td>\n",
       "    </tr>\n",
       "    <tr>\n",
       "      <th>Australia</th>\n",
       "      <td>6.15</td>\n",
       "    </tr>\n",
       "    <tr>\n",
       "      <th>Austria</th>\n",
       "      <td>3.81</td>\n",
       "    </tr>\n",
       "    <tr>\n",
       "      <th>Azerbaijan</th>\n",
       "      <td>3.95</td>\n",
       "    </tr>\n",
       "    <tr>\n",
       "      <th>Bahrain</th>\n",
       "      <td>1.40</td>\n",
       "    </tr>\n",
       "    <tr>\n",
       "      <th>...</th>\n",
       "      <th>...</th>\n",
       "      <td>...</td>\n",
       "    </tr>\n",
       "    <tr>\n",
       "      <th rowspan=\"5\" valign=\"top\">2000-04-01</th>\n",
       "      <th>Sweden</th>\n",
       "      <td>24.00</td>\n",
       "    </tr>\n",
       "    <tr>\n",
       "      <th>Switzerland</th>\n",
       "      <td>5.90</td>\n",
       "    </tr>\n",
       "    <tr>\n",
       "      <th>Taiwan</th>\n",
       "      <td>70.00</td>\n",
       "    </tr>\n",
       "    <tr>\n",
       "      <th>Thailand</th>\n",
       "      <td>55.00</td>\n",
       "    </tr>\n",
       "    <tr>\n",
       "      <th>United States</th>\n",
       "      <td>2.51</td>\n",
       "    </tr>\n",
       "  </tbody>\n",
       "</table>\n",
       "<p>1514 rows × 1 columns</p>\n",
       "</div>"
      ],
      "text/plain": [
       "                          local_price\n",
       "date       name                      \n",
       "2019-07-09 Argentina           120.00\n",
       "           Australia             6.15\n",
       "           Austria               3.81\n",
       "           Azerbaijan            3.95\n",
       "           Bahrain               1.40\n",
       "...                               ...\n",
       "2000-04-01 Sweden               24.00\n",
       "           Switzerland           5.90\n",
       "           Taiwan               70.00\n",
       "           Thailand             55.00\n",
       "           United States         2.51\n",
       "\n",
       "[1514 rows x 1 columns]"
      ]
     },
     "execution_count": 26,
     "metadata": {},
     "output_type": "execute_result"
    }
   ],
   "source": []
  },
  {
   "cell_type": "code",
   "execution_count": 304,
   "metadata": {},
   "outputs": [
    {
     "data": {
      "text/plain": [
       "['3.1', '3.14', '3.142', '3.1416', '3.14159']"
      ]
     },
     "execution_count": 304,
     "metadata": {},
     "output_type": "execute_result"
    }
   ],
   "source": [
    "from math import pi\n",
    "[str(round(pi, i)) for i in range(1,6)]"
   ]
  },
  {
   "cell_type": "code",
   "execution_count": 307,
   "metadata": {},
   "outputs": [
    {
     "name": "stdout",
     "output_type": "stream",
     "text": [
      "hello\n",
      "hello\n",
      "hello\n",
      "hello\n",
      "hello\n"
     ]
    }
   ],
   "source": []
  },
  {
   "cell_type": "code",
   "execution_count": 313,
   "metadata": {},
   "outputs": [
    {
     "data": {
      "text/plain": [
       "['3.1', '3.14', '3.142', '3.1416', '3.14159']"
      ]
     },
     "execution_count": 313,
     "metadata": {},
     "output_type": "execute_result"
    }
   ],
   "source": [
    "[str(round(pi, i)) for i in range (1,6)]"
   ]
  },
  {
   "cell_type": "code",
   "execution_count": 2,
   "metadata": {},
   "outputs": [
    {
     "ename": "NameError",
     "evalue": "name 'np' is not defined",
     "output_type": "error",
     "traceback": [
      "\u001b[1;31m---------------------------------------------------------------------------\u001b[0m",
      "\u001b[1;31mNameError\u001b[0m                                 Traceback (most recent call last)",
      "\u001b[1;32m<ipython-input-2-1383a81751dc>\u001b[0m in \u001b[0;36m<module>\u001b[1;34m\u001b[0m\n\u001b[1;32m----> 1\u001b[1;33m \u001b[0mrandom\u001b[0m\u001b[1;33m=\u001b[0m\u001b[0mnp\u001b[0m\u001b[1;33m.\u001b[0m\u001b[0mrandom\u001b[0m\u001b[1;33m.\u001b[0m\u001b[0mrandn\u001b[0m\u001b[1;33m(\u001b[0m\u001b[1;36m5\u001b[0m\u001b[1;33m)\u001b[0m\u001b[1;33m\u001b[0m\u001b[1;33m\u001b[0m\u001b[0m\n\u001b[0m",
      "\u001b[1;31mNameError\u001b[0m: name 'np' is not defined"
     ]
    }
   ],
   "source": []
  },
  {
   "cell_type": "code",
   "execution_count": 339,
   "metadata": {},
   "outputs": [],
   "source": []
  },
  {
   "cell_type": "code",
   "execution_count": 1,
   "metadata": {},
   "outputs": [
    {
     "ename": "NameError",
     "evalue": "name 'random' is not defined",
     "output_type": "error",
     "traceback": [
      "\u001b[1;31m---------------------------------------------------------------------------\u001b[0m",
      "\u001b[1;31mNameError\u001b[0m                                 Traceback (most recent call last)",
      "\u001b[1;32m<ipython-input-1-93597b7ad6c9>\u001b[0m in \u001b[0;36m<module>\u001b[1;34m\u001b[0m\n\u001b[1;32m----> 1\u001b[1;33m \u001b[0mrandom\u001b[0m\u001b[1;33m=\u001b[0m\u001b[1;33m(\u001b[0m\u001b[0mrandom\u001b[0m\u001b[1;33m)\u001b[0m\u001b[1;33m.\u001b[0m\u001b[0msplit\u001b[0m\u001b[1;33m(\u001b[0m\u001b[1;34m','\u001b[0m\u001b[1;33m)\u001b[0m\u001b[1;33m\u001b[0m\u001b[1;33m\u001b[0m\u001b[0m\n\u001b[0m",
      "\u001b[1;31mNameError\u001b[0m: name 'random' is not defined"
     ]
    }
   ],
   "source": []
  },
  {
   "cell_type": "code",
   "execution_count": 367,
   "metadata": {},
   "outputs": [
    {
     "data": {
      "text/plain": [
       "[-0.5150056158413747,\n",
       " -0.8882542893209011,\n",
       " 0.07679628228412673,\n",
       " -1.1734654898574068,\n",
       " 1.4275560321259473]"
      ]
     },
     "execution_count": 367,
     "metadata": {},
     "output_type": "execute_result"
    }
   ],
   "source": []
  },
  {
   "cell_type": "code",
   "execution_count": 368,
   "metadata": {},
   "outputs": [
    {
     "data": {
      "text/plain": [
       "'[-0.5150056158413747, -0.8882542893209011, 0.07679628228412673, -1.1734654898574068, 1.4275560321259473]'"
      ]
     },
     "execution_count": 368,
     "metadata": {},
     "output_type": "execute_result"
    }
   ],
   "source": []
  },
  {
   "cell_type": "code",
   "execution_count": null,
   "metadata": {},
   "outputs": [],
   "source": []
  }
 ],
 "metadata": {
  "kernelspec": {
   "display_name": "Python 3",
   "language": "python",
   "name": "python3"
  },
  "language_info": {
   "codemirror_mode": {
    "name": "ipython",
    "version": 3
   },
   "file_extension": ".py",
   "mimetype": "text/x-python",
   "name": "python",
   "nbconvert_exporter": "python",
   "pygments_lexer": "ipython3",
   "version": "3.8.3"
  }
 },
 "nbformat": 4,
 "nbformat_minor": 4
}
